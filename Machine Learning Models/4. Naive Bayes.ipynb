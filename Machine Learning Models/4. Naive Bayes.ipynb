{
 "cells": [
  {
   "cell_type": "markdown",
   "metadata": {},
   "source": [
    "# Data Intialization"
   ]
  },
  {
   "cell_type": "code",
   "execution_count": 1,
   "metadata": {},
   "outputs": [
    {
     "data": {
      "text/plain": [
       "<Figure size 1296x432 with 0 Axes>"
      ]
     },
     "metadata": {},
     "output_type": "display_data"
    }
   ],
   "source": [
    "import numpy as np \n",
    "import pandas as pd\n",
    "from sklearn import preprocessing\n",
    "\n",
    "# import libraries for data visualization\n",
    "import seaborn as sns\n",
    "import matplotlib.pyplot as plt\n",
    "%matplotlib inline\n",
    "fig = plt.figure(figsize=(18,6))\n",
    "\n",
    "# import libraries for machine learning (decision tree)\n",
    "from sklearn import tree\n",
    "from sklearn.model_selection import train_test_split\n",
    "from sklearn.model_selection import cross_val_score, cross_val_predict\n",
    "from sklearn.model_selection import GridSearchCV\n",
    "\n",
    "from sklearn import metrics\n",
    "from sklearn.metrics import mean_absolute_error\n",
    "from sklearn.metrics import accuracy_score\n",
    "from sklearn.metrics import classification_report\n",
    "from sklearn.metrics import confusion_matrix"
   ]
  },
  {
   "cell_type": "code",
   "execution_count": 2,
   "metadata": {},
   "outputs": [],
   "source": [
    "from sklearn.model_selection import cross_val_predict, cross_val_score\n",
    "from sklearn.naive_bayes import GaussianNB"
   ]
  },
  {
   "cell_type": "code",
   "execution_count": 3,
   "metadata": {},
   "outputs": [],
   "source": [
    "data = pd.read_csv('ECommerce_Cleansed.csv', index_col = 'CustomerID')\n",
    "features = list(data.columns)[1:]\n",
    "target = list(data.columns)[0]"
   ]
  },
  {
   "cell_type": "code",
   "execution_count": 4,
   "metadata": {},
   "outputs": [],
   "source": [
    "X = data.drop(['Churn'],axis='columns',inplace=False)\n",
    "y = data['Churn']"
   ]
  },
  {
   "cell_type": "code",
   "execution_count": 5,
   "metadata": {},
   "outputs": [],
   "source": [
    "X_train, X_test, y_train, y_test = train_test_split(X, y, test_size=0.3,random_state =42)"
   ]
  },
  {
   "cell_type": "markdown",
   "metadata": {},
   "source": [
    "# Machine Learning - Gaussian Naive Bayes"
   ]
  },
  {
   "cell_type": "code",
   "execution_count": 6,
   "metadata": {},
   "outputs": [],
   "source": [
    "gnb = GaussianNB()\n",
    "pred_y = cross_val_predict(gnb,X_test,y_test,cv=10)\n",
    "score = cross_val_score(gnb,X_test,y_test,cv=10)"
   ]
  },
  {
   "cell_type": "code",
   "execution_count": 7,
   "metadata": {},
   "outputs": [],
   "source": [
    "pred_val_maj_zero = np.zeros((1689,),dtype=int)\n",
    "pred_val_maj_one = np.ones((1689,),dtype=int)"
   ]
  },
  {
   "cell_type": "markdown",
   "metadata": {},
   "source": [
    "# Evaluation"
   ]
  },
  {
   "cell_type": "code",
   "execution_count": 8,
   "metadata": {},
   "outputs": [
    {
     "name": "stdout",
     "output_type": "stream",
     "text": [
      "Accuracy of Naive Bayes Model: \n",
      " 0.7572528123149793\n",
      "\n",
      "Confusion Matrix of Naive Bayes Model: \n",
      " [[1106  308]\n",
      " [ 102  173]]\n",
      "\n",
      "Classification Report of Naive Bayes Model: \n",
      "               precision    recall  f1-score   support\n",
      "\n",
      "           0       0.92      0.78      0.84      1414\n",
      "           1       0.36      0.63      0.46       275\n",
      "\n",
      "    accuracy                           0.76      1689\n",
      "   macro avg       0.64      0.71      0.65      1689\n",
      "weighted avg       0.83      0.76      0.78      1689\n",
      "\n"
     ]
    }
   ],
   "source": [
    "print(\"Accuracy of Naive Bayes Model:\",\"\\n\", accuracy_score(y_test, pred_y, normalize=True, sample_weight=None))\n",
    "print()\n",
    "print(\"Confusion Matrix of Naive Bayes Model:\", \"\\n\", confusion_matrix(y_test, pred_y))\n",
    "print()\n",
    "print(\"Classification Report of Naive Bayes Model:\",\"\\n\",classification_report(y_test, pred_y))"
   ]
  },
  {
   "cell_type": "code",
   "execution_count": 20,
   "metadata": {},
   "outputs": [
    {
     "name": "stdout",
     "output_type": "stream",
     "text": [
      "Accuracy of Benchmark Model 0: \n",
      " 0.837181764357608\n",
      "\n",
      "Confusion Matrix of Benchmark Model 0: \n",
      " [[1414    0]\n",
      " [ 275    0]]\n",
      "\n",
      "Classification Report of Benchmark Model 0: \n",
      "               precision    recall  f1-score   support\n",
      "\n",
      "           0       0.84      1.00      0.91      1414\n",
      "           1       0.00      0.00      0.00       275\n",
      "\n",
      "    accuracy                           0.84      1689\n",
      "   macro avg       0.42      0.50      0.46      1689\n",
      "weighted avg       0.70      0.84      0.76      1689\n",
      "\n"
     ]
    },
    {
     "name": "stderr",
     "output_type": "stream",
     "text": [
      "C:\\Users\\USER\\Anaconda3\\lib\\site-packages\\sklearn\\metrics\\classification.py:1437: UndefinedMetricWarning: Precision and F-score are ill-defined and being set to 0.0 in labels with no predicted samples.\n",
      "  'precision', 'predicted', average, warn_for)\n"
     ]
    }
   ],
   "source": [
    "print(\"Accuracy of Benchmark Model 0:\",\"\\n\", accuracy_score(y_test , pred_val_maj_zero , normalize=True, sample_weight=None))\n",
    "print()\n",
    "print(\"Confusion Matrix of Benchmark Model 0:\", \"\\n\", confusion_matrix(y_test, pred_val_maj_zero))\n",
    "print()\n",
    "print(\"Classification Report of Benchmark Model 0:\", \"\\n\", classification_report(y_test, pred_val_maj_zero))"
   ]
  },
  {
   "cell_type": "code",
   "execution_count": 21,
   "metadata": {},
   "outputs": [
    {
     "name": "stdout",
     "output_type": "stream",
     "text": [
      "Accuracy of Benchmark Model: \n",
      " 0.16281823564239195\n",
      "\n",
      "Confusion Matrix of Benchmark Model: \n",
      " [[   0 1414]\n",
      " [   0  275]]\n",
      "\n",
      "Classification Report of Benchmark Model: \n",
      "               precision    recall  f1-score   support\n",
      "\n",
      "           0       0.00      0.00      0.00      1414\n",
      "           1       0.16      1.00      0.28       275\n",
      "\n",
      "    accuracy                           0.16      1689\n",
      "   macro avg       0.08      0.50      0.14      1689\n",
      "weighted avg       0.03      0.16      0.05      1689\n",
      "\n"
     ]
    }
   ],
   "source": [
    "print(\"Accuracy of Benchmark Model:\",\"\\n\", accuracy_score(y_test, pred_val_maj_one, normalize=True, sample_weight=None))\n",
    "print()\n",
    "print(\"Confusion Matrix of Benchmark Model:\", \"\\n\", confusion_matrix(y_test, pred_val_maj_one))\n",
    "print()\n",
    "print(\"Classification Report of Benchmark Model:\", \"\\n\", classification_report(y_test, pred_val_maj_one))"
   ]
  },
  {
   "cell_type": "markdown",
   "metadata": {},
   "source": [
    "### ROC / AUC Curve"
   ]
  },
  {
   "cell_type": "code",
   "execution_count": 11,
   "metadata": {},
   "outputs": [
    {
     "data": {
      "text/plain": [
       "GaussianNB(priors=None, var_smoothing=1e-09)"
      ]
     },
     "execution_count": 11,
     "metadata": {},
     "output_type": "execute_result"
    }
   ],
   "source": [
    "gnb.fit(X_train, y_train)"
   ]
  },
  {
   "cell_type": "code",
   "execution_count": 12,
   "metadata": {},
   "outputs": [
    {
     "data": {
      "text/plain": [
       "array([[9.10155549e-04, 9.99089844e-01],\n",
       "       [9.95587013e-01, 4.41298666e-03],\n",
       "       [9.72834796e-01, 2.71652037e-02],\n",
       "       ...,\n",
       "       [6.32234006e-04, 9.99367766e-01],\n",
       "       [1.39027076e-02, 9.86097292e-01],\n",
       "       [7.36823459e-01, 2.63176541e-01]])"
      ]
     },
     "execution_count": 12,
     "metadata": {},
     "output_type": "execute_result"
    }
   ],
   "source": [
    "from sklearn.metrics import roc_curve\n",
    "from sklearn.metrics import auc\n",
    "\n",
    "# test model (output probability estimate)\n",
    "# https://scikit-learn.org/stable/modules/generated/sklearn.naive_bayes.GaussianNB.html#sklearn.naive_bayes.GaussianNB.predict_proba\n",
    "pred_prob = gnb.predict_proba(X_test)\n",
    "\n",
    "\n",
    "# show the probability of belonging to class 0 and class 1\n",
    "pred_prob"
   ]
  },
  {
   "cell_type": "code",
   "execution_count": 13,
   "metadata": {},
   "outputs": [
    {
     "data": {
      "text/plain": [
       "array([0.99908984, 0.00441299, 0.0271652 , ..., 0.99936777, 0.98609729,\n",
       "       0.26317654])"
      ]
     },
     "execution_count": 13,
     "metadata": {},
     "output_type": "execute_result"
    }
   ],
   "source": [
    "pred_prob[:,1]"
   ]
  },
  {
   "cell_type": "code",
   "execution_count": 14,
   "metadata": {},
   "outputs": [],
   "source": [
    "fpr, tpr, thresholds = roc_curve(y_test, pred_prob[:,1], pos_label=1)\n",
    "fpr0, tpr0, thresholds0 = roc_curve(y_test, pred_val_maj_zero, pos_label=1)\n",
    "fpr1, tpr1, thresholds1 = roc_curve(y_test, pred_val_maj_one, pos_label=1)\n",
    "roc_auc=auc(fpr,tpr)\n",
    "roc_auc0=auc(fpr0,tpr0)\n",
    "roc_auc1=auc(fpr1,tpr1)"
   ]
  },
  {
   "cell_type": "code",
   "execution_count": 19,
   "metadata": {},
   "outputs": [
    {
     "data": {
      "image/png": "[encoded data removed]",
      "text/plain": [
       "<Figure size 432x288 with 1 Axes>"
      ]
     },
     "metadata": {
      "needs_background": "light"
     },
     "output_type": "display_data"
    }
   ],
   "source": [
    "import matplotlib.pyplot as plt\n",
    "%matplotlib inline\n",
    "\n",
    "plt.figure()\n",
    "lw = 2\n",
    "plt.plot(fpr, tpr,color='darkorange', label='Naive Bayes')\n",
    "plt.plot(fpr0, tpr0, label='Benchmark0')\n",
    "plt.plot(fpr1, tpr1, label='Benchmark1')\n",
    "plt.xlim([-0.05, 1.0])\n",
    "plt.ylim([0.0, 1.05])\n",
    "plt.xlabel('False Positive Rate')\n",
    "plt.ylabel('True Positive Rate')\n",
    "plt.title('Receiver operating characteristic')\n",
    "plt.legend(loc=\"lower right\")\n",
    "plt.show()"
   ]
  },
  {
   "cell_type": "markdown",
   "metadata": {},
   "source": [
    "### Precision-Recall Curve"
   ]
  },
  {
   "cell_type": "code",
   "execution_count": 124,
   "metadata": {},
   "outputs": [],
   "source": [
    "from sklearn.metrics import precision_recall_curve\n",
    "precision, recall, threshold = precision_recall_curve(y_test,  pred_prob[:,1])\n",
    "precision0, recall0, threshold0 = precision_recall_curve(y_test, pred_val_maj_zero)\n",
    "precision1, recall1, threshold1 = precision_recall_curve(y_test, pred_val_maj_one)"
   ]
  },
  {
   "cell_type": "code",
   "execution_count": 125,
   "metadata": {},
   "outputs": [
    {
     "data": {
      "text/plain": [
       "<matplotlib.legend.Legend at 0x1cb09265588>"
      ]
     },
     "execution_count": 125,
     "metadata": {},
     "output_type": "execute_result"
    },
    {
     "data": {
      "image/png": "[encoded data removed]",
      "text/plain": [
       "<Figure size 432x288 with 1 Axes>"
      ]
     },
     "metadata": {
      "needs_background": "light"
     },
     "output_type": "display_data"
    }
   ],
   "source": [
    "plt.plot(precision,recall, label='naive bayes') \n",
    "plt.plot(precision0,recall0, label='benchmark0')\n",
    "plt.plot(precision1,recall1, label='benchmark1')\n",
    "plt.xlabel('Precision')\n",
    "plt.ylabel('Recall')\n",
    "plt.title('Precision-Recall Curve')\n",
    "plt.legend()"
   ]
  }
 ],
 "metadata": {
  "kernelspec": {
   "display_name": "Python 3",
   "language": "python",
   "name": "python3"
  },
  "language_info": {
   "codemirror_mode": {
    "name": "ipython",
    "version": 3
   },
   "file_extension": ".py",
   "mimetype": "text/x-python",
   "name": "python",
   "nbconvert_exporter": "python",
   "pygments_lexer": "ipython3",
   "version": "3.6.5"
  }
 },
 "nbformat": 4,
 "nbformat_minor": 2
}
