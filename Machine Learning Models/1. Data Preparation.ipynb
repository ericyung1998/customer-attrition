{
 "cells": [
  {
   "cell_type": "markdown",
   "metadata": {},
   "source": [
    "# Data Initialization"
   ]
  },
  {
   "cell_type": "code",
   "execution_count": 1,
   "metadata": {},
   "outputs": [
    {
     "data": {
      "text/plain": [
       "<Figure size 1296x432 with 0 Axes>"
      ]
     },
     "metadata": {},
     "output_type": "display_data"
    }
   ],
   "source": [
    "# import libraries for data management\n",
    "import numpy as np \n",
    "import pandas as pd\n",
    "from sklearn import preprocessing\n",
    "\n",
    "# import libraries for data visualization\n",
    "import seaborn as sns\n",
    "import matplotlib.pyplot as plt\n",
    "%matplotlib inline\n",
    "fig = plt.figure(figsize=(18,6))\n",
    "\n",
    "# import libraries for machine learning (decision tree)\n",
    "from sklearn import tree\n",
    "from sklearn import metrics\n",
    "from sklearn.model_selection import train_test_split\n",
    "from sklearn.model_selection import cross_val_score, cross_val_predict\n",
    "from sklearn.model_selection import GridSearchCV\n",
    "from sklearn.linear_model import LinearRegression"
   ]
  },
  {
   "cell_type": "code",
   "execution_count": 2,
   "metadata": {},
   "outputs": [],
   "source": [
    "# load datasets\n",
    "full = pd.read_csv('ECommerce.csv',index_col = 'CustomerID')"
   ]
  },
  {
   "cell_type": "markdown",
   "metadata": {},
   "source": [
    "# Data Exploration"
   ]
  },
  {
   "cell_type": "code",
   "execution_count": 3,
   "metadata": {},
   "outputs": [
    {
     "data": {
      "text/html": [
       "<div>\n",
       "<style scoped>\n",
       "    .dataframe tbody tr th:only-of-type {\n",
       "        vertical-align: middle;\n",
       "    }\n",
       "\n",
       "    .dataframe tbody tr th {\n",
       "        vertical-align: top;\n",
       "    }\n",
       "\n",
       "    .dataframe thead th {\n",
       "        text-align: right;\n",
       "    }\n",
       "</style>\n",
       "<table border=\"1\" class=\"dataframe\">\n",
       "  <thead>\n",
       "    <tr style=\"text-align: right;\">\n",
       "      <th></th>\n",
       "      <th>Churn</th>\n",
       "      <th>Tenure</th>\n",
       "      <th>PreferredLoginDevice</th>\n",
       "      <th>CityTier</th>\n",
       "      <th>WarehouseToHome</th>\n",
       "      <th>PreferredPaymentMode</th>\n",
       "      <th>Gender</th>\n",
       "      <th>HourSpendOnApp</th>\n",
       "      <th>NumberOfDeviceRegistered</th>\n",
       "      <th>PreferedOrderCat</th>\n",
       "      <th>SatisfactionScore</th>\n",
       "      <th>MaritalStatus</th>\n",
       "      <th>NumberOfAddress</th>\n",
       "      <th>Complain</th>\n",
       "      <th>OrderAmountHikeFromlastYear</th>\n",
       "      <th>CouponUsed</th>\n",
       "      <th>OrderCount</th>\n",
       "      <th>DaySinceLastOrder</th>\n",
       "      <th>CashbackAmount</th>\n",
       "    </tr>\n",
       "    <tr>\n",
       "      <th>CustomerID</th>\n",
       "      <th></th>\n",
       "      <th></th>\n",
       "      <th></th>\n",
       "      <th></th>\n",
       "      <th></th>\n",
       "      <th></th>\n",
       "      <th></th>\n",
       "      <th></th>\n",
       "      <th></th>\n",
       "      <th></th>\n",
       "      <th></th>\n",
       "      <th></th>\n",
       "      <th></th>\n",
       "      <th></th>\n",
       "      <th></th>\n",
       "      <th></th>\n",
       "      <th></th>\n",
       "      <th></th>\n",
       "      <th></th>\n",
       "    </tr>\n",
       "  </thead>\n",
       "  <tbody>\n",
       "    <tr>\n",
       "      <th>50001</th>\n",
       "      <td>1</td>\n",
       "      <td>4.0</td>\n",
       "      <td>Mobile Phone</td>\n",
       "      <td>3</td>\n",
       "      <td>6.0</td>\n",
       "      <td>Debit Card</td>\n",
       "      <td>Female</td>\n",
       "      <td>3.0</td>\n",
       "      <td>3</td>\n",
       "      <td>Laptop &amp; Accessory</td>\n",
       "      <td>2</td>\n",
       "      <td>Single</td>\n",
       "      <td>9</td>\n",
       "      <td>1</td>\n",
       "      <td>11.0</td>\n",
       "      <td>1.0</td>\n",
       "      <td>1.0</td>\n",
       "      <td>5.0</td>\n",
       "      <td>159.93</td>\n",
       "    </tr>\n",
       "    <tr>\n",
       "      <th>50002</th>\n",
       "      <td>1</td>\n",
       "      <td>NaN</td>\n",
       "      <td>Phone</td>\n",
       "      <td>1</td>\n",
       "      <td>8.0</td>\n",
       "      <td>UPI</td>\n",
       "      <td>Male</td>\n",
       "      <td>3.0</td>\n",
       "      <td>4</td>\n",
       "      <td>Mobile</td>\n",
       "      <td>3</td>\n",
       "      <td>Single</td>\n",
       "      <td>7</td>\n",
       "      <td>1</td>\n",
       "      <td>15.0</td>\n",
       "      <td>0.0</td>\n",
       "      <td>1.0</td>\n",
       "      <td>0.0</td>\n",
       "      <td>120.90</td>\n",
       "    </tr>\n",
       "    <tr>\n",
       "      <th>50003</th>\n",
       "      <td>1</td>\n",
       "      <td>NaN</td>\n",
       "      <td>Phone</td>\n",
       "      <td>1</td>\n",
       "      <td>30.0</td>\n",
       "      <td>Debit Card</td>\n",
       "      <td>Male</td>\n",
       "      <td>2.0</td>\n",
       "      <td>4</td>\n",
       "      <td>Mobile</td>\n",
       "      <td>3</td>\n",
       "      <td>Single</td>\n",
       "      <td>6</td>\n",
       "      <td>1</td>\n",
       "      <td>14.0</td>\n",
       "      <td>0.0</td>\n",
       "      <td>1.0</td>\n",
       "      <td>3.0</td>\n",
       "      <td>120.28</td>\n",
       "    </tr>\n",
       "    <tr>\n",
       "      <th>50004</th>\n",
       "      <td>1</td>\n",
       "      <td>0.0</td>\n",
       "      <td>Phone</td>\n",
       "      <td>3</td>\n",
       "      <td>15.0</td>\n",
       "      <td>Debit Card</td>\n",
       "      <td>Male</td>\n",
       "      <td>2.0</td>\n",
       "      <td>4</td>\n",
       "      <td>Laptop &amp; Accessory</td>\n",
       "      <td>5</td>\n",
       "      <td>Single</td>\n",
       "      <td>8</td>\n",
       "      <td>0</td>\n",
       "      <td>23.0</td>\n",
       "      <td>0.0</td>\n",
       "      <td>1.0</td>\n",
       "      <td>3.0</td>\n",
       "      <td>134.07</td>\n",
       "    </tr>\n",
       "    <tr>\n",
       "      <th>50005</th>\n",
       "      <td>1</td>\n",
       "      <td>0.0</td>\n",
       "      <td>Phone</td>\n",
       "      <td>1</td>\n",
       "      <td>12.0</td>\n",
       "      <td>CC</td>\n",
       "      <td>Male</td>\n",
       "      <td>NaN</td>\n",
       "      <td>3</td>\n",
       "      <td>Mobile</td>\n",
       "      <td>5</td>\n",
       "      <td>Single</td>\n",
       "      <td>3</td>\n",
       "      <td>0</td>\n",
       "      <td>11.0</td>\n",
       "      <td>1.0</td>\n",
       "      <td>1.0</td>\n",
       "      <td>3.0</td>\n",
       "      <td>129.60</td>\n",
       "    </tr>\n",
       "  </tbody>\n",
       "</table>\n",
       "</div>"
      ],
      "text/plain": [
       "            Churn  Tenure PreferredLoginDevice  CityTier  WarehouseToHome  \\\n",
       "CustomerID                                                                  \n",
       "50001           1     4.0         Mobile Phone         3              6.0   \n",
       "50002           1     NaN                Phone         1              8.0   \n",
       "50003           1     NaN                Phone         1             30.0   \n",
       "50004           1     0.0                Phone         3             15.0   \n",
       "50005           1     0.0                Phone         1             12.0   \n",
       "\n",
       "           PreferredPaymentMode  Gender  HourSpendOnApp  \\\n",
       "CustomerID                                                \n",
       "50001                Debit Card  Female             3.0   \n",
       "50002                       UPI    Male             3.0   \n",
       "50003                Debit Card    Male             2.0   \n",
       "50004                Debit Card    Male             2.0   \n",
       "50005                        CC    Male             NaN   \n",
       "\n",
       "            NumberOfDeviceRegistered    PreferedOrderCat  SatisfactionScore  \\\n",
       "CustomerID                                                                    \n",
       "50001                              3  Laptop & Accessory                  2   \n",
       "50002                              4              Mobile                  3   \n",
       "50003                              4              Mobile                  3   \n",
       "50004                              4  Laptop & Accessory                  5   \n",
       "50005                              3              Mobile                  5   \n",
       "\n",
       "           MaritalStatus  NumberOfAddress  Complain  \\\n",
       "CustomerID                                            \n",
       "50001             Single                9         1   \n",
       "50002             Single                7         1   \n",
       "50003             Single                6         1   \n",
       "50004             Single                8         0   \n",
       "50005             Single                3         0   \n",
       "\n",
       "            OrderAmountHikeFromlastYear  CouponUsed  OrderCount  \\\n",
       "CustomerID                                                        \n",
       "50001                              11.0         1.0         1.0   \n",
       "50002                              15.0         0.0         1.0   \n",
       "50003                              14.0         0.0         1.0   \n",
       "50004                              23.0         0.0         1.0   \n",
       "50005                              11.0         1.0         1.0   \n",
       "\n",
       "            DaySinceLastOrder  CashbackAmount  \n",
       "CustomerID                                     \n",
       "50001                     5.0          159.93  \n",
       "50002                     0.0          120.90  \n",
       "50003                     3.0          120.28  \n",
       "50004                     3.0          134.07  \n",
       "50005                     3.0          129.60  "
      ]
     },
     "execution_count": 3,
     "metadata": {},
     "output_type": "execute_result"
    }
   ],
   "source": [
    "# dataset head\n",
    "full.head()"
   ]
  },
  {
   "cell_type": "code",
   "execution_count": 4,
   "metadata": {},
   "outputs": [
    {
     "name": "stdout",
     "output_type": "stream",
     "text": [
      "<class 'pandas.core.frame.DataFrame'>\n",
      "Int64Index: 5630 entries, 50001 to 55630\n",
      "Data columns (total 19 columns):\n",
      "Churn                          5630 non-null int64\n",
      "Tenure                         5366 non-null float64\n",
      "PreferredLoginDevice           5630 non-null object\n",
      "CityTier                       5630 non-null int64\n",
      "WarehouseToHome                5379 non-null float64\n",
      "PreferredPaymentMode           5630 non-null object\n",
      "Gender                         5630 non-null object\n",
      "HourSpendOnApp                 5375 non-null float64\n",
      "NumberOfDeviceRegistered       5630 non-null int64\n",
      "PreferedOrderCat               5630 non-null object\n",
      "SatisfactionScore              5630 non-null int64\n",
      "MaritalStatus                  5630 non-null object\n",
      "NumberOfAddress                5630 non-null int64\n",
      "Complain                       5630 non-null int64\n",
      "OrderAmountHikeFromlastYear    5365 non-null float64\n",
      "CouponUsed                     5374 non-null float64\n",
      "OrderCount                     5372 non-null float64\n",
      "DaySinceLastOrder              5323 non-null float64\n",
      "CashbackAmount                 5630 non-null float64\n",
      "dtypes: float64(8), int64(6), object(5)\n",
      "memory usage: 879.7+ KB\n"
     ]
    },
    {
     "data": {
      "text/html": [
       "<div>\n",
       "<style scoped>\n",
       "    .dataframe tbody tr th:only-of-type {\n",
       "        vertical-align: middle;\n",
       "    }\n",
       "\n",
       "    .dataframe tbody tr th {\n",
       "        vertical-align: top;\n",
       "    }\n",
       "\n",
       "    .dataframe thead th {\n",
       "        text-align: right;\n",
       "    }\n",
       "</style>\n",
       "<table border=\"1\" class=\"dataframe\">\n",
       "  <thead>\n",
       "    <tr style=\"text-align: right;\">\n",
       "      <th></th>\n",
       "      <th>Churn</th>\n",
       "      <th>Tenure</th>\n",
       "      <th>CityTier</th>\n",
       "      <th>WarehouseToHome</th>\n",
       "      <th>HourSpendOnApp</th>\n",
       "      <th>NumberOfDeviceRegistered</th>\n",
       "      <th>SatisfactionScore</th>\n",
       "      <th>NumberOfAddress</th>\n",
       "      <th>Complain</th>\n",
       "      <th>OrderAmountHikeFromlastYear</th>\n",
       "      <th>CouponUsed</th>\n",
       "      <th>OrderCount</th>\n",
       "      <th>DaySinceLastOrder</th>\n",
       "      <th>CashbackAmount</th>\n",
       "    </tr>\n",
       "  </thead>\n",
       "  <tbody>\n",
       "    <tr>\n",
       "      <th>count</th>\n",
       "      <td>5630.000000</td>\n",
       "      <td>5366.000000</td>\n",
       "      <td>5630.000000</td>\n",
       "      <td>5379.000000</td>\n",
       "      <td>5375.000000</td>\n",
       "      <td>5630.000000</td>\n",
       "      <td>5630.000000</td>\n",
       "      <td>5630.000000</td>\n",
       "      <td>5630.000000</td>\n",
       "      <td>5365.000000</td>\n",
       "      <td>5374.000000</td>\n",
       "      <td>5372.000000</td>\n",
       "      <td>5323.000000</td>\n",
       "      <td>5630.000000</td>\n",
       "    </tr>\n",
       "    <tr>\n",
       "      <th>mean</th>\n",
       "      <td>0.168384</td>\n",
       "      <td>10.189899</td>\n",
       "      <td>1.654707</td>\n",
       "      <td>15.639896</td>\n",
       "      <td>2.931535</td>\n",
       "      <td>3.688988</td>\n",
       "      <td>3.066785</td>\n",
       "      <td>4.214032</td>\n",
       "      <td>0.284902</td>\n",
       "      <td>15.707922</td>\n",
       "      <td>1.751023</td>\n",
       "      <td>3.008004</td>\n",
       "      <td>4.543491</td>\n",
       "      <td>177.223030</td>\n",
       "    </tr>\n",
       "    <tr>\n",
       "      <th>std</th>\n",
       "      <td>0.374240</td>\n",
       "      <td>8.557241</td>\n",
       "      <td>0.915389</td>\n",
       "      <td>8.531475</td>\n",
       "      <td>0.721926</td>\n",
       "      <td>1.023999</td>\n",
       "      <td>1.380194</td>\n",
       "      <td>2.583586</td>\n",
       "      <td>0.451408</td>\n",
       "      <td>3.675485</td>\n",
       "      <td>1.894621</td>\n",
       "      <td>2.939680</td>\n",
       "      <td>3.654433</td>\n",
       "      <td>49.207036</td>\n",
       "    </tr>\n",
       "    <tr>\n",
       "      <th>min</th>\n",
       "      <td>0.000000</td>\n",
       "      <td>0.000000</td>\n",
       "      <td>1.000000</td>\n",
       "      <td>5.000000</td>\n",
       "      <td>0.000000</td>\n",
       "      <td>1.000000</td>\n",
       "      <td>1.000000</td>\n",
       "      <td>1.000000</td>\n",
       "      <td>0.000000</td>\n",
       "      <td>11.000000</td>\n",
       "      <td>0.000000</td>\n",
       "      <td>1.000000</td>\n",
       "      <td>0.000000</td>\n",
       "      <td>0.000000</td>\n",
       "    </tr>\n",
       "    <tr>\n",
       "      <th>25%</th>\n",
       "      <td>0.000000</td>\n",
       "      <td>2.000000</td>\n",
       "      <td>1.000000</td>\n",
       "      <td>9.000000</td>\n",
       "      <td>2.000000</td>\n",
       "      <td>3.000000</td>\n",
       "      <td>2.000000</td>\n",
       "      <td>2.000000</td>\n",
       "      <td>0.000000</td>\n",
       "      <td>13.000000</td>\n",
       "      <td>1.000000</td>\n",
       "      <td>1.000000</td>\n",
       "      <td>2.000000</td>\n",
       "      <td>145.770000</td>\n",
       "    </tr>\n",
       "    <tr>\n",
       "      <th>50%</th>\n",
       "      <td>0.000000</td>\n",
       "      <td>9.000000</td>\n",
       "      <td>1.000000</td>\n",
       "      <td>14.000000</td>\n",
       "      <td>3.000000</td>\n",
       "      <td>4.000000</td>\n",
       "      <td>3.000000</td>\n",
       "      <td>3.000000</td>\n",
       "      <td>0.000000</td>\n",
       "      <td>15.000000</td>\n",
       "      <td>1.000000</td>\n",
       "      <td>2.000000</td>\n",
       "      <td>3.000000</td>\n",
       "      <td>163.280000</td>\n",
       "    </tr>\n",
       "    <tr>\n",
       "      <th>75%</th>\n",
       "      <td>0.000000</td>\n",
       "      <td>16.000000</td>\n",
       "      <td>3.000000</td>\n",
       "      <td>20.000000</td>\n",
       "      <td>3.000000</td>\n",
       "      <td>4.000000</td>\n",
       "      <td>4.000000</td>\n",
       "      <td>6.000000</td>\n",
       "      <td>1.000000</td>\n",
       "      <td>18.000000</td>\n",
       "      <td>2.000000</td>\n",
       "      <td>3.000000</td>\n",
       "      <td>7.000000</td>\n",
       "      <td>196.392500</td>\n",
       "    </tr>\n",
       "    <tr>\n",
       "      <th>max</th>\n",
       "      <td>1.000000</td>\n",
       "      <td>61.000000</td>\n",
       "      <td>3.000000</td>\n",
       "      <td>127.000000</td>\n",
       "      <td>5.000000</td>\n",
       "      <td>6.000000</td>\n",
       "      <td>5.000000</td>\n",
       "      <td>22.000000</td>\n",
       "      <td>1.000000</td>\n",
       "      <td>26.000000</td>\n",
       "      <td>16.000000</td>\n",
       "      <td>16.000000</td>\n",
       "      <td>46.000000</td>\n",
       "      <td>324.990000</td>\n",
       "    </tr>\n",
       "  </tbody>\n",
       "</table>\n",
       "</div>"
      ],
      "text/plain": [
       "             Churn       Tenure     CityTier  WarehouseToHome  HourSpendOnApp  \\\n",
       "count  5630.000000  5366.000000  5630.000000      5379.000000     5375.000000   \n",
       "mean      0.168384    10.189899     1.654707        15.639896        2.931535   \n",
       "std       0.374240     8.557241     0.915389         8.531475        0.721926   \n",
       "min       0.000000     0.000000     1.000000         5.000000        0.000000   \n",
       "25%       0.000000     2.000000     1.000000         9.000000        2.000000   \n",
       "50%       0.000000     9.000000     1.000000        14.000000        3.000000   \n",
       "75%       0.000000    16.000000     3.000000        20.000000        3.000000   \n",
       "max       1.000000    61.000000     3.000000       127.000000        5.000000   \n",
       "\n",
       "       NumberOfDeviceRegistered  SatisfactionScore  NumberOfAddress  \\\n",
       "count               5630.000000        5630.000000      5630.000000   \n",
       "mean                   3.688988           3.066785         4.214032   \n",
       "std                    1.023999           1.380194         2.583586   \n",
       "min                    1.000000           1.000000         1.000000   \n",
       "25%                    3.000000           2.000000         2.000000   \n",
       "50%                    4.000000           3.000000         3.000000   \n",
       "75%                    4.000000           4.000000         6.000000   \n",
       "max                    6.000000           5.000000        22.000000   \n",
       "\n",
       "          Complain  OrderAmountHikeFromlastYear   CouponUsed   OrderCount  \\\n",
       "count  5630.000000                  5365.000000  5374.000000  5372.000000   \n",
       "mean      0.284902                    15.707922     1.751023     3.008004   \n",
       "std       0.451408                     3.675485     1.894621     2.939680   \n",
       "min       0.000000                    11.000000     0.000000     1.000000   \n",
       "25%       0.000000                    13.000000     1.000000     1.000000   \n",
       "50%       0.000000                    15.000000     1.000000     2.000000   \n",
       "75%       1.000000                    18.000000     2.000000     3.000000   \n",
       "max       1.000000                    26.000000    16.000000    16.000000   \n",
       "\n",
       "       DaySinceLastOrder  CashbackAmount  \n",
       "count        5323.000000     5630.000000  \n",
       "mean            4.543491      177.223030  \n",
       "std             3.654433       49.207036  \n",
       "min             0.000000        0.000000  \n",
       "25%             2.000000      145.770000  \n",
       "50%             3.000000      163.280000  \n",
       "75%             7.000000      196.392500  \n",
       "max            46.000000      324.990000  "
      ]
     },
     "execution_count": 4,
     "metadata": {},
     "output_type": "execute_result"
    }
   ],
   "source": [
    "# to view dataset info before cleansing\n",
    "full.info()\n",
    "full.describe()"
   ]
  },
  {
   "cell_type": "markdown",
   "metadata": {},
   "source": [
    "# Data Visualization"
   ]
  },
  {
   "cell_type": "code",
   "execution_count": 5,
   "metadata": {},
   "outputs": [
    {
     "data": {
      "image/png": "[encoded data removed]",
      "text/plain": [
       "<Figure size 432x288 with 1 Axes>"
      ]
     },
     "metadata": {},
     "output_type": "display_data"
    }
   ],
   "source": [
    "# check churn / not churn customers -> more unchurn customers than churn customers\n",
    "\n",
    "ax=full['Churn'].value_counts().plot(kind='bar')"
   ]
  },
  {
   "cell_type": "code",
   "execution_count": 6,
   "metadata": {},
   "outputs": [
    {
     "data": {
      "image/png": "[encoded data removed]",
      "text/plain": [
       "<Figure size 432x288 with 1 Axes>"
      ]
     },
     "metadata": {},
     "output_type": "display_data"
    }
   ],
   "source": [
    "# check spread of HourSpendOnApp churn -> churn customers spend less time on App\n",
    "\n",
    "ax=sns.boxplot(x=full['Churn'],y=full['HourSpendOnApp'])"
   ]
  },
  {
   "cell_type": "markdown",
   "metadata": {},
   "source": [
    "# Data Cleansing"
   ]
  },
  {
   "cell_type": "markdown",
   "metadata": {},
   "source": [
    "#### Total of 7 variables will need to be cleansed\n",
    "\n",
    "#### Tenure (5366) / WarehouseToHome (5379) / HourSpendOnApp (5375) / OrderAmountHikeFromlastYear (5365) / CouponUsed (5374) / OrderCount (5372) / DaySinceLastOrder (5323)"
   ]
  },
  {
   "cell_type": "markdown",
   "metadata": {},
   "source": [
    "### HourSpendOnApp"
   ]
  },
  {
   "cell_type": "code",
   "execution_count": 7,
   "metadata": {},
   "outputs": [
    {
     "data": {
      "text/plain": [
       "<matplotlib.axes._subplots.AxesSubplot at 0x255135b5ba8>"
      ]
     },
     "execution_count": 7,
     "metadata": {},
     "output_type": "execute_result"
    },
    {
     "data": {
      "image/png": "[encoded data removed]",
      "text/plain": [
       "<Figure size 432x288 with 1 Axes>"
      ]
     },
     "metadata": {},
     "output_type": "display_data"
    }
   ],
   "source": [
    "# visually determine whether there is correlation between HourSpendOnApp and the PreferredLoginDevice\n",
    "\n",
    "sns.scatterplot(data=full, x='PreferredLoginDevice', y='HourSpendOnApp')"
   ]
  },
  {
   "cell_type": "code",
   "execution_count": 8,
   "metadata": {},
   "outputs": [
    {
     "data": {
      "text/html": [
       "<div>\n",
       "<style scoped>\n",
       "    .dataframe tbody tr th:only-of-type {\n",
       "        vertical-align: middle;\n",
       "    }\n",
       "\n",
       "    .dataframe tbody tr th {\n",
       "        vertical-align: top;\n",
       "    }\n",
       "\n",
       "    .dataframe thead th {\n",
       "        text-align: right;\n",
       "    }\n",
       "</style>\n",
       "<table border=\"1\" class=\"dataframe\">\n",
       "  <thead>\n",
       "    <tr style=\"text-align: right;\">\n",
       "      <th></th>\n",
       "      <th>Churn</th>\n",
       "      <th>Tenure</th>\n",
       "      <th>CityTier</th>\n",
       "      <th>WarehouseToHome</th>\n",
       "      <th>HourSpendOnApp</th>\n",
       "      <th>NumberOfDeviceRegistered</th>\n",
       "      <th>SatisfactionScore</th>\n",
       "      <th>NumberOfAddress</th>\n",
       "      <th>Complain</th>\n",
       "      <th>OrderAmountHikeFromlastYear</th>\n",
       "      <th>CouponUsed</th>\n",
       "      <th>OrderCount</th>\n",
       "      <th>DaySinceLastOrder</th>\n",
       "      <th>CashbackAmount</th>\n",
       "    </tr>\n",
       "    <tr>\n",
       "      <th>PreferredLoginDevice</th>\n",
       "      <th></th>\n",
       "      <th></th>\n",
       "      <th></th>\n",
       "      <th></th>\n",
       "      <th></th>\n",
       "      <th></th>\n",
       "      <th></th>\n",
       "      <th></th>\n",
       "      <th></th>\n",
       "      <th></th>\n",
       "      <th></th>\n",
       "      <th></th>\n",
       "      <th></th>\n",
       "      <th></th>\n",
       "    </tr>\n",
       "  </thead>\n",
       "  <tbody>\n",
       "    <tr>\n",
       "      <th>Computer</th>\n",
       "      <td>0.198286</td>\n",
       "      <td>9.635309</td>\n",
       "      <td>1.651163</td>\n",
       "      <td>15.958922</td>\n",
       "      <td>2.908916</td>\n",
       "      <td>3.722766</td>\n",
       "      <td>2.988984</td>\n",
       "      <td>4.109547</td>\n",
       "      <td>0.283966</td>\n",
       "      <td>15.770398</td>\n",
       "      <td>1.782498</td>\n",
       "      <td>3.082634</td>\n",
       "      <td>4.536062</td>\n",
       "      <td>173.538556</td>\n",
       "    </tr>\n",
       "    <tr>\n",
       "      <th>Mobile Phone</th>\n",
       "      <td>0.125859</td>\n",
       "      <td>11.806003</td>\n",
       "      <td>1.756962</td>\n",
       "      <td>15.620253</td>\n",
       "      <td>3.034720</td>\n",
       "      <td>3.800362</td>\n",
       "      <td>3.056058</td>\n",
       "      <td>4.543580</td>\n",
       "      <td>0.284268</td>\n",
       "      <td>15.721896</td>\n",
       "      <td>2.013250</td>\n",
       "      <td>3.442515</td>\n",
       "      <td>5.204857</td>\n",
       "      <td>197.895526</td>\n",
       "    </tr>\n",
       "    <tr>\n",
       "      <th>Phone</th>\n",
       "      <td>0.224208</td>\n",
       "      <td>6.904806</td>\n",
       "      <td>1.429732</td>\n",
       "      <td>15.220644</td>\n",
       "      <td>2.693625</td>\n",
       "      <td>3.393989</td>\n",
       "      <td>3.194151</td>\n",
       "      <td>3.612510</td>\n",
       "      <td>0.287571</td>\n",
       "      <td>15.598700</td>\n",
       "      <td>1.164094</td>\n",
       "      <td>1.999188</td>\n",
       "      <td>3.181154</td>\n",
       "      <td>135.680366</td>\n",
       "    </tr>\n",
       "  </tbody>\n",
       "</table>\n",
       "</div>"
      ],
      "text/plain": [
       "                         Churn     Tenure  CityTier  WarehouseToHome  \\\n",
       "PreferredLoginDevice                                                   \n",
       "Computer              0.198286   9.635309  1.651163        15.958922   \n",
       "Mobile Phone          0.125859  11.806003  1.756962        15.620253   \n",
       "Phone                 0.224208   6.904806  1.429732        15.220644   \n",
       "\n",
       "                      HourSpendOnApp  NumberOfDeviceRegistered  \\\n",
       "PreferredLoginDevice                                             \n",
       "Computer                    2.908916                  3.722766   \n",
       "Mobile Phone                3.034720                  3.800362   \n",
       "Phone                       2.693625                  3.393989   \n",
       "\n",
       "                      SatisfactionScore  NumberOfAddress  Complain  \\\n",
       "PreferredLoginDevice                                                 \n",
       "Computer                       2.988984         4.109547  0.283966   \n",
       "Mobile Phone                   3.056058         4.543580  0.284268   \n",
       "Phone                          3.194151         3.612510  0.287571   \n",
       "\n",
       "                      OrderAmountHikeFromlastYear  CouponUsed  OrderCount  \\\n",
       "PreferredLoginDevice                                                        \n",
       "Computer                                15.770398    1.782498    3.082634   \n",
       "Mobile Phone                            15.721896    2.013250    3.442515   \n",
       "Phone                                   15.598700    1.164094    1.999188   \n",
       "\n",
       "                      DaySinceLastOrder  CashbackAmount  \n",
       "PreferredLoginDevice                                     \n",
       "Computer                       4.536062      173.538556  \n",
       "Mobile Phone                   5.204857      197.895526  \n",
       "Phone                          3.181154      135.680366  "
      ]
     },
     "execution_count": 8,
     "metadata": {},
     "output_type": "execute_result"
    }
   ],
   "source": [
    "# examining the grouped preferred login device mean for HourSpendonApp\n",
    "\n",
    "full.groupby(['PreferredLoginDevice',]).mean()"
   ]
  },
  {
   "cell_type": "code",
   "execution_count": 9,
   "metadata": {},
   "outputs": [],
   "source": [
    "# grouping by PreferredLoginDevice and filling in the HourSpendOnApp mean for each group\n",
    "\n",
    "full['HourSpendOnApp'].fillna(full.groupby(['PreferredLoginDevice'])['HourSpendOnApp'].transform('mean'),inplace=True)"
   ]
  },
  {
   "cell_type": "code",
   "execution_count": 10,
   "metadata": {},
   "outputs": [
    {
     "name": "stdout",
     "output_type": "stream",
     "text": [
      "<class 'pandas.core.frame.DataFrame'>\n",
      "Int64Index: 5630 entries, 50001 to 55630\n",
      "Data columns (total 19 columns):\n",
      "Churn                          5630 non-null int64\n",
      "Tenure                         5366 non-null float64\n",
      "PreferredLoginDevice           5630 non-null object\n",
      "CityTier                       5630 non-null int64\n",
      "WarehouseToHome                5379 non-null float64\n",
      "PreferredPaymentMode           5630 non-null object\n",
      "Gender                         5630 non-null object\n",
      "HourSpendOnApp                 5630 non-null float64\n",
      "NumberOfDeviceRegistered       5630 non-null int64\n",
      "PreferedOrderCat               5630 non-null object\n",
      "SatisfactionScore              5630 non-null int64\n",
      "MaritalStatus                  5630 non-null object\n",
      "NumberOfAddress                5630 non-null int64\n",
      "Complain                       5630 non-null int64\n",
      "OrderAmountHikeFromlastYear    5365 non-null float64\n",
      "CouponUsed                     5374 non-null float64\n",
      "OrderCount                     5372 non-null float64\n",
      "DaySinceLastOrder              5323 non-null float64\n",
      "CashbackAmount                 5630 non-null float64\n",
      "dtypes: float64(8), int64(6), object(5)\n",
      "memory usage: 1.0+ MB\n"
     ]
    }
   ],
   "source": [
    "# to view dataset info before cleansing\n",
    "\n",
    "full.info()"
   ]
  },
  {
   "cell_type": "markdown",
   "metadata": {},
   "source": [
    "### WarehouseToHome"
   ]
  },
  {
   "cell_type": "code",
   "execution_count": 11,
   "metadata": {},
   "outputs": [
    {
     "data": {
      "text/plain": [
       "<matplotlib.axes._subplots.AxesSubplot at 0x2551360f5f8>"
      ]
     },
     "execution_count": 11,
     "metadata": {},
     "output_type": "execute_result"
    },
    {
     "data": {
      "image/png": "[encoded data removed]",
      "text/plain": [
       "<Figure size 432x288 with 1 Axes>"
      ]
     },
     "metadata": {},
     "output_type": "display_data"
    }
   ],
   "source": [
    "# visually determine whether there is a correlation between the City Tier of consumers and the Distance of Warehouse To Home\n",
    "    # seems like it's evenly spread out, with the expections of the outliers for City Tier 3\n",
    "\n",
    "sns.scatterplot(data=full, x='CityTier', y='WarehouseToHome')"
   ]
  },
  {
   "cell_type": "code",
   "execution_count": 12,
   "metadata": {},
   "outputs": [
    {
     "data": {
      "text/html": [
       "<div>\n",
       "<style scoped>\n",
       "    .dataframe tbody tr th:only-of-type {\n",
       "        vertical-align: middle;\n",
       "    }\n",
       "\n",
       "    .dataframe tbody tr th {\n",
       "        vertical-align: top;\n",
       "    }\n",
       "\n",
       "    .dataframe thead th {\n",
       "        text-align: right;\n",
       "    }\n",
       "</style>\n",
       "<table border=\"1\" class=\"dataframe\">\n",
       "  <thead>\n",
       "    <tr style=\"text-align: right;\">\n",
       "      <th></th>\n",
       "      <th>Churn</th>\n",
       "      <th>Tenure</th>\n",
       "      <th>WarehouseToHome</th>\n",
       "      <th>HourSpendOnApp</th>\n",
       "      <th>NumberOfDeviceRegistered</th>\n",
       "      <th>SatisfactionScore</th>\n",
       "      <th>NumberOfAddress</th>\n",
       "      <th>Complain</th>\n",
       "      <th>OrderAmountHikeFromlastYear</th>\n",
       "      <th>CouponUsed</th>\n",
       "      <th>OrderCount</th>\n",
       "      <th>DaySinceLastOrder</th>\n",
       "      <th>CashbackAmount</th>\n",
       "    </tr>\n",
       "    <tr>\n",
       "      <th>CityTier</th>\n",
       "      <th></th>\n",
       "      <th></th>\n",
       "      <th></th>\n",
       "      <th></th>\n",
       "      <th></th>\n",
       "      <th></th>\n",
       "      <th></th>\n",
       "      <th></th>\n",
       "      <th></th>\n",
       "      <th></th>\n",
       "      <th></th>\n",
       "      <th></th>\n",
       "      <th></th>\n",
       "    </tr>\n",
       "  </thead>\n",
       "  <tbody>\n",
       "    <tr>\n",
       "      <th>1</th>\n",
       "      <td>0.145117</td>\n",
       "      <td>10.528818</td>\n",
       "      <td>15.597399</td>\n",
       "      <td>2.928506</td>\n",
       "      <td>3.669667</td>\n",
       "      <td>3.073104</td>\n",
       "      <td>4.263775</td>\n",
       "      <td>0.284779</td>\n",
       "      <td>15.809154</td>\n",
       "      <td>1.730450</td>\n",
       "      <td>2.953255</td>\n",
       "      <td>4.514416</td>\n",
       "      <td>175.282079</td>\n",
       "    </tr>\n",
       "    <tr>\n",
       "      <th>2</th>\n",
       "      <td>0.198347</td>\n",
       "      <td>11.169725</td>\n",
       "      <td>14.978632</td>\n",
       "      <td>2.871493</td>\n",
       "      <td>3.665289</td>\n",
       "      <td>3.214876</td>\n",
       "      <td>4.326446</td>\n",
       "      <td>0.256198</td>\n",
       "      <td>15.100000</td>\n",
       "      <td>1.500000</td>\n",
       "      <td>2.584034</td>\n",
       "      <td>4.089744</td>\n",
       "      <td>177.622810</td>\n",
       "    </tr>\n",
       "    <tr>\n",
       "      <th>3</th>\n",
       "      <td>0.213705</td>\n",
       "      <td>9.361740</td>\n",
       "      <td>15.818991</td>\n",
       "      <td>2.920567</td>\n",
       "      <td>3.733449</td>\n",
       "      <td>3.032520</td>\n",
       "      <td>4.092334</td>\n",
       "      <td>0.289199</td>\n",
       "      <td>15.577499</td>\n",
       "      <td>1.828606</td>\n",
       "      <td>3.185185</td>\n",
       "      <td>4.674653</td>\n",
       "      <td>181.298978</td>\n",
       "    </tr>\n",
       "  </tbody>\n",
       "</table>\n",
       "</div>"
      ],
      "text/plain": [
       "             Churn     Tenure  WarehouseToHome  HourSpendOnApp  \\\n",
       "CityTier                                                         \n",
       "1         0.145117  10.528818        15.597399        2.928506   \n",
       "2         0.198347  11.169725        14.978632        2.871493   \n",
       "3         0.213705   9.361740        15.818991        2.920567   \n",
       "\n",
       "          NumberOfDeviceRegistered  SatisfactionScore  NumberOfAddress  \\\n",
       "CityTier                                                                 \n",
       "1                         3.669667           3.073104         4.263775   \n",
       "2                         3.665289           3.214876         4.326446   \n",
       "3                         3.733449           3.032520         4.092334   \n",
       "\n",
       "          Complain  OrderAmountHikeFromlastYear  CouponUsed  OrderCount  \\\n",
       "CityTier                                                                  \n",
       "1         0.284779                    15.809154    1.730450    2.953255   \n",
       "2         0.256198                    15.100000    1.500000    2.584034   \n",
       "3         0.289199                    15.577499    1.828606    3.185185   \n",
       "\n",
       "          DaySinceLastOrder  CashbackAmount  \n",
       "CityTier                                     \n",
       "1                  4.514416      175.282079  \n",
       "2                  4.089744      177.622810  \n",
       "3                  4.674653      181.298978  "
      ]
     },
     "execution_count": 12,
     "metadata": {},
     "output_type": "execute_result"
    }
   ],
   "source": [
    "full.groupby(['CityTier']).mean()"
   ]
  },
  {
   "cell_type": "code",
   "execution_count": 13,
   "metadata": {},
   "outputs": [],
   "source": [
    "# grouping by CityTier and filling in the WarehouseToHome mean for each group\n",
    "\n",
    "full['WarehouseToHome'].fillna(full.groupby(['CityTier'])['WarehouseToHome'].transform('mean'),inplace=True)"
   ]
  },
  {
   "cell_type": "code",
   "execution_count": 14,
   "metadata": {},
   "outputs": [
    {
     "name": "stdout",
     "output_type": "stream",
     "text": [
      "<class 'pandas.core.frame.DataFrame'>\n",
      "Int64Index: 5630 entries, 50001 to 55630\n",
      "Data columns (total 19 columns):\n",
      "Churn                          5630 non-null int64\n",
      "Tenure                         5366 non-null float64\n",
      "PreferredLoginDevice           5630 non-null object\n",
      "CityTier                       5630 non-null int64\n",
      "WarehouseToHome                5630 non-null float64\n",
      "PreferredPaymentMode           5630 non-null object\n",
      "Gender                         5630 non-null object\n",
      "HourSpendOnApp                 5630 non-null float64\n",
      "NumberOfDeviceRegistered       5630 non-null int64\n",
      "PreferedOrderCat               5630 non-null object\n",
      "SatisfactionScore              5630 non-null int64\n",
      "MaritalStatus                  5630 non-null object\n",
      "NumberOfAddress                5630 non-null int64\n",
      "Complain                       5630 non-null int64\n",
      "OrderAmountHikeFromlastYear    5365 non-null float64\n",
      "CouponUsed                     5374 non-null float64\n",
      "OrderCount                     5372 non-null float64\n",
      "DaySinceLastOrder              5323 non-null float64\n",
      "CashbackAmount                 5630 non-null float64\n",
      "dtypes: float64(8), int64(6), object(5)\n",
      "memory usage: 1.0+ MB\n"
     ]
    }
   ],
   "source": [
    "full.info()"
   ]
  },
  {
   "cell_type": "markdown",
   "metadata": {},
   "source": [
    "### Tenure"
   ]
  },
  {
   "cell_type": "code",
   "execution_count": 15,
   "metadata": {},
   "outputs": [
    {
     "data": {
      "text/plain": [
       "<matplotlib.axes._subplots.AxesSubplot at 0x25513671b70>"
      ]
     },
     "execution_count": 15,
     "metadata": {},
     "output_type": "execute_result"
    },
    {
     "data": {
      "image/png": "[encoded data removed]",
      "text/plain": [
       "<Figure size 432x288 with 1 Axes>"
      ]
     },
     "metadata": {},
     "output_type": "display_data"
    }
   ],
   "source": [
    "# visually determine whether there is correlation between Gender and Tenure\n",
    "    # seems like male and female have generally the same Tenure; however for outlier / expectional cases, female tend to have\n",
    "    # have higher Tenure than male\n",
    "\n",
    "sns.scatterplot(data=full, x='Gender', y='Tenure')"
   ]
  },
  {
   "cell_type": "code",
   "execution_count": 16,
   "metadata": {},
   "outputs": [
    {
     "data": {
      "text/html": [
       "<div>\n",
       "<style scoped>\n",
       "    .dataframe tbody tr th:only-of-type {\n",
       "        vertical-align: middle;\n",
       "    }\n",
       "\n",
       "    .dataframe tbody tr th {\n",
       "        vertical-align: top;\n",
       "    }\n",
       "\n",
       "    .dataframe thead th {\n",
       "        text-align: right;\n",
       "    }\n",
       "</style>\n",
       "<table border=\"1\" class=\"dataframe\">\n",
       "  <thead>\n",
       "    <tr style=\"text-align: right;\">\n",
       "      <th></th>\n",
       "      <th>Churn</th>\n",
       "      <th>Tenure</th>\n",
       "      <th>CityTier</th>\n",
       "      <th>WarehouseToHome</th>\n",
       "      <th>HourSpendOnApp</th>\n",
       "      <th>NumberOfDeviceRegistered</th>\n",
       "      <th>SatisfactionScore</th>\n",
       "      <th>NumberOfAddress</th>\n",
       "      <th>Complain</th>\n",
       "      <th>OrderAmountHikeFromlastYear</th>\n",
       "      <th>CouponUsed</th>\n",
       "      <th>OrderCount</th>\n",
       "      <th>DaySinceLastOrder</th>\n",
       "      <th>CashbackAmount</th>\n",
       "    </tr>\n",
       "    <tr>\n",
       "      <th>Gender</th>\n",
       "      <th></th>\n",
       "      <th></th>\n",
       "      <th></th>\n",
       "      <th></th>\n",
       "      <th></th>\n",
       "      <th></th>\n",
       "      <th></th>\n",
       "      <th></th>\n",
       "      <th></th>\n",
       "      <th></th>\n",
       "      <th></th>\n",
       "      <th></th>\n",
       "      <th></th>\n",
       "      <th></th>\n",
       "    </tr>\n",
       "  </thead>\n",
       "  <tbody>\n",
       "    <tr>\n",
       "      <th>Female</th>\n",
       "      <td>0.154942</td>\n",
       "      <td>10.682643</td>\n",
       "      <td>1.682992</td>\n",
       "      <td>15.650461</td>\n",
       "      <td>2.940294</td>\n",
       "      <td>3.716385</td>\n",
       "      <td>3.126447</td>\n",
       "      <td>4.313891</td>\n",
       "      <td>0.307213</td>\n",
       "      <td>15.709259</td>\n",
       "      <td>1.841412</td>\n",
       "      <td>3.122459</td>\n",
       "      <td>4.636535</td>\n",
       "      <td>178.744372</td>\n",
       "    </tr>\n",
       "    <tr>\n",
       "      <th>Male</th>\n",
       "      <td>0.177305</td>\n",
       "      <td>9.860740</td>\n",
       "      <td>1.635934</td>\n",
       "      <td>15.630691</td>\n",
       "      <td>2.912565</td>\n",
       "      <td>3.670804</td>\n",
       "      <td>3.027187</td>\n",
       "      <td>4.147754</td>\n",
       "      <td>0.270095</td>\n",
       "      <td>15.707020</td>\n",
       "      <td>1.691905</td>\n",
       "      <td>2.933681</td>\n",
       "      <td>4.481713</td>\n",
       "      <td>176.213298</td>\n",
       "    </tr>\n",
       "  </tbody>\n",
       "</table>\n",
       "</div>"
      ],
      "text/plain": [
       "           Churn     Tenure  CityTier  WarehouseToHome  HourSpendOnApp  \\\n",
       "Gender                                                                   \n",
       "Female  0.154942  10.682643  1.682992        15.650461        2.940294   \n",
       "Male    0.177305   9.860740  1.635934        15.630691        2.912565   \n",
       "\n",
       "        NumberOfDeviceRegistered  SatisfactionScore  NumberOfAddress  \\\n",
       "Gender                                                                 \n",
       "Female                  3.716385           3.126447         4.313891   \n",
       "Male                    3.670804           3.027187         4.147754   \n",
       "\n",
       "        Complain  OrderAmountHikeFromlastYear  CouponUsed  OrderCount  \\\n",
       "Gender                                                                  \n",
       "Female  0.307213                    15.709259    1.841412    3.122459   \n",
       "Male    0.270095                    15.707020    1.691905    2.933681   \n",
       "\n",
       "        DaySinceLastOrder  CashbackAmount  \n",
       "Gender                                     \n",
       "Female           4.636535      178.744372  \n",
       "Male             4.481713      176.213298  "
      ]
     },
     "execution_count": 16,
     "metadata": {},
     "output_type": "execute_result"
    }
   ],
   "source": [
    "full.groupby(['Gender']).mean()"
   ]
  },
  {
   "cell_type": "code",
   "execution_count": 17,
   "metadata": {},
   "outputs": [],
   "source": [
    "# grouping by Gender and filling in the Tenure mean for each group\n",
    "\n",
    "full['Tenure'].fillna(full.groupby(['Gender'])['Tenure'].transform('mean'),inplace=True)"
   ]
  },
  {
   "cell_type": "code",
   "execution_count": 18,
   "metadata": {},
   "outputs": [
    {
     "name": "stdout",
     "output_type": "stream",
     "text": [
      "<class 'pandas.core.frame.DataFrame'>\n",
      "Int64Index: 5630 entries, 50001 to 55630\n",
      "Data columns (total 19 columns):\n",
      "Churn                          5630 non-null int64\n",
      "Tenure                         5630 non-null float64\n",
      "PreferredLoginDevice           5630 non-null object\n",
      "CityTier                       5630 non-null int64\n",
      "WarehouseToHome                5630 non-null float64\n",
      "PreferredPaymentMode           5630 non-null object\n",
      "Gender                         5630 non-null object\n",
      "HourSpendOnApp                 5630 non-null float64\n",
      "NumberOfDeviceRegistered       5630 non-null int64\n",
      "PreferedOrderCat               5630 non-null object\n",
      "SatisfactionScore              5630 non-null int64\n",
      "MaritalStatus                  5630 non-null object\n",
      "NumberOfAddress                5630 non-null int64\n",
      "Complain                       5630 non-null int64\n",
      "OrderAmountHikeFromlastYear    5365 non-null float64\n",
      "CouponUsed                     5374 non-null float64\n",
      "OrderCount                     5372 non-null float64\n",
      "DaySinceLastOrder              5323 non-null float64\n",
      "CashbackAmount                 5630 non-null float64\n",
      "dtypes: float64(8), int64(6), object(5)\n",
      "memory usage: 1.0+ MB\n"
     ]
    }
   ],
   "source": [
    "full.info()"
   ]
  },
  {
   "cell_type": "markdown",
   "metadata": {},
   "source": [
    "### Coupon Used"
   ]
  },
  {
   "cell_type": "code",
   "execution_count": 19,
   "metadata": {},
   "outputs": [
    {
     "data": {
      "text/plain": [
       "<matplotlib.axes._subplots.AxesSubplot at 0x2550e09b400>"
      ]
     },
     "execution_count": 19,
     "metadata": {},
     "output_type": "execute_result"
    },
    {
     "data": {
      "image/png": "[encoded data removed]",
      "text/plain": [
       "<Figure size 432x288 with 1 Axes>"
      ]
     },
     "metadata": {},
     "output_type": "display_data"
    }
   ],
   "source": [
    "# visually determine whether there is correlation between CouponUsed and OrderCount\n",
    "    # seems like the more coupons used the higher the order count (positive linear relationship)\n",
    "\n",
    "sns.scatterplot(data=full, x='OrderCount', y='CouponUsed')"
   ]
  },
  {
   "cell_type": "code",
   "execution_count": 20,
   "metadata": {},
   "outputs": [],
   "source": [
    "# prepare to full2 dataframe to drop the nan rows for both CouponUsed and OrderCount\n",
    "\n",
    "full2 = full.dropna(subset = ['CouponUsed'], inplace=False)\n",
    "full2 = full2.dropna(subset = ['OrderCount'], inplace=False)"
   ]
  },
  {
   "cell_type": "code",
   "execution_count": 21,
   "metadata": {},
   "outputs": [
    {
     "data": {
      "text/plain": [
       "LinearRegression(copy_X=True, fit_intercept=True, n_jobs=1, normalize=False)"
      ]
     },
     "execution_count": 21,
     "metadata": {},
     "output_type": "execute_result"
    }
   ],
   "source": [
    "# prepare x and y variables and linearly model the relationship\n",
    "x = full2[['OrderCount']]\n",
    "y = full2['CouponUsed']\n",
    "\n",
    "model = LinearRegression()\n",
    "model.fit(x, y)"
   ]
  },
  {
   "cell_type": "code",
   "execution_count": 22,
   "metadata": {},
   "outputs": [
    {
     "data": {
      "text/plain": [
       "0.28518233347145006"
      ]
     },
     "execution_count": 22,
     "metadata": {},
     "output_type": "execute_result"
    }
   ],
   "source": [
    "# determine intercept\n",
    "\n",
    "model.intercept_"
   ]
  },
  {
   "cell_type": "code",
   "execution_count": 23,
   "metadata": {},
   "outputs": [
    {
     "data": {
      "text/plain": [
       "array([0.49105096])"
      ]
     },
     "execution_count": 23,
     "metadata": {},
     "output_type": "execute_result"
    }
   ],
   "source": [
    "# determine coef\n",
    "\n",
    "model.coef_"
   ]
  },
  {
   "cell_type": "code",
   "execution_count": 24,
   "metadata": {},
   "outputs": [],
   "source": [
    "# replace the nan CouponUsed rows with the linear relationship between OrderCount and CouponUsed\n",
    "\n",
    "full['CouponUsed'].fillna(round(full.OrderCount * 0.49105096 + 0.28518233347145006,0), inplace = True)"
   ]
  },
  {
   "cell_type": "code",
   "execution_count": 25,
   "metadata": {},
   "outputs": [
    {
     "name": "stdout",
     "output_type": "stream",
     "text": [
      "<class 'pandas.core.frame.DataFrame'>\n",
      "Int64Index: 5630 entries, 50001 to 55630\n",
      "Data columns (total 19 columns):\n",
      "Churn                          5630 non-null int64\n",
      "Tenure                         5630 non-null float64\n",
      "PreferredLoginDevice           5630 non-null object\n",
      "CityTier                       5630 non-null int64\n",
      "WarehouseToHome                5630 non-null float64\n",
      "PreferredPaymentMode           5630 non-null object\n",
      "Gender                         5630 non-null object\n",
      "HourSpendOnApp                 5630 non-null float64\n",
      "NumberOfDeviceRegistered       5630 non-null int64\n",
      "PreferedOrderCat               5630 non-null object\n",
      "SatisfactionScore              5630 non-null int64\n",
      "MaritalStatus                  5630 non-null object\n",
      "NumberOfAddress                5630 non-null int64\n",
      "Complain                       5630 non-null int64\n",
      "OrderAmountHikeFromlastYear    5365 non-null float64\n",
      "CouponUsed                     5630 non-null float64\n",
      "OrderCount                     5372 non-null float64\n",
      "DaySinceLastOrder              5323 non-null float64\n",
      "CashbackAmount                 5630 non-null float64\n",
      "dtypes: float64(8), int64(6), object(5)\n",
      "memory usage: 1.0+ MB\n"
     ]
    }
   ],
   "source": [
    "full.info()"
   ]
  },
  {
   "cell_type": "code",
   "execution_count": 26,
   "metadata": {},
   "outputs": [
    {
     "data": {
      "text/plain": [
       "<matplotlib.axes._subplots.AxesSubplot at 0x25513791ef0>"
      ]
     },
     "execution_count": 26,
     "metadata": {},
     "output_type": "execute_result"
    },
    {
     "data": {
      "image/png": "[encoded data removed]",
      "text/plain": [
       "<Figure size 432x288 with 1 Axes>"
      ]
     },
     "metadata": {},
     "output_type": "display_data"
    }
   ],
   "source": [
    "# rechecking integrity between CouponUsed and OrderCount\n",
    "\n",
    "sns.scatterplot(data=full, x='OrderCount', y='CouponUsed')"
   ]
  },
  {
   "cell_type": "markdown",
   "metadata": {},
   "source": [
    "### OrderCount"
   ]
  },
  {
   "cell_type": "code",
   "execution_count": 27,
   "metadata": {},
   "outputs": [
    {
     "data": {
      "text/plain": [
       "LinearRegression(copy_X=True, fit_intercept=True, n_jobs=1, normalize=False)"
      ]
     },
     "execution_count": 27,
     "metadata": {},
     "output_type": "execute_result"
    }
   ],
   "source": [
    "# similar to above but swapping x and y variable\n",
    "\n",
    "# prepare x and y variables and linearly model the relationship\n",
    "y = full2['OrderCount']\n",
    "x = full2[['CouponUsed']]\n",
    "\n",
    "model = LinearRegression()\n",
    "model.fit(x, y)"
   ]
  },
  {
   "cell_type": "code",
   "execution_count": 28,
   "metadata": {},
   "outputs": [
    {
     "data": {
      "text/plain": [
       "0.9738270014063504"
      ]
     },
     "execution_count": 28,
     "metadata": {},
     "output_type": "execute_result"
    }
   ],
   "source": [
    "# determine intercept\n",
    "\n",
    "model.intercept_"
   ]
  },
  {
   "cell_type": "code",
   "execution_count": 29,
   "metadata": {},
   "outputs": [
    {
     "data": {
      "text/plain": [
       "array([1.13102243])"
      ]
     },
     "execution_count": 29,
     "metadata": {},
     "output_type": "execute_result"
    }
   ],
   "source": [
    "# determine coef\n",
    "\n",
    "model.coef_"
   ]
  },
  {
   "cell_type": "code",
   "execution_count": 30,
   "metadata": {},
   "outputs": [],
   "source": [
    "# replace the nan CouponUsed rows with the linear relationship between OrderCount and CouponUsed\n",
    "\n",
    "full['OrderCount'].fillna(round(full.CouponUsed * 1.13102243 + 0.9738270014063504,0), inplace = True)"
   ]
  },
  {
   "cell_type": "code",
   "execution_count": 31,
   "metadata": {},
   "outputs": [
    {
     "name": "stdout",
     "output_type": "stream",
     "text": [
      "<class 'pandas.core.frame.DataFrame'>\n",
      "Int64Index: 5630 entries, 50001 to 55630\n",
      "Data columns (total 19 columns):\n",
      "Churn                          5630 non-null int64\n",
      "Tenure                         5630 non-null float64\n",
      "PreferredLoginDevice           5630 non-null object\n",
      "CityTier                       5630 non-null int64\n",
      "WarehouseToHome                5630 non-null float64\n",
      "PreferredPaymentMode           5630 non-null object\n",
      "Gender                         5630 non-null object\n",
      "HourSpendOnApp                 5630 non-null float64\n",
      "NumberOfDeviceRegistered       5630 non-null int64\n",
      "PreferedOrderCat               5630 non-null object\n",
      "SatisfactionScore              5630 non-null int64\n",
      "MaritalStatus                  5630 non-null object\n",
      "NumberOfAddress                5630 non-null int64\n",
      "Complain                       5630 non-null int64\n",
      "OrderAmountHikeFromlastYear    5365 non-null float64\n",
      "CouponUsed                     5630 non-null float64\n",
      "OrderCount                     5630 non-null float64\n",
      "DaySinceLastOrder              5323 non-null float64\n",
      "CashbackAmount                 5630 non-null float64\n",
      "dtypes: float64(8), int64(6), object(5)\n",
      "memory usage: 1.0+ MB\n"
     ]
    }
   ],
   "source": [
    "full.info()"
   ]
  },
  {
   "cell_type": "code",
   "execution_count": 32,
   "metadata": {},
   "outputs": [
    {
     "data": {
      "text/plain": [
       "<matplotlib.axes._subplots.AxesSubplot at 0x255137f2828>"
      ]
     },
     "execution_count": 32,
     "metadata": {},
     "output_type": "execute_result"
    },
    {
     "data": {
      "image/png": "[encoded data removed]",
      "text/plain": [
       "<Figure size 432x288 with 1 Axes>"
      ]
     },
     "metadata": {},
     "output_type": "display_data"
    }
   ],
   "source": [
    "# rechecking integrity between OrderCount and CouponUsed\n",
    "\n",
    "sns.scatterplot(data=full, x='CouponUsed', y='OrderCount')"
   ]
  },
  {
   "cell_type": "markdown",
   "metadata": {},
   "source": [
    "### OrderAmountHikeFromlastYear / DaySinceLastOrder"
   ]
  },
  {
   "cell_type": "code",
   "execution_count": 33,
   "metadata": {},
   "outputs": [
    {
     "data": {
      "text/plain": [
       "<matplotlib.axes._subplots.AxesSubplot at 0x255138602e8>"
      ]
     },
     "execution_count": 33,
     "metadata": {},
     "output_type": "execute_result"
    },
    {
     "data": {
      "image/png": "[encoded data removed]",
      "text/plain": [
       "<Figure size 432x288 with 1 Axes>"
      ]
     },
     "metadata": {},
     "output_type": "display_data"
    }
   ],
   "source": [
    "sns.scatterplot(data=full, x='OrderAmountHikeFromlastYear', y='DaySinceLastOrder')"
   ]
  },
  {
   "cell_type": "code",
   "execution_count": 34,
   "metadata": {},
   "outputs": [
    {
     "data": {
      "text/plain": [
       "<matplotlib.axes._subplots.AxesSubplot at 0x255138384a8>"
      ]
     },
     "execution_count": 34,
     "metadata": {},
     "output_type": "execute_result"
    },
    {
     "data": {
      "image/png": "[encoded data removed]",
      "text/plain": [
       "<Figure size 432x288 with 1 Axes>"
      ]
     },
     "metadata": {},
     "output_type": "display_data"
    }
   ],
   "source": [
    "sns.scatterplot(data=full, x='DaySinceLastOrder', y='OrderAmountHikeFromlastYear')"
   ]
  },
  {
   "cell_type": "code",
   "execution_count": 35,
   "metadata": {},
   "outputs": [],
   "source": [
    "# grouping by SatisfactionScore and filling in the OrderAmountHikeFromlastYear / DaySinceLastOrder mean for each group\n",
    "\n",
    "full['OrderAmountHikeFromlastYear'].fillna(full.groupby(['SatisfactionScore'])['OrderAmountHikeFromlastYear'].transform('mean'),inplace=True)\n",
    "full['DaySinceLastOrder'].fillna(full.groupby(['SatisfactionScore'])['DaySinceLastOrder'].transform('mean'),inplace=True)"
   ]
  },
  {
   "cell_type": "code",
   "execution_count": 36,
   "metadata": {},
   "outputs": [
    {
     "name": "stdout",
     "output_type": "stream",
     "text": [
      "<class 'pandas.core.frame.DataFrame'>\n",
      "Int64Index: 5630 entries, 50001 to 55630\n",
      "Data columns (total 19 columns):\n",
      "Churn                          5630 non-null int64\n",
      "Tenure                         5630 non-null float64\n",
      "PreferredLoginDevice           5630 non-null object\n",
      "CityTier                       5630 non-null int64\n",
      "WarehouseToHome                5630 non-null float64\n",
      "PreferredPaymentMode           5630 non-null object\n",
      "Gender                         5630 non-null object\n",
      "HourSpendOnApp                 5630 non-null float64\n",
      "NumberOfDeviceRegistered       5630 non-null int64\n",
      "PreferedOrderCat               5630 non-null object\n",
      "SatisfactionScore              5630 non-null int64\n",
      "MaritalStatus                  5630 non-null object\n",
      "NumberOfAddress                5630 non-null int64\n",
      "Complain                       5630 non-null int64\n",
      "OrderAmountHikeFromlastYear    5630 non-null float64\n",
      "CouponUsed                     5630 non-null float64\n",
      "OrderCount                     5630 non-null float64\n",
      "DaySinceLastOrder              5630 non-null float64\n",
      "CashbackAmount                 5630 non-null float64\n",
      "dtypes: float64(8), int64(6), object(5)\n",
      "memory usage: 1.0+ MB\n"
     ]
    }
   ],
   "source": [
    "# 19 features and 5630 samples left\n",
    "\n",
    "full_final = full\n",
    "full_final.info()"
   ]
  },
  {
   "cell_type": "markdown",
   "metadata": {},
   "source": [
    "## Data Transformation"
   ]
  },
  {
   "cell_type": "markdown",
   "metadata": {},
   "source": [
    "### Normalization (z-score)"
   ]
  },
  {
   "cell_type": "markdown",
   "metadata": {},
   "source": [
    "#### Tenure / HourSpendOnApp / WarehouseToHome / DaySinceLastOrder / OrderAmountHikeFromlastYear / CashbackAmount"
   ]
  },
  {
   "cell_type": "code",
   "execution_count": 37,
   "metadata": {},
   "outputs": [],
   "source": [
    "full_final2 = full_final"
   ]
  },
  {
   "cell_type": "code",
   "execution_count": 38,
   "metadata": {},
   "outputs": [],
   "source": [
    "# Tenure\n",
    "\n",
    "zscore_scaler = preprocessing.StandardScaler().fit(full_final[['Tenure']])\n",
    "full_final['Tenure_zscore']=zscore_scaler.transform(full_final[['Tenure']])\n",
    "full_final = full_final.drop(['Tenure'],axis='columns')"
   ]
  },
  {
   "cell_type": "code",
   "execution_count": 39,
   "metadata": {},
   "outputs": [],
   "source": [
    "# HourSpendOnApp\n",
    "\n",
    "zscore_scaler = preprocessing.StandardScaler().fit(full_final[['HourSpendOnApp']])\n",
    "full_final['HourSpendOnApp_zscore']=zscore_scaler.transform(full_final[['HourSpendOnApp']])\n",
    "full_final = full_final.drop(['HourSpendOnApp'],axis='columns')"
   ]
  },
  {
   "cell_type": "code",
   "execution_count": 40,
   "metadata": {},
   "outputs": [],
   "source": [
    "# WarehouseToHome\n",
    "\n",
    "zscore_scaler = preprocessing.StandardScaler().fit(full_final[['WarehouseToHome']])\n",
    "full_final['WarehouseToHome_zscore']=zscore_scaler.transform(full_final[['WarehouseToHome']])\n",
    "full_final = full_final.drop(['WarehouseToHome'],axis='columns')"
   ]
  },
  {
   "cell_type": "code",
   "execution_count": 41,
   "metadata": {},
   "outputs": [],
   "source": [
    "# DaySinceLastOrder\n",
    "\n",
    "zscore_scaler = preprocessing.StandardScaler().fit(full_final[['DaySinceLastOrder']])\n",
    "full_final['DaySinceLastOrder_zscore']=zscore_scaler.transform(full_final[['DaySinceLastOrder']])\n",
    "full_final = full_final.drop(['DaySinceLastOrder'],axis='columns')"
   ]
  },
  {
   "cell_type": "code",
   "execution_count": 42,
   "metadata": {},
   "outputs": [],
   "source": [
    "# OrderAmountHikeFromlastYear\n",
    "\n",
    "zscore_scaler = preprocessing.StandardScaler().fit(full_final[['OrderAmountHikeFromlastYear']])\n",
    "full_final['OrderAmountHikeFromlastYear_zscore']=zscore_scaler.transform(full_final[['OrderAmountHikeFromlastYear']])\n",
    "full_final = full_final.drop(['OrderAmountHikeFromlastYear'],axis='columns')"
   ]
  },
  {
   "cell_type": "code",
   "execution_count": 43,
   "metadata": {},
   "outputs": [],
   "source": [
    "# CashbackAmount\n",
    "\n",
    "zscore_scaler = preprocessing.StandardScaler().fit(full_final[['CashbackAmount']])\n",
    "full_final['CashbackAmount_zscore']=zscore_scaler.transform(full_final[['CashbackAmount']])\n",
    "full_final = full_final.drop(['CashbackAmount'],axis='columns')"
   ]
  },
  {
   "cell_type": "code",
   "execution_count": 44,
   "metadata": {},
   "outputs": [
    {
     "name": "stdout",
     "output_type": "stream",
     "text": [
      "<class 'pandas.core.frame.DataFrame'>\n",
      "Int64Index: 5630 entries, 50001 to 55630\n",
      "Data columns (total 19 columns):\n",
      "Churn                                 5630 non-null int64\n",
      "PreferredLoginDevice                  5630 non-null object\n",
      "CityTier                              5630 non-null int64\n",
      "PreferredPaymentMode                  5630 non-null object\n",
      "Gender                                5630 non-null object\n",
      "NumberOfDeviceRegistered              5630 non-null int64\n",
      "PreferedOrderCat                      5630 non-null object\n",
      "SatisfactionScore                     5630 non-null int64\n",
      "MaritalStatus                         5630 non-null object\n",
      "NumberOfAddress                       5630 non-null int64\n",
      "Complain                              5630 non-null int64\n",
      "CouponUsed                            5630 non-null float64\n",
      "OrderCount                            5630 non-null float64\n",
      "Tenure_zscore                         5630 non-null float64\n",
      "HourSpendOnApp_zscore                 5630 non-null float64\n",
      "WarehouseToHome_zscore                5630 non-null float64\n",
      "DaySinceLastOrder_zscore              5630 non-null float64\n",
      "OrderAmountHikeFromlastYear_zscore    5630 non-null float64\n",
      "CashbackAmount_zscore                 5630 non-null float64\n",
      "dtypes: float64(8), int64(6), object(5)\n",
      "memory usage: 1.0+ MB\n"
     ]
    }
   ],
   "source": [
    "full_final.info()"
   ]
  },
  {
   "cell_type": "markdown",
   "metadata": {},
   "source": [
    "### Normalization (min-max) [for clustering]"
   ]
  },
  {
   "cell_type": "markdown",
   "metadata": {},
   "source": [
    "#### Tenure / HourSpendOnApp / WarehouseToHome / DaySinceLastOrder / OrderAmountHikeFromlastYear / CashbackAmount"
   ]
  },
  {
   "cell_type": "code",
   "execution_count": 45,
   "metadata": {},
   "outputs": [],
   "source": [
    "# normalization for min-max is used for K-means clustering\n",
    "\n",
    "min_max_scaler = preprocessing.MinMaxScaler().fit(full_final2[['Tenure']])\n",
    "full_final2['Tenure']=min_max_scaler.transform(full_final2[['Tenure']])\n",
    "\n",
    "min_max_scaler = preprocessing.MinMaxScaler().fit(full_final2[['HourSpendOnApp']])\n",
    "full_final2['HourSpendOnApp']=min_max_scaler.transform(full_final2[['HourSpendOnApp']])\n",
    "\n",
    "min_max_scaler = preprocessing.MinMaxScaler().fit(full_final2[['WarehouseToHome']])\n",
    "full_final2['WarehouseToHome']=min_max_scaler.transform(full_final2[['WarehouseToHome']])\n",
    "\n",
    "min_max_scaler = preprocessing.MinMaxScaler().fit(full_final2[['DaySinceLastOrder']])\n",
    "full_final2['DaySinceLastOrder']=min_max_scaler.transform(full_final2[['DaySinceLastOrder']])\n",
    "\n",
    "min_max_scaler = preprocessing.MinMaxScaler().fit(full_final2[['OrderAmountHikeFromlastYear']])\n",
    "full_final2['OrderAmountHikeFromlastYear']=min_max_scaler.transform(full_final2[['OrderAmountHikeFromlastYear']])\n",
    "\n",
    "min_max_scaler = preprocessing.MinMaxScaler().fit(full_final2[['CashbackAmount']])\n",
    "full_final2['CashbackAmount']=min_max_scaler.transform(full_final2[['CashbackAmount']])"
   ]
  },
  {
   "cell_type": "markdown",
   "metadata": {},
   "source": [
    "### One-Hot Encoding"
   ]
  },
  {
   "cell_type": "markdown",
   "metadata": {},
   "source": [
    "#### PreferredLoginDevice / PreferredPaymentMode / Gender / PreferedOrderCat / MaritalStatus"
   ]
  },
  {
   "cell_type": "code",
   "execution_count": 46,
   "metadata": {},
   "outputs": [],
   "source": [
    "# PreferredLoginDevice (baseline - Phone)\n",
    "\n",
    "temp_dummy = pd.get_dummies(full_final['PreferredLoginDevice'])\n",
    "full_final = pd.concat([full_final,temp_dummy],axis=1,sort=True)\n",
    "full_final = full_final.drop(['PreferredLoginDevice','Phone'],axis='columns')"
   ]
  },
  {
   "cell_type": "code",
   "execution_count": 47,
   "metadata": {},
   "outputs": [],
   "source": [
    "# PreferredPaymentMode (baseline - UPI)\n",
    "\n",
    "temp_dummy = pd.get_dummies(full_final['PreferredPaymentMode'])\n",
    "full_final = pd.concat([full_final,temp_dummy],axis=1,sort=True)\n",
    "full_final = full_final.drop(['PreferredPaymentMode','UPI'],axis='columns')"
   ]
  },
  {
   "cell_type": "code",
   "execution_count": 48,
   "metadata": {},
   "outputs": [],
   "source": [
    "# Gender (baseline - female)\n",
    "\n",
    "temp_dummy = pd.get_dummies(full_final['Gender'])\n",
    "full_final = pd.concat([full_final,temp_dummy],axis=1,sort=True)\n",
    "full_final = full_final.drop(['Gender','Female'],axis='columns')"
   ]
  },
  {
   "cell_type": "code",
   "execution_count": 49,
   "metadata": {},
   "outputs": [],
   "source": [
    "# PreferedOrderCat (baseline - others)\n",
    "\n",
    "temp_dummy = pd.get_dummies(full_final['PreferedOrderCat'])\n",
    "full_final = pd.concat([full_final,temp_dummy],axis=1,sort=True)\n",
    "full_final = full_final.drop(['PreferedOrderCat','Others'],axis='columns')"
   ]
  },
  {
   "cell_type": "code",
   "execution_count": 50,
   "metadata": {},
   "outputs": [],
   "source": [
    "# MaritalStatus (baseline - single)\n",
    "\n",
    "temp_dummy = pd.get_dummies(full_final['MaritalStatus'])\n",
    "full_final = pd.concat([full_final,temp_dummy],axis=1,sort=True)\n",
    "full_final = full_final.drop(['MaritalStatus','Single'],axis='columns')"
   ]
  },
  {
   "cell_type": "markdown",
   "metadata": {},
   "source": [
    "#### Data Preparation Evaluation"
   ]
  },
  {
   "cell_type": "code",
   "execution_count": 51,
   "metadata": {},
   "outputs": [
    {
     "name": "stdout",
     "output_type": "stream",
     "text": [
      "<class 'pandas.core.frame.DataFrame'>\n",
      "Int64Index: 5630 entries, 50001 to 55630\n",
      "Data columns (total 30 columns):\n",
      "Churn                                 5630 non-null int64\n",
      "CityTier                              5630 non-null int64\n",
      "NumberOfDeviceRegistered              5630 non-null int64\n",
      "SatisfactionScore                     5630 non-null int64\n",
      "NumberOfAddress                       5630 non-null int64\n",
      "Complain                              5630 non-null int64\n",
      "CouponUsed                            5630 non-null float64\n",
      "OrderCount                            5630 non-null float64\n",
      "Tenure_zscore                         5630 non-null float64\n",
      "HourSpendOnApp_zscore                 5630 non-null float64\n",
      "WarehouseToHome_zscore                5630 non-null float64\n",
      "DaySinceLastOrder_zscore              5630 non-null float64\n",
      "OrderAmountHikeFromlastYear_zscore    5630 non-null float64\n",
      "CashbackAmount_zscore                 5630 non-null float64\n",
      "Computer                              5630 non-null uint8\n",
      "Mobile Phone                          5630 non-null uint8\n",
      "CC                                    5630 non-null uint8\n",
      "COD                                   5630 non-null uint8\n",
      "Cash on Delivery                      5630 non-null uint8\n",
      "Credit Card                           5630 non-null uint8\n",
      "Debit Card                            5630 non-null uint8\n",
      "E wallet                              5630 non-null uint8\n",
      "Male                                  5630 non-null uint8\n",
      "Fashion                               5630 non-null uint8\n",
      "Grocery                               5630 non-null uint8\n",
      "Laptop & Accessory                    5630 non-null uint8\n",
      "Mobile                                5630 non-null uint8\n",
      "Mobile Phone                          5630 non-null uint8\n",
      "Divorced                              5630 non-null uint8\n",
      "Married                               5630 non-null uint8\n",
      "dtypes: float64(8), int64(6), uint8(16)\n",
      "memory usage: 747.7 KB\n"
     ]
    },
    {
     "data": {
      "text/html": [
       "<div>\n",
       "<style scoped>\n",
       "    .dataframe tbody tr th:only-of-type {\n",
       "        vertical-align: middle;\n",
       "    }\n",
       "\n",
       "    .dataframe tbody tr th {\n",
       "        vertical-align: top;\n",
       "    }\n",
       "\n",
       "    .dataframe thead th {\n",
       "        text-align: right;\n",
       "    }\n",
       "</style>\n",
       "<table border=\"1\" class=\"dataframe\">\n",
       "  <thead>\n",
       "    <tr style=\"text-align: right;\">\n",
       "      <th></th>\n",
       "      <th>Churn</th>\n",
       "      <th>CityTier</th>\n",
       "      <th>NumberOfDeviceRegistered</th>\n",
       "      <th>SatisfactionScore</th>\n",
       "      <th>NumberOfAddress</th>\n",
       "      <th>Complain</th>\n",
       "      <th>CouponUsed</th>\n",
       "      <th>OrderCount</th>\n",
       "      <th>Tenure_zscore</th>\n",
       "      <th>HourSpendOnApp_zscore</th>\n",
       "      <th>...</th>\n",
       "      <th>Debit Card</th>\n",
       "      <th>E wallet</th>\n",
       "      <th>Male</th>\n",
       "      <th>Fashion</th>\n",
       "      <th>Grocery</th>\n",
       "      <th>Laptop &amp; Accessory</th>\n",
       "      <th>Mobile</th>\n",
       "      <th>Mobile Phone</th>\n",
       "      <th>Divorced</th>\n",
       "      <th>Married</th>\n",
       "    </tr>\n",
       "    <tr>\n",
       "      <th>CustomerID</th>\n",
       "      <th></th>\n",
       "      <th></th>\n",
       "      <th></th>\n",
       "      <th></th>\n",
       "      <th></th>\n",
       "      <th></th>\n",
       "      <th></th>\n",
       "      <th></th>\n",
       "      <th></th>\n",
       "      <th></th>\n",
       "      <th></th>\n",
       "      <th></th>\n",
       "      <th></th>\n",
       "      <th></th>\n",
       "      <th></th>\n",
       "      <th></th>\n",
       "      <th></th>\n",
       "      <th></th>\n",
       "      <th></th>\n",
       "      <th></th>\n",
       "      <th></th>\n",
       "    </tr>\n",
       "  </thead>\n",
       "  <tbody>\n",
       "    <tr>\n",
       "      <th>50001</th>\n",
       "      <td>1</td>\n",
       "      <td>3</td>\n",
       "      <td>3</td>\n",
       "      <td>2</td>\n",
       "      <td>9</td>\n",
       "      <td>1</td>\n",
       "      <td>1.0</td>\n",
       "      <td>1.0</td>\n",
       "      <td>-0.74081</td>\n",
       "      <td>0.108090</td>\n",
       "      <td>...</td>\n",
       "      <td>1</td>\n",
       "      <td>0</td>\n",
       "      <td>0</td>\n",
       "      <td>0</td>\n",
       "      <td>0</td>\n",
       "      <td>1</td>\n",
       "      <td>0</td>\n",
       "      <td>0</td>\n",
       "      <td>0</td>\n",
       "      <td>0</td>\n",
       "    </tr>\n",
       "    <tr>\n",
       "      <th>50002</th>\n",
       "      <td>1</td>\n",
       "      <td>1</td>\n",
       "      <td>4</td>\n",
       "      <td>3</td>\n",
       "      <td>7</td>\n",
       "      <td>1</td>\n",
       "      <td>0.0</td>\n",
       "      <td>1.0</td>\n",
       "      <td>-0.03925</td>\n",
       "      <td>0.108090</td>\n",
       "      <td>...</td>\n",
       "      <td>0</td>\n",
       "      <td>0</td>\n",
       "      <td>1</td>\n",
       "      <td>0</td>\n",
       "      <td>0</td>\n",
       "      <td>0</td>\n",
       "      <td>1</td>\n",
       "      <td>0</td>\n",
       "      <td>0</td>\n",
       "      <td>0</td>\n",
       "    </tr>\n",
       "    <tr>\n",
       "      <th>50003</th>\n",
       "      <td>1</td>\n",
       "      <td>1</td>\n",
       "      <td>4</td>\n",
       "      <td>3</td>\n",
       "      <td>6</td>\n",
       "      <td>1</td>\n",
       "      <td>0.0</td>\n",
       "      <td>1.0</td>\n",
       "      <td>-0.03925</td>\n",
       "      <td>-1.307210</td>\n",
       "      <td>...</td>\n",
       "      <td>1</td>\n",
       "      <td>0</td>\n",
       "      <td>1</td>\n",
       "      <td>0</td>\n",
       "      <td>0</td>\n",
       "      <td>0</td>\n",
       "      <td>1</td>\n",
       "      <td>0</td>\n",
       "      <td>0</td>\n",
       "      <td>0</td>\n",
       "    </tr>\n",
       "    <tr>\n",
       "      <th>50004</th>\n",
       "      <td>1</td>\n",
       "      <td>3</td>\n",
       "      <td>4</td>\n",
       "      <td>5</td>\n",
       "      <td>8</td>\n",
       "      <td>0</td>\n",
       "      <td>0.0</td>\n",
       "      <td>1.0</td>\n",
       "      <td>-1.21963</td>\n",
       "      <td>-1.307210</td>\n",
       "      <td>...</td>\n",
       "      <td>1</td>\n",
       "      <td>0</td>\n",
       "      <td>1</td>\n",
       "      <td>0</td>\n",
       "      <td>0</td>\n",
       "      <td>1</td>\n",
       "      <td>0</td>\n",
       "      <td>0</td>\n",
       "      <td>0</td>\n",
       "      <td>0</td>\n",
       "    </tr>\n",
       "    <tr>\n",
       "      <th>50005</th>\n",
       "      <td>1</td>\n",
       "      <td>1</td>\n",
       "      <td>3</td>\n",
       "      <td>5</td>\n",
       "      <td>3</td>\n",
       "      <td>0</td>\n",
       "      <td>1.0</td>\n",
       "      <td>1.0</td>\n",
       "      <td>-1.21963</td>\n",
       "      <td>-0.325522</td>\n",
       "      <td>...</td>\n",
       "      <td>0</td>\n",
       "      <td>0</td>\n",
       "      <td>1</td>\n",
       "      <td>0</td>\n",
       "      <td>0</td>\n",
       "      <td>0</td>\n",
       "      <td>1</td>\n",
       "      <td>0</td>\n",
       "      <td>0</td>\n",
       "      <td>0</td>\n",
       "    </tr>\n",
       "  </tbody>\n",
       "</table>\n",
       "<p>5 rows × 30 columns</p>\n",
       "</div>"
      ],
      "text/plain": [
       "            Churn  CityTier  NumberOfDeviceRegistered  SatisfactionScore  \\\n",
       "CustomerID                                                                 \n",
       "50001           1         3                         3                  2   \n",
       "50002           1         1                         4                  3   \n",
       "50003           1         1                         4                  3   \n",
       "50004           1         3                         4                  5   \n",
       "50005           1         1                         3                  5   \n",
       "\n",
       "            NumberOfAddress  Complain  CouponUsed  OrderCount  Tenure_zscore  \\\n",
       "CustomerID                                                                     \n",
       "50001                     9         1         1.0         1.0       -0.74081   \n",
       "50002                     7         1         0.0         1.0       -0.03925   \n",
       "50003                     6         1         0.0         1.0       -0.03925   \n",
       "50004                     8         0         0.0         1.0       -1.21963   \n",
       "50005                     3         0         1.0         1.0       -1.21963   \n",
       "\n",
       "            HourSpendOnApp_zscore  ...  Debit Card  E wallet  Male  Fashion  \\\n",
       "CustomerID                         ...                                        \n",
       "50001                    0.108090  ...           1         0     0        0   \n",
       "50002                    0.108090  ...           0         0     1        0   \n",
       "50003                   -1.307210  ...           1         0     1        0   \n",
       "50004                   -1.307210  ...           1         0     1        0   \n",
       "50005                   -0.325522  ...           0         0     1        0   \n",
       "\n",
       "            Grocery  Laptop & Accessory  Mobile  Mobile Phone  Divorced  \\\n",
       "CustomerID                                                                \n",
       "50001             0                   1       0             0         0   \n",
       "50002             0                   0       1             0         0   \n",
       "50003             0                   0       1             0         0   \n",
       "50004             0                   1       0             0         0   \n",
       "50005             0                   0       1             0         0   \n",
       "\n",
       "            Married  \n",
       "CustomerID           \n",
       "50001             0  \n",
       "50002             0  \n",
       "50003             0  \n",
       "50004             0  \n",
       "50005             0  \n",
       "\n",
       "[5 rows x 30 columns]"
      ]
     },
     "execution_count": 51,
     "metadata": {},
     "output_type": "execute_result"
    }
   ],
   "source": [
    "# total 30 features and 5630 samples\n",
    "\n",
    "full_final.info()\n",
    "full_final.head()"
   ]
  },
  {
   "cell_type": "markdown",
   "metadata": {},
   "source": [
    "# Export CSV"
   ]
  },
  {
   "cell_type": "code",
   "execution_count": 52,
   "metadata": {},
   "outputs": [],
   "source": [
    "# for Decision Tree / Logistic Regression / Naive Bayes\n",
    "\n",
    "full_final.to_csv('ECommerce_Cleansed.csv')\n",
    "\n",
    "# for K Means Clustering\n",
    "\n",
    "full_final2.to_csv('ECommerce_Cleansed_Clustering.csv')"
   ]
  }
 ],
 "metadata": {
  "kernelspec": {
   "display_name": "Python 3",
   "language": "python",
   "name": "python3"
  },
  "language_info": {
   "codemirror_mode": {
    "name": "ipython",
    "version": 3
   },
   "file_extension": ".py",
   "mimetype": "text/x-python",
   "name": "python",
   "nbconvert_exporter": "python",
   "pygments_lexer": "ipython3",
   "version": "3.6.5"
  }
 },
 "nbformat": 4,
 "nbformat_minor": 2
}
