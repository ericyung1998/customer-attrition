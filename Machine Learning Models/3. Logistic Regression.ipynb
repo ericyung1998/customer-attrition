{
 "cells": [
  {
   "cell_type": "markdown",
   "metadata": {},
   "source": [
    "# Data Initialization"
   ]
  },
  {
   "cell_type": "code",
   "execution_count": 1,
   "metadata": {},
   "outputs": [
    {
     "data": {
      "text/plain": [
       "<Figure size 1296x432 with 0 Axes>"
      ]
     },
     "metadata": {},
     "output_type": "display_data"
    }
   ],
   "source": [
    "# import libraries for data management\n",
    "import numpy as np \n",
    "import pandas as pd\n",
    "from sklearn import preprocessing\n",
    "\n",
    "# import libraries for data visualization\n",
    "import seaborn as sns\n",
    "import matplotlib.pyplot as plt\n",
    "%matplotlib inline\n",
    "fig = plt.figure(figsize=(18,6))\n",
    "\n",
    "from sklearn import metrics\n",
    "from sklearn.metrics import mean_absolute_error\n",
    "from sklearn.metrics import accuracy_score\n",
    "from sklearn.metrics import classification_report\n",
    "from sklearn.metrics import confusion_matrix\n",
    "from sklearn.metrics import precision_recall_curve"
   ]
  },
  {
   "cell_type": "code",
   "execution_count": 2,
   "metadata": {},
   "outputs": [],
   "source": [
    "#load dataset\n",
    "\n",
    "data = pd.read_csv('ECommerce_Cleansed.csv',index_col = 'CustomerID')"
   ]
  },
  {
   "cell_type": "code",
   "execution_count": 3,
   "metadata": {},
   "outputs": [
    {
     "data": {
      "text/html": [
       "<div>\n",
       "<style scoped>\n",
       "    .dataframe tbody tr th:only-of-type {\n",
       "        vertical-align: middle;\n",
       "    }\n",
       "\n",
       "    .dataframe tbody tr th {\n",
       "        vertical-align: top;\n",
       "    }\n",
       "\n",
       "    .dataframe thead th {\n",
       "        text-align: right;\n",
       "    }\n",
       "</style>\n",
       "<table border=\"1\" class=\"dataframe\">\n",
       "  <thead>\n",
       "    <tr style=\"text-align: right;\">\n",
       "      <th></th>\n",
       "      <th>Churn</th>\n",
       "      <th>CityTier</th>\n",
       "      <th>NumberOfDeviceRegistered</th>\n",
       "      <th>SatisfactionScore</th>\n",
       "      <th>NumberOfAddress</th>\n",
       "      <th>Complain</th>\n",
       "      <th>CouponUsed</th>\n",
       "      <th>OrderCount</th>\n",
       "      <th>Tenure_zscore</th>\n",
       "      <th>HourSpendOnApp_zscore</th>\n",
       "      <th>...</th>\n",
       "      <th>Debit Card</th>\n",
       "      <th>E wallet</th>\n",
       "      <th>Male</th>\n",
       "      <th>Fashion</th>\n",
       "      <th>Grocery</th>\n",
       "      <th>Laptop &amp; Accessory</th>\n",
       "      <th>Mobile</th>\n",
       "      <th>Mobile Phone.1</th>\n",
       "      <th>Divorced</th>\n",
       "      <th>Married</th>\n",
       "    </tr>\n",
       "    <tr>\n",
       "      <th>CustomerID</th>\n",
       "      <th></th>\n",
       "      <th></th>\n",
       "      <th></th>\n",
       "      <th></th>\n",
       "      <th></th>\n",
       "      <th></th>\n",
       "      <th></th>\n",
       "      <th></th>\n",
       "      <th></th>\n",
       "      <th></th>\n",
       "      <th></th>\n",
       "      <th></th>\n",
       "      <th></th>\n",
       "      <th></th>\n",
       "      <th></th>\n",
       "      <th></th>\n",
       "      <th></th>\n",
       "      <th></th>\n",
       "      <th></th>\n",
       "      <th></th>\n",
       "      <th></th>\n",
       "    </tr>\n",
       "  </thead>\n",
       "  <tbody>\n",
       "    <tr>\n",
       "      <th>50001</th>\n",
       "      <td>1</td>\n",
       "      <td>3</td>\n",
       "      <td>3</td>\n",
       "      <td>2</td>\n",
       "      <td>9</td>\n",
       "      <td>1</td>\n",
       "      <td>1.0</td>\n",
       "      <td>1.0</td>\n",
       "      <td>-0.74081</td>\n",
       "      <td>0.108090</td>\n",
       "      <td>...</td>\n",
       "      <td>1</td>\n",
       "      <td>0</td>\n",
       "      <td>0</td>\n",
       "      <td>0</td>\n",
       "      <td>0</td>\n",
       "      <td>1</td>\n",
       "      <td>0</td>\n",
       "      <td>0</td>\n",
       "      <td>0</td>\n",
       "      <td>0</td>\n",
       "    </tr>\n",
       "    <tr>\n",
       "      <th>50002</th>\n",
       "      <td>1</td>\n",
       "      <td>1</td>\n",
       "      <td>4</td>\n",
       "      <td>3</td>\n",
       "      <td>7</td>\n",
       "      <td>1</td>\n",
       "      <td>0.0</td>\n",
       "      <td>1.0</td>\n",
       "      <td>-0.03925</td>\n",
       "      <td>0.108090</td>\n",
       "      <td>...</td>\n",
       "      <td>0</td>\n",
       "      <td>0</td>\n",
       "      <td>1</td>\n",
       "      <td>0</td>\n",
       "      <td>0</td>\n",
       "      <td>0</td>\n",
       "      <td>1</td>\n",
       "      <td>0</td>\n",
       "      <td>0</td>\n",
       "      <td>0</td>\n",
       "    </tr>\n",
       "    <tr>\n",
       "      <th>50003</th>\n",
       "      <td>1</td>\n",
       "      <td>1</td>\n",
       "      <td>4</td>\n",
       "      <td>3</td>\n",
       "      <td>6</td>\n",
       "      <td>1</td>\n",
       "      <td>0.0</td>\n",
       "      <td>1.0</td>\n",
       "      <td>-0.03925</td>\n",
       "      <td>-1.307210</td>\n",
       "      <td>...</td>\n",
       "      <td>1</td>\n",
       "      <td>0</td>\n",
       "      <td>1</td>\n",
       "      <td>0</td>\n",
       "      <td>0</td>\n",
       "      <td>0</td>\n",
       "      <td>1</td>\n",
       "      <td>0</td>\n",
       "      <td>0</td>\n",
       "      <td>0</td>\n",
       "    </tr>\n",
       "    <tr>\n",
       "      <th>50004</th>\n",
       "      <td>1</td>\n",
       "      <td>3</td>\n",
       "      <td>4</td>\n",
       "      <td>5</td>\n",
       "      <td>8</td>\n",
       "      <td>0</td>\n",
       "      <td>0.0</td>\n",
       "      <td>1.0</td>\n",
       "      <td>-1.21963</td>\n",
       "      <td>-1.307210</td>\n",
       "      <td>...</td>\n",
       "      <td>1</td>\n",
       "      <td>0</td>\n",
       "      <td>1</td>\n",
       "      <td>0</td>\n",
       "      <td>0</td>\n",
       "      <td>1</td>\n",
       "      <td>0</td>\n",
       "      <td>0</td>\n",
       "      <td>0</td>\n",
       "      <td>0</td>\n",
       "    </tr>\n",
       "    <tr>\n",
       "      <th>50005</th>\n",
       "      <td>1</td>\n",
       "      <td>1</td>\n",
       "      <td>3</td>\n",
       "      <td>5</td>\n",
       "      <td>3</td>\n",
       "      <td>0</td>\n",
       "      <td>1.0</td>\n",
       "      <td>1.0</td>\n",
       "      <td>-1.21963</td>\n",
       "      <td>-0.325522</td>\n",
       "      <td>...</td>\n",
       "      <td>0</td>\n",
       "      <td>0</td>\n",
       "      <td>1</td>\n",
       "      <td>0</td>\n",
       "      <td>0</td>\n",
       "      <td>0</td>\n",
       "      <td>1</td>\n",
       "      <td>0</td>\n",
       "      <td>0</td>\n",
       "      <td>0</td>\n",
       "    </tr>\n",
       "  </tbody>\n",
       "</table>\n",
       "<p>5 rows × 30 columns</p>\n",
       "</div>"
      ],
      "text/plain": [
       "            Churn  CityTier  NumberOfDeviceRegistered  SatisfactionScore  \\\n",
       "CustomerID                                                                 \n",
       "50001           1         3                         3                  2   \n",
       "50002           1         1                         4                  3   \n",
       "50003           1         1                         4                  3   \n",
       "50004           1         3                         4                  5   \n",
       "50005           1         1                         3                  5   \n",
       "\n",
       "            NumberOfAddress  Complain  CouponUsed  OrderCount  Tenure_zscore  \\\n",
       "CustomerID                                                                     \n",
       "50001                     9         1         1.0         1.0       -0.74081   \n",
       "50002                     7         1         0.0         1.0       -0.03925   \n",
       "50003                     6         1         0.0         1.0       -0.03925   \n",
       "50004                     8         0         0.0         1.0       -1.21963   \n",
       "50005                     3         0         1.0         1.0       -1.21963   \n",
       "\n",
       "            HourSpendOnApp_zscore  ...  Debit Card  E wallet  Male  Fashion  \\\n",
       "CustomerID                         ...                                        \n",
       "50001                    0.108090  ...           1         0     0        0   \n",
       "50002                    0.108090  ...           0         0     1        0   \n",
       "50003                   -1.307210  ...           1         0     1        0   \n",
       "50004                   -1.307210  ...           1         0     1        0   \n",
       "50005                   -0.325522  ...           0         0     1        0   \n",
       "\n",
       "            Grocery  Laptop & Accessory  Mobile  Mobile Phone.1  Divorced  \\\n",
       "CustomerID                                                                  \n",
       "50001             0                   1       0               0         0   \n",
       "50002             0                   0       1               0         0   \n",
       "50003             0                   0       1               0         0   \n",
       "50004             0                   1       0               0         0   \n",
       "50005             0                   0       1               0         0   \n",
       "\n",
       "            Married  \n",
       "CustomerID           \n",
       "50001             0  \n",
       "50002             0  \n",
       "50003             0  \n",
       "50004             0  \n",
       "50005             0  \n",
       "\n",
       "[5 rows x 30 columns]"
      ]
     },
     "execution_count": 3,
     "metadata": {},
     "output_type": "execute_result"
    }
   ],
   "source": [
    "data.head()"
   ]
  },
  {
   "cell_type": "markdown",
   "metadata": {},
   "source": [
    "# Machine Learning (Logistic Regression)"
   ]
  },
  {
   "cell_type": "code",
   "execution_count": 4,
   "metadata": {},
   "outputs": [],
   "source": [
    "# import libraries for machine learning (logistic regression)\n",
    "from sklearn.linear_model import LogisticRegression\n",
    "from sklearn.model_selection import RepeatedStratifiedKFold\n",
    "from sklearn.model_selection import train_test_split\n",
    "from sklearn.model_selection import cross_val_score, cross_val_predict\n",
    "from sklearn.model_selection import GridSearchCV"
   ]
  },
  {
   "cell_type": "code",
   "execution_count": 5,
   "metadata": {},
   "outputs": [],
   "source": [
    "# X and Y split\n",
    "\n",
    "X = data.drop(['Churn'],axis='columns',inplace=False)\n",
    "Y = data['Churn']"
   ]
  },
  {
   "cell_type": "code",
   "execution_count": 6,
   "metadata": {},
   "outputs": [],
   "source": [
    "# Test and Train Set Split\n",
    "\n",
    "train_x, test_x, train_y, test_y = train_test_split(X, Y, test_size=0.3, random_state=42)"
   ]
  },
  {
   "cell_type": "code",
   "execution_count": 7,
   "metadata": {},
   "outputs": [],
   "source": [
    "# change target column to array\n",
    "\n",
    "train_yact = train_y.values.ravel()\n",
    "test_yact = test_y.values.ravel()"
   ]
  },
  {
   "cell_type": "markdown",
   "metadata": {},
   "source": [
    "### baseline"
   ]
  },
  {
   "cell_type": "code",
   "execution_count": 8,
   "metadata": {},
   "outputs": [],
   "source": [
    "# define model to be logistic regression\n",
    "\n",
    "lr = LogisticRegression()"
   ]
  },
  {
   "cell_type": "code",
   "execution_count": 9,
   "metadata": {
    "jupyter": {
     "outputs_hidden": true
    }
   },
   "outputs": [
    {
     "name": "stderr",
     "output_type": "stream",
     "text": [
      "C:\\Users\\User\\Anaconda3\\lib\\site-packages\\sklearn\\linear_model\\_logistic.py:765: ConvergenceWarning: lbfgs failed to converge (status=1):\n",
      "STOP: TOTAL NO. of ITERATIONS REACHED LIMIT.\n",
      "\n",
      "Increase the number of iterations (max_iter) or scale the data as shown in:\n",
      "    https://scikit-learn.org/stable/modules/preprocessing.html\n",
      "Please also refer to the documentation for alternative solver options:\n",
      "    https://scikit-learn.org/stable/modules/linear_model.html#logistic-regression\n",
      "  extra_warning_msg=_LOGISTIC_SOLVER_CONVERGENCE_MSG)\n"
     ]
    },
    {
     "data": {
      "text/plain": [
       "LogisticRegression()"
      ]
     },
     "execution_count": 9,
     "metadata": {},
     "output_type": "execute_result"
    }
   ],
   "source": [
    "# train model using training dataset\n",
    "\n",
    "lr.fit(train_x,train_yact)"
   ]
  },
  {
   "cell_type": "code",
   "execution_count": 10,
   "metadata": {},
   "outputs": [
    {
     "data": {
      "text/plain": [
       "array([1, 0, 0, ..., 1, 0, 0], dtype=int64)"
      ]
     },
     "execution_count": 10,
     "metadata": {},
     "output_type": "execute_result"
    }
   ],
   "source": [
    "# Default Model (Baseline)\n",
    "\n",
    "pred_y = lr.predict(test_x)\n",
    "pred_y"
   ]
  },
  {
   "cell_type": "code",
   "execution_count": 11,
   "metadata": {},
   "outputs": [
    {
     "data": {
      "text/plain": [
       "array([[0.22946897, 0.77053103],\n",
       "       [0.99787346, 0.00212654],\n",
       "       [0.83981549, 0.16018451],\n",
       "       ...,\n",
       "       [0.19864324, 0.80135676],\n",
       "       [0.83214739, 0.16785261],\n",
       "       [0.757737  , 0.242263  ]])"
      ]
     },
     "execution_count": 11,
     "metadata": {},
     "output_type": "execute_result"
    }
   ],
   "source": [
    "pred_prob_y = lr.predict_proba(test_x)\n",
    "pred_prob_y"
   ]
  },
  {
   "cell_type": "code",
   "execution_count": 12,
   "metadata": {},
   "outputs": [
    {
     "name": "stdout",
     "output_type": "stream",
     "text": [
      "MAE: 0.09473060982830077\n",
      "Accuracy: 0.9052693901716993\n",
      "Classification Report: \n",
      "               precision    recall  f1-score   support\n",
      "\n",
      "           0       0.91      0.98      0.95      1414\n",
      "           1       0.83      0.52      0.64       275\n",
      "\n",
      "    accuracy                           0.91      1689\n",
      "   macro avg       0.87      0.75      0.79      1689\n",
      "weighted avg       0.90      0.91      0.90      1689\n",
      "\n",
      "Confusion Matrix: \n",
      " [[1385   29]\n",
      " [ 131  144]]\n"
     ]
    }
   ],
   "source": [
    "# Evaluation\n",
    "\n",
    "print(\"MAE:\",mean_absolute_error(test_y, pred_y))\n",
    "print(\"Accuracy:\",accuracy_score(test_y, pred_y, normalize=True, sample_weight=None))\n",
    "print(\"Classification Report:\",'\\n',classification_report(test_y, pred_y))\n",
    "print(\"Confusion Matrix:\", '\\n', confusion_matrix(test_y, pred_y))"
   ]
  },
  {
   "cell_type": "markdown",
   "metadata": {},
   "source": [
    "### overfitting check"
   ]
  },
  {
   "cell_type": "code",
   "execution_count": 13,
   "metadata": {
    "jupyter": {
     "outputs_hidden": true
    }
   },
   "outputs": [
    {
     "name": "stderr",
     "output_type": "stream",
     "text": [
      "C:\\Users\\User\\Anaconda3\\lib\\site-packages\\sklearn\\linear_model\\_logistic.py:765: ConvergenceWarning: lbfgs failed to converge (status=1):\n",
      "STOP: TOTAL NO. of ITERATIONS REACHED LIMIT.\n",
      "\n",
      "Increase the number of iterations (max_iter) or scale the data as shown in:\n",
      "    https://scikit-learn.org/stable/modules/preprocessing.html\n",
      "Please also refer to the documentation for alternative solver options:\n",
      "    https://scikit-learn.org/stable/modules/linear_model.html#logistic-regression\n",
      "  extra_warning_msg=_LOGISTIC_SOLVER_CONVERGENCE_MSG)\n",
      "C:\\Users\\User\\Anaconda3\\lib\\site-packages\\sklearn\\linear_model\\_logistic.py:765: ConvergenceWarning: lbfgs failed to converge (status=1):\n",
      "STOP: TOTAL NO. of ITERATIONS REACHED LIMIT.\n",
      "\n",
      "Increase the number of iterations (max_iter) or scale the data as shown in:\n",
      "    https://scikit-learn.org/stable/modules/preprocessing.html\n",
      "Please also refer to the documentation for alternative solver options:\n",
      "    https://scikit-learn.org/stable/modules/linear_model.html#logistic-regression\n",
      "  extra_warning_msg=_LOGISTIC_SOLVER_CONVERGENCE_MSG)\n",
      "C:\\Users\\User\\Anaconda3\\lib\\site-packages\\sklearn\\linear_model\\_logistic.py:765: ConvergenceWarning: lbfgs failed to converge (status=1):\n",
      "STOP: TOTAL NO. of ITERATIONS REACHED LIMIT.\n",
      "\n",
      "Increase the number of iterations (max_iter) or scale the data as shown in:\n",
      "    https://scikit-learn.org/stable/modules/preprocessing.html\n",
      "Please also refer to the documentation for alternative solver options:\n",
      "    https://scikit-learn.org/stable/modules/linear_model.html#logistic-regression\n",
      "  extra_warning_msg=_LOGISTIC_SOLVER_CONVERGENCE_MSG)\n",
      "C:\\Users\\User\\Anaconda3\\lib\\site-packages\\sklearn\\linear_model\\_logistic.py:765: ConvergenceWarning: lbfgs failed to converge (status=1):\n",
      "STOP: TOTAL NO. of ITERATIONS REACHED LIMIT.\n",
      "\n",
      "Increase the number of iterations (max_iter) or scale the data as shown in:\n",
      "    https://scikit-learn.org/stable/modules/preprocessing.html\n",
      "Please also refer to the documentation for alternative solver options:\n",
      "    https://scikit-learn.org/stable/modules/linear_model.html#logistic-regression\n",
      "  extra_warning_msg=_LOGISTIC_SOLVER_CONVERGENCE_MSG)\n",
      "C:\\Users\\User\\Anaconda3\\lib\\site-packages\\sklearn\\linear_model\\_logistic.py:765: ConvergenceWarning: lbfgs failed to converge (status=1):\n",
      "STOP: TOTAL NO. of ITERATIONS REACHED LIMIT.\n",
      "\n",
      "Increase the number of iterations (max_iter) or scale the data as shown in:\n",
      "    https://scikit-learn.org/stable/modules/preprocessing.html\n",
      "Please also refer to the documentation for alternative solver options:\n",
      "    https://scikit-learn.org/stable/modules/linear_model.html#logistic-regression\n",
      "  extra_warning_msg=_LOGISTIC_SOLVER_CONVERGENCE_MSG)\n",
      "C:\\Users\\User\\Anaconda3\\lib\\site-packages\\sklearn\\linear_model\\_logistic.py:765: ConvergenceWarning: lbfgs failed to converge (status=1):\n",
      "STOP: TOTAL NO. of ITERATIONS REACHED LIMIT.\n",
      "\n",
      "Increase the number of iterations (max_iter) or scale the data as shown in:\n",
      "    https://scikit-learn.org/stable/modules/preprocessing.html\n",
      "Please also refer to the documentation for alternative solver options:\n",
      "    https://scikit-learn.org/stable/modules/linear_model.html#logistic-regression\n",
      "  extra_warning_msg=_LOGISTIC_SOLVER_CONVERGENCE_MSG)\n",
      "C:\\Users\\User\\Anaconda3\\lib\\site-packages\\sklearn\\linear_model\\_logistic.py:765: ConvergenceWarning: lbfgs failed to converge (status=1):\n",
      "STOP: TOTAL NO. of ITERATIONS REACHED LIMIT.\n",
      "\n",
      "Increase the number of iterations (max_iter) or scale the data as shown in:\n",
      "    https://scikit-learn.org/stable/modules/preprocessing.html\n",
      "Please also refer to the documentation for alternative solver options:\n",
      "    https://scikit-learn.org/stable/modules/linear_model.html#logistic-regression\n",
      "  extra_warning_msg=_LOGISTIC_SOLVER_CONVERGENCE_MSG)\n",
      "C:\\Users\\User\\Anaconda3\\lib\\site-packages\\sklearn\\linear_model\\_logistic.py:765: ConvergenceWarning: lbfgs failed to converge (status=1):\n",
      "STOP: TOTAL NO. of ITERATIONS REACHED LIMIT.\n",
      "\n",
      "Increase the number of iterations (max_iter) or scale the data as shown in:\n",
      "    https://scikit-learn.org/stable/modules/preprocessing.html\n",
      "Please also refer to the documentation for alternative solver options:\n",
      "    https://scikit-learn.org/stable/modules/linear_model.html#logistic-regression\n",
      "  extra_warning_msg=_LOGISTIC_SOLVER_CONVERGENCE_MSG)\n",
      "C:\\Users\\User\\Anaconda3\\lib\\site-packages\\sklearn\\linear_model\\_logistic.py:765: ConvergenceWarning: lbfgs failed to converge (status=1):\n",
      "STOP: TOTAL NO. of ITERATIONS REACHED LIMIT.\n",
      "\n",
      "Increase the number of iterations (max_iter) or scale the data as shown in:\n",
      "    https://scikit-learn.org/stable/modules/preprocessing.html\n",
      "Please also refer to the documentation for alternative solver options:\n",
      "    https://scikit-learn.org/stable/modules/linear_model.html#logistic-regression\n",
      "  extra_warning_msg=_LOGISTIC_SOLVER_CONVERGENCE_MSG)\n",
      "C:\\Users\\User\\Anaconda3\\lib\\site-packages\\sklearn\\linear_model\\_logistic.py:765: ConvergenceWarning: lbfgs failed to converge (status=1):\n",
      "STOP: TOTAL NO. of ITERATIONS REACHED LIMIT.\n",
      "\n",
      "Increase the number of iterations (max_iter) or scale the data as shown in:\n",
      "    https://scikit-learn.org/stable/modules/preprocessing.html\n",
      "Please also refer to the documentation for alternative solver options:\n",
      "    https://scikit-learn.org/stable/modules/linear_model.html#logistic-regression\n",
      "  extra_warning_msg=_LOGISTIC_SOLVER_CONVERGENCE_MSG)\n",
      "C:\\Users\\User\\Anaconda3\\lib\\site-packages\\sklearn\\linear_model\\_logistic.py:765: ConvergenceWarning: lbfgs failed to converge (status=1):\n",
      "STOP: TOTAL NO. of ITERATIONS REACHED LIMIT.\n",
      "\n",
      "Increase the number of iterations (max_iter) or scale the data as shown in:\n",
      "    https://scikit-learn.org/stable/modules/preprocessing.html\n",
      "Please also refer to the documentation for alternative solver options:\n",
      "    https://scikit-learn.org/stable/modules/linear_model.html#logistic-regression\n",
      "  extra_warning_msg=_LOGISTIC_SOLVER_CONVERGENCE_MSG)\n",
      "C:\\Users\\User\\Anaconda3\\lib\\site-packages\\sklearn\\linear_model\\_logistic.py:765: ConvergenceWarning: lbfgs failed to converge (status=1):\n",
      "STOP: TOTAL NO. of ITERATIONS REACHED LIMIT.\n",
      "\n",
      "Increase the number of iterations (max_iter) or scale the data as shown in:\n",
      "    https://scikit-learn.org/stable/modules/preprocessing.html\n",
      "Please also refer to the documentation for alternative solver options:\n",
      "    https://scikit-learn.org/stable/modules/linear_model.html#logistic-regression\n",
      "  extra_warning_msg=_LOGISTIC_SOLVER_CONVERGENCE_MSG)\n",
      "C:\\Users\\User\\Anaconda3\\lib\\site-packages\\sklearn\\linear_model\\_logistic.py:765: ConvergenceWarning: lbfgs failed to converge (status=1):\n",
      "STOP: TOTAL NO. of ITERATIONS REACHED LIMIT.\n",
      "\n",
      "Increase the number of iterations (max_iter) or scale the data as shown in:\n",
      "    https://scikit-learn.org/stable/modules/preprocessing.html\n",
      "Please also refer to the documentation for alternative solver options:\n",
      "    https://scikit-learn.org/stable/modules/linear_model.html#logistic-regression\n",
      "  extra_warning_msg=_LOGISTIC_SOLVER_CONVERGENCE_MSG)\n",
      "C:\\Users\\User\\Anaconda3\\lib\\site-packages\\sklearn\\linear_model\\_logistic.py:765: ConvergenceWarning: lbfgs failed to converge (status=1):\n",
      "STOP: TOTAL NO. of ITERATIONS REACHED LIMIT.\n",
      "\n",
      "Increase the number of iterations (max_iter) or scale the data as shown in:\n",
      "    https://scikit-learn.org/stable/modules/preprocessing.html\n",
      "Please also refer to the documentation for alternative solver options:\n",
      "    https://scikit-learn.org/stable/modules/linear_model.html#logistic-regression\n",
      "  extra_warning_msg=_LOGISTIC_SOLVER_CONVERGENCE_MSG)\n",
      "C:\\Users\\User\\Anaconda3\\lib\\site-packages\\sklearn\\linear_model\\_logistic.py:765: ConvergenceWarning: lbfgs failed to converge (status=1):\n",
      "STOP: TOTAL NO. of ITERATIONS REACHED LIMIT.\n",
      "\n",
      "Increase the number of iterations (max_iter) or scale the data as shown in:\n",
      "    https://scikit-learn.org/stable/modules/preprocessing.html\n",
      "Please also refer to the documentation for alternative solver options:\n",
      "    https://scikit-learn.org/stable/modules/linear_model.html#logistic-regression\n",
      "  extra_warning_msg=_LOGISTIC_SOLVER_CONVERGENCE_MSG)\n",
      "C:\\Users\\User\\Anaconda3\\lib\\site-packages\\sklearn\\linear_model\\_logistic.py:765: ConvergenceWarning: lbfgs failed to converge (status=1):\n",
      "STOP: TOTAL NO. of ITERATIONS REACHED LIMIT.\n",
      "\n",
      "Increase the number of iterations (max_iter) or scale the data as shown in:\n",
      "    https://scikit-learn.org/stable/modules/preprocessing.html\n",
      "Please also refer to the documentation for alternative solver options:\n",
      "    https://scikit-learn.org/stable/modules/linear_model.html#logistic-regression\n",
      "  extra_warning_msg=_LOGISTIC_SOLVER_CONVERGENCE_MSG)\n"
     ]
    },
    {
     "name": "stderr",
     "output_type": "stream",
     "text": [
      "C:\\Users\\User\\Anaconda3\\lib\\site-packages\\sklearn\\linear_model\\_logistic.py:765: ConvergenceWarning: lbfgs failed to converge (status=1):\n",
      "STOP: TOTAL NO. of ITERATIONS REACHED LIMIT.\n",
      "\n",
      "Increase the number of iterations (max_iter) or scale the data as shown in:\n",
      "    https://scikit-learn.org/stable/modules/preprocessing.html\n",
      "Please also refer to the documentation for alternative solver options:\n",
      "    https://scikit-learn.org/stable/modules/linear_model.html#logistic-regression\n",
      "  extra_warning_msg=_LOGISTIC_SOLVER_CONVERGENCE_MSG)\n",
      "C:\\Users\\User\\Anaconda3\\lib\\site-packages\\sklearn\\linear_model\\_logistic.py:765: ConvergenceWarning: lbfgs failed to converge (status=1):\n",
      "STOP: TOTAL NO. of ITERATIONS REACHED LIMIT.\n",
      "\n",
      "Increase the number of iterations (max_iter) or scale the data as shown in:\n",
      "    https://scikit-learn.org/stable/modules/preprocessing.html\n",
      "Please also refer to the documentation for alternative solver options:\n",
      "    https://scikit-learn.org/stable/modules/linear_model.html#logistic-regression\n",
      "  extra_warning_msg=_LOGISTIC_SOLVER_CONVERGENCE_MSG)\n",
      "C:\\Users\\User\\Anaconda3\\lib\\site-packages\\sklearn\\linear_model\\_logistic.py:765: ConvergenceWarning: lbfgs failed to converge (status=1):\n",
      "STOP: TOTAL NO. of ITERATIONS REACHED LIMIT.\n",
      "\n",
      "Increase the number of iterations (max_iter) or scale the data as shown in:\n",
      "    https://scikit-learn.org/stable/modules/preprocessing.html\n",
      "Please also refer to the documentation for alternative solver options:\n",
      "    https://scikit-learn.org/stable/modules/linear_model.html#logistic-regression\n",
      "  extra_warning_msg=_LOGISTIC_SOLVER_CONVERGENCE_MSG)\n",
      "C:\\Users\\User\\Anaconda3\\lib\\site-packages\\sklearn\\linear_model\\_logistic.py:765: ConvergenceWarning: lbfgs failed to converge (status=1):\n",
      "STOP: TOTAL NO. of ITERATIONS REACHED LIMIT.\n",
      "\n",
      "Increase the number of iterations (max_iter) or scale the data as shown in:\n",
      "    https://scikit-learn.org/stable/modules/preprocessing.html\n",
      "Please also refer to the documentation for alternative solver options:\n",
      "    https://scikit-learn.org/stable/modules/linear_model.html#logistic-regression\n",
      "  extra_warning_msg=_LOGISTIC_SOLVER_CONVERGENCE_MSG)\n",
      "C:\\Users\\User\\Anaconda3\\lib\\site-packages\\sklearn\\linear_model\\_logistic.py:765: ConvergenceWarning: lbfgs failed to converge (status=1):\n",
      "STOP: TOTAL NO. of ITERATIONS REACHED LIMIT.\n",
      "\n",
      "Increase the number of iterations (max_iter) or scale the data as shown in:\n",
      "    https://scikit-learn.org/stable/modules/preprocessing.html\n",
      "Please also refer to the documentation for alternative solver options:\n",
      "    https://scikit-learn.org/stable/modules/linear_model.html#logistic-regression\n",
      "  extra_warning_msg=_LOGISTIC_SOLVER_CONVERGENCE_MSG)\n",
      "C:\\Users\\User\\Anaconda3\\lib\\site-packages\\sklearn\\linear_model\\_logistic.py:765: ConvergenceWarning: lbfgs failed to converge (status=1):\n",
      "STOP: TOTAL NO. of ITERATIONS REACHED LIMIT.\n",
      "\n",
      "Increase the number of iterations (max_iter) or scale the data as shown in:\n",
      "    https://scikit-learn.org/stable/modules/preprocessing.html\n",
      "Please also refer to the documentation for alternative solver options:\n",
      "    https://scikit-learn.org/stable/modules/linear_model.html#logistic-regression\n",
      "  extra_warning_msg=_LOGISTIC_SOLVER_CONVERGENCE_MSG)\n",
      "C:\\Users\\User\\Anaconda3\\lib\\site-packages\\sklearn\\linear_model\\_logistic.py:765: ConvergenceWarning: lbfgs failed to converge (status=1):\n",
      "STOP: TOTAL NO. of ITERATIONS REACHED LIMIT.\n",
      "\n",
      "Increase the number of iterations (max_iter) or scale the data as shown in:\n",
      "    https://scikit-learn.org/stable/modules/preprocessing.html\n",
      "Please also refer to the documentation for alternative solver options:\n",
      "    https://scikit-learn.org/stable/modules/linear_model.html#logistic-regression\n",
      "  extra_warning_msg=_LOGISTIC_SOLVER_CONVERGENCE_MSG)\n",
      "C:\\Users\\User\\Anaconda3\\lib\\site-packages\\sklearn\\linear_model\\_logistic.py:765: ConvergenceWarning: lbfgs failed to converge (status=1):\n",
      "STOP: TOTAL NO. of ITERATIONS REACHED LIMIT.\n",
      "\n",
      "Increase the number of iterations (max_iter) or scale the data as shown in:\n",
      "    https://scikit-learn.org/stable/modules/preprocessing.html\n",
      "Please also refer to the documentation for alternative solver options:\n",
      "    https://scikit-learn.org/stable/modules/linear_model.html#logistic-regression\n",
      "  extra_warning_msg=_LOGISTIC_SOLVER_CONVERGENCE_MSG)\n",
      "C:\\Users\\User\\Anaconda3\\lib\\site-packages\\sklearn\\linear_model\\_logistic.py:765: ConvergenceWarning: lbfgs failed to converge (status=1):\n",
      "STOP: TOTAL NO. of ITERATIONS REACHED LIMIT.\n",
      "\n",
      "Increase the number of iterations (max_iter) or scale the data as shown in:\n",
      "    https://scikit-learn.org/stable/modules/preprocessing.html\n",
      "Please also refer to the documentation for alternative solver options:\n",
      "    https://scikit-learn.org/stable/modules/linear_model.html#logistic-regression\n",
      "  extra_warning_msg=_LOGISTIC_SOLVER_CONVERGENCE_MSG)\n",
      "C:\\Users\\User\\Anaconda3\\lib\\site-packages\\sklearn\\linear_model\\_logistic.py:765: ConvergenceWarning: lbfgs failed to converge (status=1):\n",
      "STOP: TOTAL NO. of ITERATIONS REACHED LIMIT.\n",
      "\n",
      "Increase the number of iterations (max_iter) or scale the data as shown in:\n",
      "    https://scikit-learn.org/stable/modules/preprocessing.html\n",
      "Please also refer to the documentation for alternative solver options:\n",
      "    https://scikit-learn.org/stable/modules/linear_model.html#logistic-regression\n",
      "  extra_warning_msg=_LOGISTIC_SOLVER_CONVERGENCE_MSG)\n",
      "C:\\Users\\User\\Anaconda3\\lib\\site-packages\\sklearn\\linear_model\\_logistic.py:765: ConvergenceWarning: lbfgs failed to converge (status=1):\n",
      "STOP: TOTAL NO. of ITERATIONS REACHED LIMIT.\n",
      "\n",
      "Increase the number of iterations (max_iter) or scale the data as shown in:\n",
      "    https://scikit-learn.org/stable/modules/preprocessing.html\n",
      "Please also refer to the documentation for alternative solver options:\n",
      "    https://scikit-learn.org/stable/modules/linear_model.html#logistic-regression\n",
      "  extra_warning_msg=_LOGISTIC_SOLVER_CONVERGENCE_MSG)\n",
      "C:\\Users\\User\\Anaconda3\\lib\\site-packages\\sklearn\\linear_model\\_logistic.py:765: ConvergenceWarning: lbfgs failed to converge (status=1):\n",
      "STOP: TOTAL NO. of ITERATIONS REACHED LIMIT.\n",
      "\n",
      "Increase the number of iterations (max_iter) or scale the data as shown in:\n",
      "    https://scikit-learn.org/stable/modules/preprocessing.html\n",
      "Please also refer to the documentation for alternative solver options:\n",
      "    https://scikit-learn.org/stable/modules/linear_model.html#logistic-regression\n",
      "  extra_warning_msg=_LOGISTIC_SOLVER_CONVERGENCE_MSG)\n",
      "C:\\Users\\User\\Anaconda3\\lib\\site-packages\\sklearn\\linear_model\\_logistic.py:765: ConvergenceWarning: lbfgs failed to converge (status=1):\n",
      "STOP: TOTAL NO. of ITERATIONS REACHED LIMIT.\n",
      "\n",
      "Increase the number of iterations (max_iter) or scale the data as shown in:\n",
      "    https://scikit-learn.org/stable/modules/preprocessing.html\n",
      "Please also refer to the documentation for alternative solver options:\n",
      "    https://scikit-learn.org/stable/modules/linear_model.html#logistic-regression\n",
      "  extra_warning_msg=_LOGISTIC_SOLVER_CONVERGENCE_MSG)\n",
      "C:\\Users\\User\\Anaconda3\\lib\\site-packages\\sklearn\\linear_model\\_logistic.py:765: ConvergenceWarning: lbfgs failed to converge (status=1):\n",
      "STOP: TOTAL NO. of ITERATIONS REACHED LIMIT.\n",
      "\n",
      "Increase the number of iterations (max_iter) or scale the data as shown in:\n",
      "    https://scikit-learn.org/stable/modules/preprocessing.html\n",
      "Please also refer to the documentation for alternative solver options:\n",
      "    https://scikit-learn.org/stable/modules/linear_model.html#logistic-regression\n",
      "  extra_warning_msg=_LOGISTIC_SOLVER_CONVERGENCE_MSG)\n",
      "C:\\Users\\User\\Anaconda3\\lib\\site-packages\\sklearn\\linear_model\\_logistic.py:765: ConvergenceWarning: lbfgs failed to converge (status=1):\n",
      "STOP: TOTAL NO. of ITERATIONS REACHED LIMIT.\n",
      "\n",
      "Increase the number of iterations (max_iter) or scale the data as shown in:\n",
      "    https://scikit-learn.org/stable/modules/preprocessing.html\n",
      "Please also refer to the documentation for alternative solver options:\n",
      "    https://scikit-learn.org/stable/modules/linear_model.html#logistic-regression\n",
      "  extra_warning_msg=_LOGISTIC_SOLVER_CONVERGENCE_MSG)\n",
      "C:\\Users\\User\\Anaconda3\\lib\\site-packages\\sklearn\\linear_model\\_logistic.py:765: ConvergenceWarning: lbfgs failed to converge (status=1):\n",
      "STOP: TOTAL NO. of ITERATIONS REACHED LIMIT.\n",
      "\n",
      "Increase the number of iterations (max_iter) or scale the data as shown in:\n",
      "    https://scikit-learn.org/stable/modules/preprocessing.html\n",
      "Please also refer to the documentation for alternative solver options:\n",
      "    https://scikit-learn.org/stable/modules/linear_model.html#logistic-regression\n",
      "  extra_warning_msg=_LOGISTIC_SOLVER_CONVERGENCE_MSG)\n",
      "C:\\Users\\User\\Anaconda3\\lib\\site-packages\\sklearn\\linear_model\\_logistic.py:765: ConvergenceWarning: lbfgs failed to converge (status=1):\n",
      "STOP: TOTAL NO. of ITERATIONS REACHED LIMIT.\n",
      "\n",
      "Increase the number of iterations (max_iter) or scale the data as shown in:\n",
      "    https://scikit-learn.org/stable/modules/preprocessing.html\n",
      "Please also refer to the documentation for alternative solver options:\n",
      "    https://scikit-learn.org/stable/modules/linear_model.html#logistic-regression\n",
      "  extra_warning_msg=_LOGISTIC_SOLVER_CONVERGENCE_MSG)\n"
     ]
    },
    {
     "name": "stderr",
     "output_type": "stream",
     "text": [
      "C:\\Users\\User\\Anaconda3\\lib\\site-packages\\sklearn\\linear_model\\_logistic.py:765: ConvergenceWarning: lbfgs failed to converge (status=1):\n",
      "STOP: TOTAL NO. of ITERATIONS REACHED LIMIT.\n",
      "\n",
      "Increase the number of iterations (max_iter) or scale the data as shown in:\n",
      "    https://scikit-learn.org/stable/modules/preprocessing.html\n",
      "Please also refer to the documentation for alternative solver options:\n",
      "    https://scikit-learn.org/stable/modules/linear_model.html#logistic-regression\n",
      "  extra_warning_msg=_LOGISTIC_SOLVER_CONVERGENCE_MSG)\n",
      "C:\\Users\\User\\Anaconda3\\lib\\site-packages\\sklearn\\linear_model\\_logistic.py:765: ConvergenceWarning: lbfgs failed to converge (status=1):\n",
      "STOP: TOTAL NO. of ITERATIONS REACHED LIMIT.\n",
      "\n",
      "Increase the number of iterations (max_iter) or scale the data as shown in:\n",
      "    https://scikit-learn.org/stable/modules/preprocessing.html\n",
      "Please also refer to the documentation for alternative solver options:\n",
      "    https://scikit-learn.org/stable/modules/linear_model.html#logistic-regression\n",
      "  extra_warning_msg=_LOGISTIC_SOLVER_CONVERGENCE_MSG)\n",
      "C:\\Users\\User\\Anaconda3\\lib\\site-packages\\sklearn\\linear_model\\_logistic.py:765: ConvergenceWarning: lbfgs failed to converge (status=1):\n",
      "STOP: TOTAL NO. of ITERATIONS REACHED LIMIT.\n",
      "\n",
      "Increase the number of iterations (max_iter) or scale the data as shown in:\n",
      "    https://scikit-learn.org/stable/modules/preprocessing.html\n",
      "Please also refer to the documentation for alternative solver options:\n",
      "    https://scikit-learn.org/stable/modules/linear_model.html#logistic-regression\n",
      "  extra_warning_msg=_LOGISTIC_SOLVER_CONVERGENCE_MSG)\n",
      "C:\\Users\\User\\Anaconda3\\lib\\site-packages\\sklearn\\linear_model\\_logistic.py:765: ConvergenceWarning: lbfgs failed to converge (status=1):\n",
      "STOP: TOTAL NO. of ITERATIONS REACHED LIMIT.\n",
      "\n",
      "Increase the number of iterations (max_iter) or scale the data as shown in:\n",
      "    https://scikit-learn.org/stable/modules/preprocessing.html\n",
      "Please also refer to the documentation for alternative solver options:\n",
      "    https://scikit-learn.org/stable/modules/linear_model.html#logistic-regression\n",
      "  extra_warning_msg=_LOGISTIC_SOLVER_CONVERGENCE_MSG)\n",
      "C:\\Users\\User\\Anaconda3\\lib\\site-packages\\sklearn\\linear_model\\_logistic.py:765: ConvergenceWarning: lbfgs failed to converge (status=1):\n",
      "STOP: TOTAL NO. of ITERATIONS REACHED LIMIT.\n",
      "\n",
      "Increase the number of iterations (max_iter) or scale the data as shown in:\n",
      "    https://scikit-learn.org/stable/modules/preprocessing.html\n",
      "Please also refer to the documentation for alternative solver options:\n",
      "    https://scikit-learn.org/stable/modules/linear_model.html#logistic-regression\n",
      "  extra_warning_msg=_LOGISTIC_SOLVER_CONVERGENCE_MSG)\n",
      "C:\\Users\\User\\Anaconda3\\lib\\site-packages\\sklearn\\linear_model\\_logistic.py:765: ConvergenceWarning: lbfgs failed to converge (status=1):\n",
      "STOP: TOTAL NO. of ITERATIONS REACHED LIMIT.\n",
      "\n",
      "Increase the number of iterations (max_iter) or scale the data as shown in:\n",
      "    https://scikit-learn.org/stable/modules/preprocessing.html\n",
      "Please also refer to the documentation for alternative solver options:\n",
      "    https://scikit-learn.org/stable/modules/linear_model.html#logistic-regression\n",
      "  extra_warning_msg=_LOGISTIC_SOLVER_CONVERGENCE_MSG)\n",
      "C:\\Users\\User\\Anaconda3\\lib\\site-packages\\sklearn\\linear_model\\_logistic.py:765: ConvergenceWarning: lbfgs failed to converge (status=1):\n",
      "STOP: TOTAL NO. of ITERATIONS REACHED LIMIT.\n",
      "\n",
      "Increase the number of iterations (max_iter) or scale the data as shown in:\n",
      "    https://scikit-learn.org/stable/modules/preprocessing.html\n",
      "Please also refer to the documentation for alternative solver options:\n",
      "    https://scikit-learn.org/stable/modules/linear_model.html#logistic-regression\n",
      "  extra_warning_msg=_LOGISTIC_SOLVER_CONVERGENCE_MSG)\n",
      "C:\\Users\\User\\Anaconda3\\lib\\site-packages\\sklearn\\linear_model\\_logistic.py:765: ConvergenceWarning: lbfgs failed to converge (status=1):\n",
      "STOP: TOTAL NO. of ITERATIONS REACHED LIMIT.\n",
      "\n",
      "Increase the number of iterations (max_iter) or scale the data as shown in:\n",
      "    https://scikit-learn.org/stable/modules/preprocessing.html\n",
      "Please also refer to the documentation for alternative solver options:\n",
      "    https://scikit-learn.org/stable/modules/linear_model.html#logistic-regression\n",
      "  extra_warning_msg=_LOGISTIC_SOLVER_CONVERGENCE_MSG)\n",
      "C:\\Users\\User\\Anaconda3\\lib\\site-packages\\sklearn\\linear_model\\_logistic.py:765: ConvergenceWarning: lbfgs failed to converge (status=1):\n",
      "STOP: TOTAL NO. of ITERATIONS REACHED LIMIT.\n",
      "\n",
      "Increase the number of iterations (max_iter) or scale the data as shown in:\n",
      "    https://scikit-learn.org/stable/modules/preprocessing.html\n",
      "Please also refer to the documentation for alternative solver options:\n",
      "    https://scikit-learn.org/stable/modules/linear_model.html#logistic-regression\n",
      "  extra_warning_msg=_LOGISTIC_SOLVER_CONVERGENCE_MSG)\n",
      "C:\\Users\\User\\Anaconda3\\lib\\site-packages\\sklearn\\linear_model\\_logistic.py:765: ConvergenceWarning: lbfgs failed to converge (status=1):\n",
      "STOP: TOTAL NO. of ITERATIONS REACHED LIMIT.\n",
      "\n",
      "Increase the number of iterations (max_iter) or scale the data as shown in:\n",
      "    https://scikit-learn.org/stable/modules/preprocessing.html\n",
      "Please also refer to the documentation for alternative solver options:\n",
      "    https://scikit-learn.org/stable/modules/linear_model.html#logistic-regression\n",
      "  extra_warning_msg=_LOGISTIC_SOLVER_CONVERGENCE_MSG)\n",
      "C:\\Users\\User\\Anaconda3\\lib\\site-packages\\sklearn\\linear_model\\_logistic.py:765: ConvergenceWarning: lbfgs failed to converge (status=1):\n",
      "STOP: TOTAL NO. of ITERATIONS REACHED LIMIT.\n",
      "\n",
      "Increase the number of iterations (max_iter) or scale the data as shown in:\n",
      "    https://scikit-learn.org/stable/modules/preprocessing.html\n",
      "Please also refer to the documentation for alternative solver options:\n",
      "    https://scikit-learn.org/stable/modules/linear_model.html#logistic-regression\n",
      "  extra_warning_msg=_LOGISTIC_SOLVER_CONVERGENCE_MSG)\n",
      "C:\\Users\\User\\Anaconda3\\lib\\site-packages\\sklearn\\linear_model\\_logistic.py:765: ConvergenceWarning: lbfgs failed to converge (status=1):\n",
      "STOP: TOTAL NO. of ITERATIONS REACHED LIMIT.\n",
      "\n",
      "Increase the number of iterations (max_iter) or scale the data as shown in:\n",
      "    https://scikit-learn.org/stable/modules/preprocessing.html\n",
      "Please also refer to the documentation for alternative solver options:\n",
      "    https://scikit-learn.org/stable/modules/linear_model.html#logistic-regression\n",
      "  extra_warning_msg=_LOGISTIC_SOLVER_CONVERGENCE_MSG)\n",
      "C:\\Users\\User\\Anaconda3\\lib\\site-packages\\sklearn\\linear_model\\_logistic.py:765: ConvergenceWarning: lbfgs failed to converge (status=1):\n",
      "STOP: TOTAL NO. of ITERATIONS REACHED LIMIT.\n",
      "\n",
      "Increase the number of iterations (max_iter) or scale the data as shown in:\n",
      "    https://scikit-learn.org/stable/modules/preprocessing.html\n",
      "Please also refer to the documentation for alternative solver options:\n",
      "    https://scikit-learn.org/stable/modules/linear_model.html#logistic-regression\n",
      "  extra_warning_msg=_LOGISTIC_SOLVER_CONVERGENCE_MSG)\n",
      "C:\\Users\\User\\Anaconda3\\lib\\site-packages\\sklearn\\linear_model\\_logistic.py:765: ConvergenceWarning: lbfgs failed to converge (status=1):\n",
      "STOP: TOTAL NO. of ITERATIONS REACHED LIMIT.\n",
      "\n",
      "Increase the number of iterations (max_iter) or scale the data as shown in:\n",
      "    https://scikit-learn.org/stable/modules/preprocessing.html\n",
      "Please also refer to the documentation for alternative solver options:\n",
      "    https://scikit-learn.org/stable/modules/linear_model.html#logistic-regression\n",
      "  extra_warning_msg=_LOGISTIC_SOLVER_CONVERGENCE_MSG)\n",
      "C:\\Users\\User\\Anaconda3\\lib\\site-packages\\sklearn\\linear_model\\_logistic.py:765: ConvergenceWarning: lbfgs failed to converge (status=1):\n",
      "STOP: TOTAL NO. of ITERATIONS REACHED LIMIT.\n",
      "\n",
      "Increase the number of iterations (max_iter) or scale the data as shown in:\n",
      "    https://scikit-learn.org/stable/modules/preprocessing.html\n",
      "Please also refer to the documentation for alternative solver options:\n",
      "    https://scikit-learn.org/stable/modules/linear_model.html#logistic-regression\n",
      "  extra_warning_msg=_LOGISTIC_SOLVER_CONVERGENCE_MSG)\n",
      "C:\\Users\\User\\Anaconda3\\lib\\site-packages\\sklearn\\linear_model\\_logistic.py:765: ConvergenceWarning: lbfgs failed to converge (status=1):\n",
      "STOP: TOTAL NO. of ITERATIONS REACHED LIMIT.\n",
      "\n",
      "Increase the number of iterations (max_iter) or scale the data as shown in:\n",
      "    https://scikit-learn.org/stable/modules/preprocessing.html\n",
      "Please also refer to the documentation for alternative solver options:\n",
      "    https://scikit-learn.org/stable/modules/linear_model.html#logistic-regression\n",
      "  extra_warning_msg=_LOGISTIC_SOLVER_CONVERGENCE_MSG)\n"
     ]
    }
   ],
   "source": [
    "# check for overfitting (C values)\n",
    "\n",
    "c_values = np.linspace(0.01,10,50)\n",
    "error_train = []\n",
    "error_test = []\n",
    "\n",
    "\n",
    "for i in c_values:\n",
    "    # 70% train data\n",
    "    lr = LogisticRegression(C = i)\n",
    "    model=lr.fit(train_x,train_y)\n",
    "    pred_y_train = model.predict(train_x)\n",
    "    train_score=accuracy_score(train_y, pred_y_train, normalize=True, sample_weight=None)\n",
    "    error_train.append([i, 1-train_score])\n",
    "\n",
    "    # 30% test data\n",
    "    pred_y = model.predict(test_x)\n",
    "    test_score=accuracy_score(test_y, pred_y, normalize=True, sample_weight=None)\n",
    "    error_test.append([i, 1-test_score])\n",
    "    \n",
    "train_df=pd.DataFrame(error_train,columns=['c_value', 'error rate'])\n",
    "test_df=pd.DataFrame(error_test,columns=['c_value', 'error rate'])"
   ]
  },
  {
   "cell_type": "code",
   "execution_count": 14,
   "metadata": {},
   "outputs": [
    {
     "name": "stdout",
     "output_type": "stream",
     "text": [
      "Training Set Min Error Rate: 10.809% at c_values: 0.21387755102040817\n",
      "Testing Set Min Error Rate: 10.809% at c_values: 0.41775510204081634\n"
     ]
    }
   ],
   "source": [
    "print(\"Training Set Min Error Rate:\",\"{:.3%}\".format(min(train_df['error rate'])),\"at c_values:\",\n",
    "      train_df.loc[train_df['error rate']==min(train_df['error rate'])].iloc[0]['c_value'])\n",
    "print(\"Testing Set Min Error Rate:\",\"{:.3%}\".format(min(train_df['error rate'])),\"at c_values:\",\n",
    "      test_df.loc[test_df['error rate']==min(test_df['error rate'])].iloc[0]['c_value'])"
   ]
  },
  {
   "cell_type": "code",
   "execution_count": 15,
   "metadata": {},
   "outputs": [
    {
     "data": {
      "text/plain": [
       "<matplotlib.legend.Legend at 0x2ed07e38a20>"
      ]
     },
     "execution_count": 15,
     "metadata": {},
     "output_type": "execute_result"
    },
    {
     "data": {
      "image/png": "[encoded data removed]",
      "text/plain": [
       "<Figure size 432x288 with 1 Axes>"
      ]
     },
     "metadata": {},
     "output_type": "display_data"
    }
   ],
   "source": [
    "# range for cvgrid for c_values is 13-18 \n",
    "\n",
    "plt.title('c_values')\n",
    "plt.plot(train_df['c_value'],train_df['error rate'], label='Training Set')\n",
    "plt.plot(test_df['c_value'],test_df['error rate'], label='Testing Set')\n",
    "plt.xlabel('c_values')\n",
    "plt.ylabel('Error (%)')\n",
    "plt.legend()"
   ]
  },
  {
   "cell_type": "markdown",
   "metadata": {},
   "source": [
    "### gridsearchcv"
   ]
  },
  {
   "cell_type": "markdown",
   "metadata": {},
   "source": [
    "**L1 regression**"
   ]
  },
  {
   "cell_type": "code",
   "execution_count": 16,
   "metadata": {},
   "outputs": [],
   "source": [
    "# define different algorithms to use in the optimization problem of L1 regression\n",
    "\n",
    "solvers1 = ['saga', 'liblinear']\n",
    "\n",
    "# define the norm used in the penalization as L1 regression\n",
    "\n",
    "penalty1 = ['l1']\n",
    "\n",
    "# define an array of C values (inverse of regularization strength)\n",
    "\n",
    "c_values1 = np.linspace(0.01,1.5,50)\n",
    "\n",
    "# initiate grid\n",
    "\n",
    "grid1 = dict(solver=solvers1, penalty=penalty1, C=c_values1)\n",
    "cv1 = RepeatedStratifiedKFold(n_splits=10, n_repeats=3, random_state=1)"
   ]
  },
  {
   "cell_type": "code",
   "execution_count": 17,
   "metadata": {},
   "outputs": [],
   "source": [
    "grid_search1 = GridSearchCV(estimator=LogisticRegression(), param_grid=grid1, n_jobs=-1, cv=cv1,error_score=0)"
   ]
  },
  {
   "cell_type": "code",
   "execution_count": 18,
   "metadata": {},
   "outputs": [],
   "source": [
    "# fit the model with a combination of the parameters, this will take a while to run\n",
    "\n",
    "grid_result1 = grid_search1.fit(train_x, train_y)"
   ]
  },
  {
   "cell_type": "code",
   "execution_count": 19,
   "metadata": {},
   "outputs": [
    {
     "data": {
      "text/plain": [
       "0.8873417721518987"
      ]
     },
     "execution_count": 19,
     "metadata": {},
     "output_type": "execute_result"
    }
   ],
   "source": [
    "grid_result1.best_score_"
   ]
  },
  {
   "cell_type": "code",
   "execution_count": 20,
   "metadata": {},
   "outputs": [
    {
     "data": {
      "text/plain": [
       "{'C': 0.7093877551020409, 'penalty': 'l1', 'solver': 'liblinear'}"
      ]
     },
     "execution_count": 20,
     "metadata": {},
     "output_type": "execute_result"
    }
   ],
   "source": [
    "grid_result1.best_params_"
   ]
  },
  {
   "cell_type": "code",
   "execution_count": 21,
   "metadata": {},
   "outputs": [],
   "source": [
    "LR_model_best = LogisticRegression(penalty='l1', C=0.7093877551020409, random_state=0, solver='liblinear')"
   ]
  },
  {
   "cell_type": "code",
   "execution_count": 22,
   "metadata": {},
   "outputs": [
    {
     "data": {
      "text/plain": [
       "LogisticRegression(C=0.7093877551020409, penalty='l1', random_state=0,\n",
       "                   solver='liblinear')"
      ]
     },
     "execution_count": 22,
     "metadata": {},
     "output_type": "execute_result"
    }
   ],
   "source": [
    "LR_model_best.fit(train_x,train_y)"
   ]
  },
  {
   "cell_type": "code",
   "execution_count": 23,
   "metadata": {},
   "outputs": [],
   "source": [
    "pred_y_2_L1 = LR_model_best.predict(test_x)"
   ]
  },
  {
   "cell_type": "code",
   "execution_count": 24,
   "metadata": {},
   "outputs": [],
   "source": [
    "pred_prob_y_2_L1 = LR_model_best.predict_proba(test_x)"
   ]
  },
  {
   "cell_type": "code",
   "execution_count": 25,
   "metadata": {},
   "outputs": [
    {
     "name": "stdout",
     "output_type": "stream",
     "text": [
      "MAE: 0.09354647720544701\n",
      "Accuracy: 0.9064535227945529\n",
      "Classification Report: \n",
      "               precision    recall  f1-score   support\n",
      "\n",
      "           0       0.91      0.98      0.95      1414\n",
      "           1       0.83      0.53      0.65       275\n",
      "\n",
      "    accuracy                           0.91      1689\n",
      "   macro avg       0.87      0.76      0.80      1689\n",
      "weighted avg       0.90      0.91      0.90      1689\n",
      "\n",
      "Confusion Matrix: \n",
      " [[1385   29]\n",
      " [ 129  146]]\n"
     ]
    }
   ],
   "source": [
    "# evaluate result\n",
    "\n",
    "print(\"MAE:\",mean_absolute_error(test_y, pred_y_2_L1))\n",
    "print(\"Accuracy:\",accuracy_score(test_y, pred_y_2_L1, normalize=True, sample_weight=None))\n",
    "print(\"Classification Report:\",'\\n',classification_report(test_y, pred_y_2_L1))\n",
    "print(\"Confusion Matrix:\", '\\n', confusion_matrix(test_y, pred_y_2_L1))"
   ]
  },
  {
   "cell_type": "markdown",
   "metadata": {},
   "source": [
    "**L2 regression**"
   ]
  },
  {
   "cell_type": "code",
   "execution_count": 26,
   "metadata": {},
   "outputs": [],
   "source": [
    "# define different algorithms to use in the optimization problem of L1 regression\n",
    "\n",
    "solvers2 = ['newton-cg', 'lbfgs', 'liblinear']\n",
    "\n",
    "# define the norm used in the penalization as L1 regression\n",
    "\n",
    "penalty2 = ['l2']\n",
    "\n",
    "# define an array of C values (inverse of regularization strength)\n",
    "\n",
    "c_values2 = np.linspace(0.01,1.5,50)\n",
    "\n",
    "# initiate grid\n",
    "\n",
    "grid2 = dict(solver=solvers2, penalty=penalty2, C=c_values2)\n",
    "cv2 = RepeatedStratifiedKFold(n_splits=10, n_repeats=3, random_state=1)"
   ]
  },
  {
   "cell_type": "code",
   "execution_count": 27,
   "metadata": {},
   "outputs": [],
   "source": [
    "grid_search2 = GridSearchCV(estimator=LogisticRegression(), param_grid=grid2, n_jobs=-1, cv=cv2,error_score=0)"
   ]
  },
  {
   "cell_type": "code",
   "execution_count": 28,
   "metadata": {},
   "outputs": [],
   "source": [
    "grid_result2 = grid_search2.fit(train_x, train_y)"
   ]
  },
  {
   "cell_type": "code",
   "execution_count": 29,
   "metadata": {},
   "outputs": [
    {
     "data": {
      "text/plain": [
       "0.8886958384201846"
      ]
     },
     "execution_count": 29,
     "metadata": {},
     "output_type": "execute_result"
    }
   ],
   "source": [
    "grid_result2.best_score_"
   ]
  },
  {
   "cell_type": "code",
   "execution_count": 30,
   "metadata": {},
   "outputs": [
    {
     "data": {
      "text/plain": [
       "{'C': 0.07081632653061225, 'penalty': 'l2', 'solver': 'newton-cg'}"
      ]
     },
     "execution_count": 30,
     "metadata": {},
     "output_type": "execute_result"
    }
   ],
   "source": [
    "grid_result2.best_params_"
   ]
  },
  {
   "cell_type": "code",
   "execution_count": 31,
   "metadata": {},
   "outputs": [],
   "source": [
    "LR_model_best2 = LogisticRegression(penalty='l2', C=0.07081632653061225, random_state=0, solver='newton-cg')"
   ]
  },
  {
   "cell_type": "code",
   "execution_count": 32,
   "metadata": {},
   "outputs": [
    {
     "data": {
      "text/plain": [
       "LogisticRegression(C=0.07081632653061225, random_state=0, solver='newton-cg')"
      ]
     },
     "execution_count": 32,
     "metadata": {},
     "output_type": "execute_result"
    }
   ],
   "source": [
    "LR_model_best2.fit(train_x,train_y)"
   ]
  },
  {
   "cell_type": "code",
   "execution_count": 33,
   "metadata": {},
   "outputs": [],
   "source": [
    "pred_y_2_L2 = LR_model_best2.predict(test_x)"
   ]
  },
  {
   "cell_type": "code",
   "execution_count": 34,
   "metadata": {},
   "outputs": [],
   "source": [
    "pred_prob_y_2_L2 = LR_model_best2.predict_proba(test_x)"
   ]
  },
  {
   "cell_type": "markdown",
   "metadata": {},
   "source": [
    "## Evaluation"
   ]
  },
  {
   "cell_type": "code",
   "execution_count": 35,
   "metadata": {},
   "outputs": [
    {
     "name": "stdout",
     "output_type": "stream",
     "text": [
      "MAE: 0.09591474245115453\n",
      "Accuracy: 0.9040852575488455\n",
      "Classification Report: \n",
      "               precision    recall  f1-score   support\n",
      "\n",
      "           0       0.91      0.98      0.94      1414\n",
      "           1       0.86      0.49      0.63       275\n",
      "\n",
      "    accuracy                           0.90      1689\n",
      "   macro avg       0.88      0.74      0.79      1689\n",
      "weighted avg       0.90      0.90      0.89      1689\n",
      "\n",
      "Confusion Matrix: \n",
      " [[1391   23]\n",
      " [ 139  136]]\n"
     ]
    }
   ],
   "source": [
    "# evaluate result\n",
    "\n",
    "print(\"MAE:\",mean_absolute_error(test_y, pred_y_2_L2))\n",
    "print(\"Accuracy:\",accuracy_score(test_y, pred_y_2_L2, normalize=True, sample_weight=None))\n",
    "print(\"Classification Report:\",'\\n',classification_report(test_y, pred_y_2_L2))\n",
    "print(\"Confusion Matrix:\", '\\n', confusion_matrix(test_y, pred_y_2_L2))"
   ]
  },
  {
   "cell_type": "markdown",
   "metadata": {},
   "source": [
    "### Precision-Recall Curve"
   ]
  },
  {
   "cell_type": "code",
   "execution_count": 36,
   "metadata": {},
   "outputs": [],
   "source": [
    "# array the test_y\n",
    "\n",
    "test_y_array = np.array(test_y)"
   ]
  },
  {
   "cell_type": "code",
   "execution_count": 37,
   "metadata": {},
   "outputs": [],
   "source": [
    "# precision-recall curve\n",
    "\n",
    "precision1, recall1, threshold1 = precision_recall_curve(test_y_array, pred_prob_y[:,1])\n",
    "precision2_L1, recall2_L1, threshold2 = precision_recall_curve(test_y_array, pred_prob_y_2_L1[:,1])"
   ]
  },
  {
   "cell_type": "code",
   "execution_count": 38,
   "metadata": {},
   "outputs": [
    {
     "data": {
      "text/plain": [
       "<matplotlib.legend.Legend at 0x2ed07ece2e8>"
      ]
     },
     "execution_count": 38,
     "metadata": {},
     "output_type": "execute_result"
    },
    {
     "data": {
      "image/png": "[encoded data removed]",
      "text/plain": [
       "<Figure size 432x288 with 1 Axes>"
      ]
     },
     "metadata": {},
     "output_type": "display_data"
    }
   ],
   "source": [
    "plt.plot(precision1,recall1, label='baseline') #baseline\n",
    "plt.plot(precision2_L1,recall2_L1, label='revised model') #cvgrid new model\n",
    "plt.legend()"
   ]
  },
  {
   "cell_type": "code",
   "execution_count": 39,
   "metadata": {},
   "outputs": [],
   "source": [
    "precision1, recall1, threshold1 = precision_recall_curve(test_y_array, pred_prob_y[:,1])\n",
    "precision2_L2, recall2_L2, threshold2_L2 = precision_recall_curve(test_y_array, pred_prob_y_2_L2[:,1])"
   ]
  },
  {
   "cell_type": "code",
   "execution_count": 40,
   "metadata": {},
   "outputs": [
    {
     "data": {
      "text/plain": [
       "<matplotlib.legend.Legend at 0x2ed07ece588>"
      ]
     },
     "execution_count": 40,
     "metadata": {},
     "output_type": "execute_result"
    },
    {
     "data": {
      "image/png": "[encoded data removed]",
      "text/plain": [
       "<Figure size 432x288 with 1 Axes>"
      ]
     },
     "metadata": {},
     "output_type": "display_data"
    }
   ],
   "source": [
    "plt.plot(precision1,recall1, label='baseline') #baseline\n",
    "plt.plot(precision2_L2,recall2_L2, label='revised model') #cvgrid new model\n",
    "plt.legend()"
   ]
  },
  {
   "cell_type": "markdown",
   "metadata": {},
   "source": [
    "### ROC / AUC Curve"
   ]
  },
  {
   "cell_type": "code",
   "execution_count": 41,
   "metadata": {
    "jupyter": {
     "outputs_hidden": true,
     "source_hidden": true
    }
   },
   "outputs": [
    {
     "data": {
      "text/plain": [
       "array([0.75686397, 0.00245362, 0.17240455, ..., 0.80229652, 0.18683952,\n",
       "       0.22277897])"
      ]
     },
     "execution_count": 41,
     "metadata": {},
     "output_type": "execute_result"
    }
   ],
   "source": [
    "pred_prob_y_2_L1[:,1]"
   ]
  },
  {
   "cell_type": "code",
   "execution_count": 42,
   "metadata": {},
   "outputs": [],
   "source": [
    "# ROC\n",
    "\n",
    "fpr1, tpr1, threshold3 = metrics.roc_curve(test_y_array, pred_prob_y[:,1])\n",
    "fpr2_L1, tpr2_L1, threshold4_L1 = metrics.roc_curve(test_y_array, pred_prob_y_2_L1[:,1])"
   ]
  },
  {
   "cell_type": "code",
   "execution_count": 43,
   "metadata": {},
   "outputs": [
    {
     "data": {
      "text/plain": [
       "<matplotlib.legend.Legend at 0x2ed08fedbe0>"
      ]
     },
     "execution_count": 43,
     "metadata": {},
     "output_type": "execute_result"
    },
    {
     "data": {
      "image/png": "[encoded data removed]",
      "text/plain": [
       "<Figure size 432x288 with 1 Axes>"
      ]
     },
     "metadata": {},
     "output_type": "display_data"
    }
   ],
   "source": [
    "plt.plot(fpr1,tpr1, label='baseline') #baseline\n",
    "plt.plot(fpr2_L1,tpr2_L1, label='revised model') #cvgrid new model\n",
    "plt.legend()"
   ]
  },
  {
   "cell_type": "code",
   "execution_count": 44,
   "metadata": {},
   "outputs": [
    {
     "data": {
      "text/plain": [
       "0.8795293815095795"
      ]
     },
     "execution_count": 44,
     "metadata": {},
     "output_type": "execute_result"
    }
   ],
   "source": [
    "# AUC - baseline\n",
    "\n",
    "metrics.auc(fpr1, tpr1)"
   ]
  },
  {
   "cell_type": "code",
   "execution_count": 45,
   "metadata": {},
   "outputs": [
    {
     "data": {
      "text/plain": [
       "0.8783978397839785"
      ]
     },
     "execution_count": 45,
     "metadata": {},
     "output_type": "execute_result"
    }
   ],
   "source": [
    "# AUC - revised model\n",
    "\n",
    "metrics.auc(fpr2_L1, tpr2_L1)"
   ]
  },
  {
   "cell_type": "code",
   "execution_count": 46,
   "metadata": {},
   "outputs": [],
   "source": [
    "# ROC\n",
    "\n",
    "fpr1, tpr1, threshold3 = metrics.roc_curve(test_y_array, pred_prob_y[:,1])\n",
    "fpr2_L2, tpr2_L2, threshold4_L2 = metrics.roc_curve(test_y_array, pred_prob_y_2_L2[:,1])"
   ]
  },
  {
   "cell_type": "code",
   "execution_count": 47,
   "metadata": {},
   "outputs": [
    {
     "data": {
      "text/plain": [
       "<matplotlib.legend.Legend at 0x2ed08ed1860>"
      ]
     },
     "execution_count": 47,
     "metadata": {},
     "output_type": "execute_result"
    },
    {
     "data": {
      "image/png": "[encoded data removed]",
      "text/plain": [
       "<Figure size 432x288 with 1 Axes>"
      ]
     },
     "metadata": {},
     "output_type": "display_data"
    }
   ],
   "source": [
    "plt.plot(fpr1,tpr1, label='baseline') #baseline\n",
    "plt.plot(fpr2_L2,tpr2_L2, label='revised model') #cvgrid new model\n",
    "plt.legend()"
   ]
  },
  {
   "cell_type": "code",
   "execution_count": 48,
   "metadata": {},
   "outputs": [
    {
     "data": {
      "text/plain": [
       "0.8778937893789379"
      ]
     },
     "execution_count": 48,
     "metadata": {},
     "output_type": "execute_result"
    }
   ],
   "source": [
    "# AUC - revised model\n",
    "\n",
    "metrics.auc(fpr2_L2, tpr2_L2)"
   ]
  },
  {
   "cell_type": "markdown",
   "metadata": {},
   "source": [
    "### Cost Sensitivity Analysis - Logistic Regression using L1 as penalty"
   ]
  },
  {
   "cell_type": "code",
   "execution_count": 49,
   "metadata": {},
   "outputs": [],
   "source": [
    "# Cost function used: Cost= FP x (1) + FN x (25)"
   ]
  },
  {
   "cell_type": "code",
   "execution_count": 50,
   "metadata": {
    "jupyter": {
     "outputs_hidden": true
    }
   },
   "outputs": [
    {
     "data": {
      "text/plain": [
       "[1.9944758095092097,\n",
       " 0.9944758095092097,\n",
       " 0.9223877783347858,\n",
       " 0.9168555906540431,\n",
       " 0.9135555446153604,\n",
       " 0.9128770250886289,\n",
       " 0.855180211660985,\n",
       " 0.8491920961105752,\n",
       " 0.8373078681075456,\n",
       " 0.8307563645413443,\n",
       " 0.8281628563667415,\n",
       " 0.8022965216232832,\n",
       " 0.7972715501810254,\n",
       " 0.754463312832364,\n",
       " 0.7537386547071894,\n",
       " 0.7535724733900877,\n",
       " 0.7507158635516317,\n",
       " 0.7222708541687453,\n",
       " 0.7162666195960353,\n",
       " 0.7101331490806955,\n",
       " 0.7089281006000587,\n",
       " 0.6975652605672027,\n",
       " 0.6969416086875417,\n",
       " 0.6827849884616501,\n",
       " 0.6827224033535402,\n",
       " 0.6741717592977764,\n",
       " 0.6707439457094416,\n",
       " 0.6685915433568633,\n",
       " 0.6671788986582456,\n",
       " 0.666780381586089,\n",
       " 0.6648940605761732,\n",
       " 0.6626461785068015,\n",
       " 0.6610077436218101,\n",
       " 0.6606879500421744,\n",
       " 0.6600530832212094,\n",
       " 0.6596521641203607,\n",
       " 0.6510590878387728,\n",
       " 0.6504758396908628,\n",
       " 0.6428665330524975,\n",
       " 0.6350713559753379,\n",
       " 0.6294175122504357,\n",
       " 0.604783201540641,\n",
       " 0.6046333799887298,\n",
       " 0.5999917603872221,\n",
       " 0.5963683994656594,\n",
       " 0.5960722762564644,\n",
       " 0.5936642471181759,\n",
       " 0.5834018729060563,\n",
       " 0.5581862156512029,\n",
       " 0.5563705951426196,\n",
       " 0.552359280294961,\n",
       " 0.5492533496069022,\n",
       " 0.5365768744396473,\n",
       " 0.5304992180827663,\n",
       " 0.5301019937875172,\n",
       " 0.5282982234378931,\n",
       " 0.5278043149593971,\n",
       " 0.5214343953567355,\n",
       " 0.5125990050567054,\n",
       " 0.5120144939741943,\n",
       " 0.5059469378076057,\n",
       " 0.49405585638041427,\n",
       " 0.4907707994004923,\n",
       " 0.4876418831815922,\n",
       " 0.48688920548174824,\n",
       " 0.48398630318607866,\n",
       " 0.4832291020290239,\n",
       " 0.48310431358040673,\n",
       " 0.4789323530566865,\n",
       " 0.4769431612924191,\n",
       " 0.47567398855375437,\n",
       " 0.4700838465920388,\n",
       " 0.4672816080927777,\n",
       " 0.4654891432065525,\n",
       " 0.46543173230494217,\n",
       " 0.4628729763271989,\n",
       " 0.4628544938833355,\n",
       " 0.45999713101746353,\n",
       " 0.45771113117795936,\n",
       " 0.45770995657849206,\n",
       " 0.45599283792249506,\n",
       " 0.4526042845257986,\n",
       " 0.4444730711510288,\n",
       " 0.43362934143512344,\n",
       " 0.4322009373142045,\n",
       " 0.4290823768761544,\n",
       " 0.42401392912515956,\n",
       " 0.4198986445308977,\n",
       " 0.4194157226048424,\n",
       " 0.41884123875485524,\n",
       " 0.41730301242919826,\n",
       " 0.41579923889852927,\n",
       " 0.413699319729251,\n",
       " 0.41227522635824027,\n",
       " 0.41155371454554746,\n",
       " 0.40074720394000257,\n",
       " 0.4007460674958768,\n",
       " 0.39901405943475876,\n",
       " 0.3967190202000462,\n",
       " 0.3901655070015098,\n",
       " 0.38548256508291806,\n",
       " 0.381218566145731,\n",
       " 0.37969036084166646,\n",
       " 0.3783888319294054,\n",
       " 0.37656166423779125,\n",
       " 0.3728839367984202,\n",
       " 0.3701565384378742,\n",
       " 0.3672540016669425,\n",
       " 0.36714224356399533,\n",
       " 0.3671086199529624,\n",
       " 0.3643596321256039,\n",
       " 0.3643585361291006,\n",
       " 0.35995643740716804,\n",
       " 0.35911314382783244,\n",
       " 0.3558897394580997,\n",
       " 0.35437862717748286,\n",
       " 0.3530721317127468,\n",
       " 0.3518530580482201,\n",
       " 0.3474444438816082,\n",
       " 0.3437549993330016,\n",
       " 0.34364410642599785,\n",
       " 0.33386624324251224,\n",
       " 0.3334269010804287,\n",
       " 0.3228125550817972,\n",
       " 0.31908628872558775,\n",
       " 0.3152801829456846,\n",
       " 0.3137202068083094,\n",
       " 0.31212227402665327,\n",
       " 0.3062717099161698,\n",
       " 0.293020523179299,\n",
       " 0.2925900317005457,\n",
       " 0.2896145600797758,\n",
       " 0.28935905212308727,\n",
       " 0.28877506547619297,\n",
       " 0.2868005862438098,\n",
       " 0.28662485312678787,\n",
       " 0.2806434974356615,\n",
       " 0.2789716072487251,\n",
       " 0.2768198004378477,\n",
       " 0.27579767522599985,\n",
       " 0.27381215241946144,\n",
       " 0.2714387739910733,\n",
       " 0.2686494500305961,\n",
       " 0.26813655702330874,\n",
       " 0.2654165888883704,\n",
       " 0.2647286694490538,\n",
       " 0.2629092511365805,\n",
       " 0.2596837672364149,\n",
       " 0.24993097876908912,\n",
       " 0.24976101047343457,\n",
       " 0.24662105754110414,\n",
       " 0.2445597888833079,\n",
       " 0.24436943974782446,\n",
       " 0.2439110807117231,\n",
       " 0.24367363124685726,\n",
       " 0.24141206100745416,\n",
       " 0.2414111943807088,\n",
       " 0.24100202423688147,\n",
       " 0.239558357527201,\n",
       " 0.23315908896035875,\n",
       " 0.23094129050257212,\n",
       " 0.23080647659871853,\n",
       " 0.2283848746283662,\n",
       " 0.22798655023084954,\n",
       " 0.2278301592479456,\n",
       " 0.22277897426444981,\n",
       " 0.22187798746987042,\n",
       " 0.2215559157692042,\n",
       " 0.21976100759969663,\n",
       " 0.2197347050304541,\n",
       " 0.21921861709500998,\n",
       " 0.21903186040550882,\n",
       " 0.21799248379597616,\n",
       " 0.21754302897693029,\n",
       " 0.2172594463331424,\n",
       " 0.21681919584183548,\n",
       " 0.2157035192645008,\n",
       " 0.21458301480825118,\n",
       " 0.21371653520200032,\n",
       " 0.19152971726937468,\n",
       " 0.19120076501449199,\n",
       " 0.19110385165668592,\n",
       " 0.19009104734979781,\n",
       " 0.1874352656674441,\n",
       " 0.18683951745676794,\n",
       " 0.18424349246383354,\n",
       " 0.1832310187133178,\n",
       " 0.1830121790581539,\n",
       " 0.18237565612992027,\n",
       " 0.18096663640374058,\n",
       " 0.1808432163367689,\n",
       " 0.17955764119182055,\n",
       " 0.17871942332133456,\n",
       " 0.1748809852813287,\n",
       " 0.1744761787766273,\n",
       " 0.17240454970255106,\n",
       " 0.1719957624903826,\n",
       " 0.17120481436534127,\n",
       " 0.1707733569101736,\n",
       " 0.16827341679526048,\n",
       " 0.16772349017430316,\n",
       " 0.16710052489848376,\n",
       " 0.16690703737692603,\n",
       " 0.16035212681706798,\n",
       " 0.15998614241203785,\n",
       " 0.1592396924714732,\n",
       " 0.15847791226746472,\n",
       " 0.15732569159304932,\n",
       " 0.15719811978493647,\n",
       " 0.15643388179339185,\n",
       " 0.15539676701639532,\n",
       " 0.15133542987504658,\n",
       " 0.14954417803294737,\n",
       " 0.1418035179684087,\n",
       " 0.14122407881810178,\n",
       " 0.1408457553214297,\n",
       " 0.14067494178591178,\n",
       " 0.13712728521848108,\n",
       " 0.13617103208147896,\n",
       " 0.13523063627204454,\n",
       " 0.1352300828679612,\n",
       " 0.1337385975966742,\n",
       " 0.13373804935417527,\n",
       " 0.13347830542086858,\n",
       " 0.13170429221175908,\n",
       " 0.1286320552907951,\n",
       " 0.12831992771227832,\n",
       " 0.1263472385322271,\n",
       " 0.1263267958943058,\n",
       " 0.1253499622815393,\n",
       " 0.12420979582730912,\n",
       " 0.12374739732007246,\n",
       " 0.12348380105477597,\n",
       " 0.1189543979792749,\n",
       " 0.1186275053357791,\n",
       " 0.11248846387505852,\n",
       " 0.1115541374089162,\n",
       " 0.10745104163904115,\n",
       " 0.1072496545108157,\n",
       " 0.10552085864221493,\n",
       " 0.10549938401248014,\n",
       " 0.10193116209829814,\n",
       " 0.10193072890322682,\n",
       " 0.09697617821292288,\n",
       " 0.09693866036146488,\n",
       " 0.09351412192378879,\n",
       " 0.09344872694216809,\n",
       " 0.08806878358270305,\n",
       " 0.0879283407509952,\n",
       " 0.0864535312725362,\n",
       " 0.08628439850215489,\n",
       " 0.08613984031556496,\n",
       " 0.08409460363115047,\n",
       " 0.08339311256468775,\n",
       " 0.08324416778770405,\n",
       " 0.08324380664872741,\n",
       " 0.08249063761160097,\n",
       " 0.08244522438174332,\n",
       " 0.0817581472735452,\n",
       " 0.0812999628275755,\n",
       " 0.07864509454787764,\n",
       " 0.0778853983148552,\n",
       " 0.07542850618748416,\n",
       " 0.07531009345096008,\n",
       " 0.07342237250718447,\n",
       " 0.07314894947285171,\n",
       " 0.07192895285519756,\n",
       " 0.07185881115382847,\n",
       " 0.067692191651006,\n",
       " 0.06765961011753308,\n",
       " 0.0630877346001744,\n",
       " 0.06299085792726879,\n",
       " 0.056799255289059075,\n",
       " 0.05679900176826421,\n",
       " 0.056597018045959395,\n",
       " 0.05656250278916608,\n",
       " 0.056179258809788434,\n",
       " 0.055773784234917065,\n",
       " 0.05574574091856588,\n",
       " 0.055359633216954036,\n",
       " 0.05391889219597211,\n",
       " 0.05382154427478108,\n",
       " 0.0502731746788067,\n",
       " 0.050084430615188864,\n",
       " 0.04844121225203964,\n",
       " 0.048429110483057675,\n",
       " 0.04729852677480748,\n",
       " 0.04726034658804493,\n",
       " 0.046563044056486445,\n",
       " 0.046553956255426486,\n",
       " 0.046365344014910735,\n",
       " 0.04467946233049264,\n",
       " 0.04466514299468844,\n",
       " 0.0440020522276311,\n",
       " 0.04399895136000572,\n",
       " 0.041616991981385555,\n",
       " 0.04128348802667596,\n",
       " 0.03977831744051523,\n",
       " 0.039309327988228476,\n",
       " 0.038564237660597606,\n",
       " 0.038410099116827495,\n",
       " 0.035617458452415554,\n",
       " 0.035589312679132325,\n",
       " 0.03490976720491034,\n",
       " 0.0349001423495549,\n",
       " 0.03411793768821741,\n",
       " 0.034045495539033764,\n",
       " 0.03310649778795596,\n",
       " 0.03291549726570778,\n",
       " 0.0323873882070736,\n",
       " 0.03237688465494144,\n",
       " 0.03219003445540846,\n",
       " 0.03218675371419502,\n",
       " 0.030707791824591428,\n",
       " 0.030656374472719954,\n",
       " 0.030044824302308436,\n",
       " 0.029962867788850562,\n",
       " 0.02148351147007552,\n",
       " 0.021361195188653523,\n",
       " 0.02013070134498826,\n",
       " 0.020013668243180883,\n",
       " 0.019934940241636927,\n",
       " 0.01992006629733693,\n",
       " 0.019166269839530937,\n",
       " 0.0191098782756305,\n",
       " 0.018816237312173054,\n",
       " 0.018740073046968887,\n",
       " 0.016188187955727563,\n",
       " 0.01618279352324947,\n",
       " 0.015535287632228527,\n",
       " 0.015505645041608318,\n",
       " 0.015373138980929445,\n",
       " 0.015368849827218539,\n",
       " 0.014883274960935555,\n",
       " 0.014858703887053733,\n",
       " 0.014344225540411789,\n",
       " 0.014224493007320734,\n",
       " 0.014117072832051398,\n",
       " 0.014117006969776861,\n",
       " 0.0137616031543523,\n",
       " 0.013589958494163903,\n",
       " 0.010339620778952185,\n",
       " 0.010252058895795597,\n",
       " 0.010136379552311822,\n",
       " 0.010099999862946846,\n",
       " 0.009414350360422248,\n",
       " 0.00940468012617691,\n",
       " 0.00936516148939802,\n",
       " 0.009349495531237643,\n",
       " 0.009200557531179567,\n",
       " 0.009159695048327959,\n",
       " 0.009156649780000367,\n",
       " 0.009150595145738212,\n",
       " 0.00914082071010964,\n",
       " 0.009099042688106244,\n",
       " 0.008902744963150628,\n",
       " 0.008847042888576946,\n",
       " 0.008825188602942562,\n",
       " 0.008077054275851477,\n",
       " 0.007950413236880295,\n",
       " 0.007918036528884087,\n",
       " 0.007882080600375608,\n",
       " 0.007529183173772917,\n",
       " 0.007529147812139426,\n",
       " 0.007299141993746296,\n",
       " 0.007285560319282086,\n",
       " 0.007279947429353794,\n",
       " 0.007193772468204999,\n",
       " 0.007136884645377867,\n",
       " 0.006188348399841902,\n",
       " 0.006168042928392246,\n",
       " 0.0058343497047751575,\n",
       " 0.005828793602872496,\n",
       " 0.0057260560469610065,\n",
       " 0.005383085458434296,\n",
       " 0.005312182948547949,\n",
       " 0.004825741385650541,\n",
       " 0.004819387170267224,\n",
       " 0.0046942786302443555,\n",
       " 0.004694256520075032,\n",
       " 0.003741674088525684,\n",
       " 0.003738183618939576,\n",
       " 0.003718192131647654,\n",
       " 0.0037014170647510524,\n",
       " 0.0034566174539059275,\n",
       " 0.0034410357720406717,\n",
       " 0.003250373949629509,\n",
       " 0.0031959711149385133,\n",
       " 0.0026047464484789014,\n",
       " 0.0025839886123678827,\n",
       " 0.001981649905444772,\n",
       " 0.001952921988654923,\n",
       " 0.00036227161094974826,\n",
       " 0.0003397118257902521,\n",
       " 9.366117452697658e-06]"
      ]
     },
     "execution_count": 50,
     "metadata": {},
     "output_type": "execute_result"
    }
   ],
   "source": [
    "# converting the fpr, tpr, threshold arrays obtained previously to lists for easier manipulation\n",
    "\n",
    "fpr2_L1.tolist()\n",
    "tpr2_L1.tolist()\n",
    "threshold4_L1.tolist()"
   ]
  },
  {
   "cell_type": "code",
   "execution_count": 53,
   "metadata": {},
   "outputs": [],
   "source": [
    "# calculate the cost for each thresholds and compile them into a list \n",
    "\n",
    "costlist2=[]\n",
    "fnr2_L1=[]\n",
    "for fpr,tpr,thres in zip(fpr2_L1[1:], tpr2_L1[1:], threshold4_L1[1:]):\n",
    "    fnr=1-tpr\n",
    "    fnr2_L1.append(fnr)\n",
    "    cost=((fpr*(1414)*1)+(fnr*275*25))\n",
    "    costlist2.append(cost)"
   ]
  },
  {
   "cell_type": "code",
   "execution_count": 54,
   "metadata": {},
   "outputs": [
    {
     "data": {
      "text/plain": [
       "[<matplotlib.lines.Line2D at 0x2ed090a9978>]"
      ]
     },
     "execution_count": 54,
     "metadata": {},
     "output_type": "execute_result"
    },
    {
     "data": {
      "image/png": "[encoded data removed]",
      "text/plain": [
       "<Figure size 432x288 with 1 Axes>"
      ]
     },
     "metadata": {},
     "output_type": "display_data"
    }
   ],
   "source": [
    "# plot the cost curve\n",
    "\n",
    "plt.plot(threshold4_L1[1:],costlist2, label='baseline')"
   ]
  },
  {
   "cell_type": "code",
   "execution_count": 55,
   "metadata": {},
   "outputs": [
    {
     "name": "stdout",
     "output_type": "stream",
     "text": [
      "The best performing threshold is 0.08339311256468775 with a minimum cost of 1187.0 .\n"
     ]
    }
   ],
   "source": [
    "# find the minimum cost from the cost curve and its corresponding threshold\n",
    "\n",
    "newlist=[]\n",
    "for m, n in zip(threshold4_L1[1:],costlist2):\n",
    "    newlist.append([m,n])\n",
    "a,b=newlist[costlist2.index(min(costlist2))]\n",
    "print(\"The best performing threshold is\",a,\"with a minimum cost of\",b,\".\")"
   ]
  },
  {
   "cell_type": "markdown",
   "metadata": {},
   "source": [
    "### Feature Importance Analysis -  Logistic Regression using L1 as penalty"
   ]
  },
  {
   "cell_type": "code",
   "execution_count": 56,
   "metadata": {},
   "outputs": [
    {
     "name": "stdout",
     "output_type": "stream",
     "text": [
      "Feature: 0, Score: 0.40023\n",
      "Feature: 1, Score: 0.30843\n",
      "Feature: 2, Score: 0.26821\n",
      "Feature: 3, Score: 0.22107\n",
      "Feature: 4, Score: 1.69339\n",
      "Feature: 5, Score: 0.00000\n",
      "Feature: 6, Score: 0.14074\n",
      "Feature: 7, Score: -1.62847\n",
      "Feature: 8, Score: -0.08144\n",
      "Feature: 9, Score: 0.30774\n",
      "Feature: 10, Score: -0.35230\n",
      "Feature: 11, Score: -0.02591\n",
      "Feature: 12, Score: -0.57187\n",
      "Feature: 13, Score: 0.46423\n",
      "Feature: 14, Score: 0.00426\n",
      "Feature: 15, Score: -0.19405\n",
      "Feature: 16, Score: 0.28695\n",
      "Feature: 17, Score: 1.00205\n",
      "Feature: 18, Score: -0.30217\n",
      "Feature: 19, Score: 0.00000\n",
      "Feature: 20, Score: 0.40251\n",
      "Feature: 21, Score: 0.35376\n",
      "Feature: 22, Score: -0.44019\n",
      "Feature: 23, Score: 0.00000\n",
      "Feature: 24, Score: -1.86439\n",
      "Feature: 25, Score: -0.66654\n",
      "Feature: 26, Score: -0.82892\n",
      "Feature: 27, Score: -0.77704\n",
      "Feature: 28, Score: -0.99871\n"
     ]
    },
    {
     "data": {
      "image/png": "[encoded data removed]",
      "text/plain": [
       "<Figure size 432x288 with 1 Axes>"
      ]
     },
     "metadata": {},
     "output_type": "display_data"
    }
   ],
   "source": [
    "# get importance\n",
    "\n",
    "importance = LR_model_best.coef_[0]\n",
    "\n",
    "# summarize feature importance\n",
    "\n",
    "for i,v in enumerate(importance):\n",
    "    print('Feature: %0d, Score: %.5f' % (i,v))\n",
    "    \n",
    "# plot feature importance\n",
    "\n",
    "plt.bar([x for x in range(len(importance))], importance)\n",
    "plt.xlabel('Feature')\n",
    "plt.ylabel('Coefficient of the feature')\n",
    "plt.show()"
   ]
  },
  {
   "cell_type": "code",
   "execution_count": 57,
   "metadata": {},
   "outputs": [
    {
     "name": "stdout",
     "output_type": "stream",
     "text": [
      "Feature: 24, Score: -1.86439\n",
      "Feature: 4, Score: 1.69339\n",
      "Feature: 7, Score: -1.62847\n"
     ]
    }
   ],
   "source": [
    "# find the top three informative features\n",
    "\n",
    "importancelist=importance.tolist()\n",
    "for v in sorted(importancelist,key=abs,reverse=True)[:3]:\n",
    "    print('Feature: %0d, Score: %.5f' % (importancelist.index(v),v))"
   ]
  },
  {
   "cell_type": "code",
   "execution_count": 58,
   "metadata": {},
   "outputs": [
    {
     "name": "stdout",
     "output_type": "stream",
     "text": [
      "The most informative features are Laptop & Accessory, Complain, and Tenure_zscore\n"
     ]
    }
   ],
   "source": [
    "# Feature 24, 4, 7 are the most informative features according to the decision tree text representation.\n",
    "\n",
    "print('The most informative features are {}, {}, and {}'.format(train_x.columns[24], train_x.columns[4],train_x.columns[7]))"
   ]
  }
 ],
 "metadata": {
  "kernelspec": {
   "display_name": "Python 3",
   "language": "python",
   "name": "python3"
  },
  "language_info": {
   "codemirror_mode": {
    "name": "ipython",
    "version": 3
   },
   "file_extension": ".py",
   "mimetype": "text/x-python",
   "name": "python",
   "nbconvert_exporter": "python",
   "pygments_lexer": "ipython3",
   "version": "3.6.5"
  }
 },
 "nbformat": 4,
 "nbformat_minor": 4
}
