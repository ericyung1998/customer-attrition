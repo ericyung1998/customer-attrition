{
 "cells": [
  {
   "cell_type": "markdown",
   "metadata": {
    "id": "pRa9EjziBj-K"
   },
   "source": [
    "# Data Initialization"
   ]
  },
  {
   "cell_type": "code",
   "execution_count": 1,
   "metadata": {
    "colab": {
     "base_uri": "https://localhost:8080/",
     "height": 34
    },
    "executionInfo": {
     "elapsed": 4286,
     "status": "ok",
     "timestamp": 1619975655125,
     "user": {
      "displayName": "Sum Yee Li",
      "photoUrl": "",
      "userId": "09269105382714030428"
     },
     "user_tz": -480
    },
    "id": "rpS8mKYhBj-i",
    "outputId": "223eeba3-6bd6-4eb9-f3b0-21753d4064e7"
   },
   "outputs": [
    {
     "data": {
      "text/plain": [
       "<Figure size 1296x432 with 0 Axes>"
      ]
     },
     "metadata": {},
     "output_type": "display_data"
    }
   ],
   "source": [
    "# import libraries for data management\n",
    "import numpy as np \n",
    "import pandas as pd\n",
    "from sklearn import preprocessing\n",
    "\n",
    "# import libraries for data visualization\n",
    "import seaborn as sns\n",
    "import matplotlib.pyplot as plt\n",
    "%matplotlib inline\n",
    "fig = plt.figure(figsize=(18,6))\n",
    "\n",
    "from sklearn import metrics\n",
    "from sklearn.metrics import mean_absolute_error\n",
    "from sklearn.metrics import accuracy_score\n",
    "from sklearn.metrics import classification_report\n",
    "from sklearn.metrics import confusion_matrix\n",
    "from sklearn.metrics import precision_recall_curve"
   ]
  },
  {
   "cell_type": "code",
   "execution_count": 2,
   "metadata": {
    "colab": {
     "base_uri": "https://localhost:8080/",
     "height": 408
    },
    "executionInfo": {
     "elapsed": 1089,
     "status": "error",
     "timestamp": 1619975736204,
     "user": {
      "displayName": "Sum Yee Li",
      "photoUrl": "",
      "userId": "09269105382714030428"
     },
     "user_tz": -480
    },
    "id": "qzEpgtVDBj-q",
    "outputId": "76f3df90-4698-4e6c-f0f4-096e78230454"
   },
   "outputs": [],
   "source": [
    "#load dataset\n",
    "\n",
    "data = pd.read_csv('ECommerce_Cleansed.csv',index_col = 'CustomerID')"
   ]
  },
  {
   "cell_type": "code",
   "execution_count": 3,
   "metadata": {
    "executionInfo": {
     "elapsed": 4253,
     "status": "aborted",
     "timestamp": 1619975655128,
     "user": {
      "displayName": "Sum Yee Li",
      "photoUrl": "",
      "userId": "09269105382714030428"
     },
     "user_tz": -480
    },
    "id": "an_SgoSoBj-r"
   },
   "outputs": [
    {
     "data": {
      "text/html": [
       "<div>\n",
       "<style scoped>\n",
       "    .dataframe tbody tr th:only-of-type {\n",
       "        vertical-align: middle;\n",
       "    }\n",
       "\n",
       "    .dataframe tbody tr th {\n",
       "        vertical-align: top;\n",
       "    }\n",
       "\n",
       "    .dataframe thead th {\n",
       "        text-align: right;\n",
       "    }\n",
       "</style>\n",
       "<table border=\"1\" class=\"dataframe\">\n",
       "  <thead>\n",
       "    <tr style=\"text-align: right;\">\n",
       "      <th></th>\n",
       "      <th>Churn</th>\n",
       "      <th>CityTier</th>\n",
       "      <th>NumberOfDeviceRegistered</th>\n",
       "      <th>SatisfactionScore</th>\n",
       "      <th>NumberOfAddress</th>\n",
       "      <th>Complain</th>\n",
       "      <th>CouponUsed</th>\n",
       "      <th>OrderCount</th>\n",
       "      <th>Tenure_zscore</th>\n",
       "      <th>HourSpendOnApp_zscore</th>\n",
       "      <th>...</th>\n",
       "      <th>Debit Card</th>\n",
       "      <th>E wallet</th>\n",
       "      <th>Male</th>\n",
       "      <th>Fashion</th>\n",
       "      <th>Grocery</th>\n",
       "      <th>Laptop &amp; Accessory</th>\n",
       "      <th>Mobile</th>\n",
       "      <th>Mobile Phone.1</th>\n",
       "      <th>Divorced</th>\n",
       "      <th>Married</th>\n",
       "    </tr>\n",
       "    <tr>\n",
       "      <th>CustomerID</th>\n",
       "      <th></th>\n",
       "      <th></th>\n",
       "      <th></th>\n",
       "      <th></th>\n",
       "      <th></th>\n",
       "      <th></th>\n",
       "      <th></th>\n",
       "      <th></th>\n",
       "      <th></th>\n",
       "      <th></th>\n",
       "      <th></th>\n",
       "      <th></th>\n",
       "      <th></th>\n",
       "      <th></th>\n",
       "      <th></th>\n",
       "      <th></th>\n",
       "      <th></th>\n",
       "      <th></th>\n",
       "      <th></th>\n",
       "      <th></th>\n",
       "      <th></th>\n",
       "    </tr>\n",
       "  </thead>\n",
       "  <tbody>\n",
       "    <tr>\n",
       "      <th>50001</th>\n",
       "      <td>1</td>\n",
       "      <td>3</td>\n",
       "      <td>3</td>\n",
       "      <td>2</td>\n",
       "      <td>9</td>\n",
       "      <td>1</td>\n",
       "      <td>1.0</td>\n",
       "      <td>1.0</td>\n",
       "      <td>-0.74081</td>\n",
       "      <td>0.108090</td>\n",
       "      <td>...</td>\n",
       "      <td>1</td>\n",
       "      <td>0</td>\n",
       "      <td>0</td>\n",
       "      <td>0</td>\n",
       "      <td>0</td>\n",
       "      <td>1</td>\n",
       "      <td>0</td>\n",
       "      <td>0</td>\n",
       "      <td>0</td>\n",
       "      <td>0</td>\n",
       "    </tr>\n",
       "    <tr>\n",
       "      <th>50002</th>\n",
       "      <td>1</td>\n",
       "      <td>1</td>\n",
       "      <td>4</td>\n",
       "      <td>3</td>\n",
       "      <td>7</td>\n",
       "      <td>1</td>\n",
       "      <td>0.0</td>\n",
       "      <td>1.0</td>\n",
       "      <td>-0.03925</td>\n",
       "      <td>0.108090</td>\n",
       "      <td>...</td>\n",
       "      <td>0</td>\n",
       "      <td>0</td>\n",
       "      <td>1</td>\n",
       "      <td>0</td>\n",
       "      <td>0</td>\n",
       "      <td>0</td>\n",
       "      <td>1</td>\n",
       "      <td>0</td>\n",
       "      <td>0</td>\n",
       "      <td>0</td>\n",
       "    </tr>\n",
       "    <tr>\n",
       "      <th>50003</th>\n",
       "      <td>1</td>\n",
       "      <td>1</td>\n",
       "      <td>4</td>\n",
       "      <td>3</td>\n",
       "      <td>6</td>\n",
       "      <td>1</td>\n",
       "      <td>0.0</td>\n",
       "      <td>1.0</td>\n",
       "      <td>-0.03925</td>\n",
       "      <td>-1.307210</td>\n",
       "      <td>...</td>\n",
       "      <td>1</td>\n",
       "      <td>0</td>\n",
       "      <td>1</td>\n",
       "      <td>0</td>\n",
       "      <td>0</td>\n",
       "      <td>0</td>\n",
       "      <td>1</td>\n",
       "      <td>0</td>\n",
       "      <td>0</td>\n",
       "      <td>0</td>\n",
       "    </tr>\n",
       "    <tr>\n",
       "      <th>50004</th>\n",
       "      <td>1</td>\n",
       "      <td>3</td>\n",
       "      <td>4</td>\n",
       "      <td>5</td>\n",
       "      <td>8</td>\n",
       "      <td>0</td>\n",
       "      <td>0.0</td>\n",
       "      <td>1.0</td>\n",
       "      <td>-1.21963</td>\n",
       "      <td>-1.307210</td>\n",
       "      <td>...</td>\n",
       "      <td>1</td>\n",
       "      <td>0</td>\n",
       "      <td>1</td>\n",
       "      <td>0</td>\n",
       "      <td>0</td>\n",
       "      <td>1</td>\n",
       "      <td>0</td>\n",
       "      <td>0</td>\n",
       "      <td>0</td>\n",
       "      <td>0</td>\n",
       "    </tr>\n",
       "    <tr>\n",
       "      <th>50005</th>\n",
       "      <td>1</td>\n",
       "      <td>1</td>\n",
       "      <td>3</td>\n",
       "      <td>5</td>\n",
       "      <td>3</td>\n",
       "      <td>0</td>\n",
       "      <td>1.0</td>\n",
       "      <td>1.0</td>\n",
       "      <td>-1.21963</td>\n",
       "      <td>-0.325522</td>\n",
       "      <td>...</td>\n",
       "      <td>0</td>\n",
       "      <td>0</td>\n",
       "      <td>1</td>\n",
       "      <td>0</td>\n",
       "      <td>0</td>\n",
       "      <td>0</td>\n",
       "      <td>1</td>\n",
       "      <td>0</td>\n",
       "      <td>0</td>\n",
       "      <td>0</td>\n",
       "    </tr>\n",
       "  </tbody>\n",
       "</table>\n",
       "<p>5 rows × 30 columns</p>\n",
       "</div>"
      ],
      "text/plain": [
       "            Churn  CityTier  NumberOfDeviceRegistered  SatisfactionScore  \\\n",
       "CustomerID                                                                 \n",
       "50001           1         3                         3                  2   \n",
       "50002           1         1                         4                  3   \n",
       "50003           1         1                         4                  3   \n",
       "50004           1         3                         4                  5   \n",
       "50005           1         1                         3                  5   \n",
       "\n",
       "            NumberOfAddress  Complain  CouponUsed  OrderCount  Tenure_zscore  \\\n",
       "CustomerID                                                                     \n",
       "50001                     9         1         1.0         1.0       -0.74081   \n",
       "50002                     7         1         0.0         1.0       -0.03925   \n",
       "50003                     6         1         0.0         1.0       -0.03925   \n",
       "50004                     8         0         0.0         1.0       -1.21963   \n",
       "50005                     3         0         1.0         1.0       -1.21963   \n",
       "\n",
       "            HourSpendOnApp_zscore  ...  Debit Card  E wallet  Male  Fashion  \\\n",
       "CustomerID                         ...                                        \n",
       "50001                    0.108090  ...           1         0     0        0   \n",
       "50002                    0.108090  ...           0         0     1        0   \n",
       "50003                   -1.307210  ...           1         0     1        0   \n",
       "50004                   -1.307210  ...           1         0     1        0   \n",
       "50005                   -0.325522  ...           0         0     1        0   \n",
       "\n",
       "            Grocery  Laptop & Accessory  Mobile  Mobile Phone.1  Divorced  \\\n",
       "CustomerID                                                                  \n",
       "50001             0                   1       0               0         0   \n",
       "50002             0                   0       1               0         0   \n",
       "50003             0                   0       1               0         0   \n",
       "50004             0                   1       0               0         0   \n",
       "50005             0                   0       1               0         0   \n",
       "\n",
       "            Married  \n",
       "CustomerID           \n",
       "50001             0  \n",
       "50002             0  \n",
       "50003             0  \n",
       "50004             0  \n",
       "50005             0  \n",
       "\n",
       "[5 rows x 30 columns]"
      ]
     },
     "execution_count": 3,
     "metadata": {},
     "output_type": "execute_result"
    }
   ],
   "source": [
    "data.head()"
   ]
  },
  {
   "cell_type": "markdown",
   "metadata": {
    "id": "RwmARhr0Bj-t"
   },
   "source": [
    "# Machine Learning (Decision Tree)"
   ]
  },
  {
   "cell_type": "code",
   "execution_count": 4,
   "metadata": {
    "executionInfo": {
     "elapsed": 4244,
     "status": "aborted",
     "timestamp": 1619975655130,
     "user": {
      "displayName": "Sum Yee Li",
      "photoUrl": "",
      "userId": "09269105382714030428"
     },
     "user_tz": -480
    },
    "id": "gONTMNzXBj-u"
   },
   "outputs": [],
   "source": [
    "# import libraries for machine learning (decision tree)\n",
    "from sklearn import tree\n",
    "from sklearn.model_selection import train_test_split\n",
    "from sklearn.model_selection import cross_val_score, cross_val_predict\n",
    "from sklearn.model_selection import GridSearchCV\n",
    "from sklearn.tree import export_text"
   ]
  },
  {
   "cell_type": "code",
   "execution_count": 5,
   "metadata": {
    "executionInfo": {
     "elapsed": 4240,
     "status": "aborted",
     "timestamp": 1619975655132,
     "user": {
      "displayName": "Sum Yee Li",
      "photoUrl": "",
      "userId": "09269105382714030428"
     },
     "user_tz": -480
    },
    "id": "ChBiBU5WBj-w"
   },
   "outputs": [],
   "source": [
    "# X and Y split\n",
    "\n",
    "X = data.drop(['Churn'],axis='columns',inplace=False)\n",
    "Y = data['Churn']"
   ]
  },
  {
   "cell_type": "code",
   "execution_count": 6,
   "metadata": {
    "executionInfo": {
     "elapsed": 4236,
     "status": "aborted",
     "timestamp": 1619975655134,
     "user": {
      "displayName": "Sum Yee Li",
      "photoUrl": "",
      "userId": "09269105382714030428"
     },
     "user_tz": -480
    },
    "id": "YN1p8OIOBj-x"
   },
   "outputs": [],
   "source": [
    "# Test and Train Set Split\n",
    "\n",
    "train_x, test_x, train_y, test_y = train_test_split(X, Y, test_size=0.3, random_state=42)"
   ]
  },
  {
   "cell_type": "markdown",
   "metadata": {
    "id": "MKJjt0noBj-y"
   },
   "source": [
    "### baseline"
   ]
  },
  {
   "cell_type": "code",
   "execution_count": 7,
   "metadata": {
    "executionInfo": {
     "elapsed": 4232,
     "status": "aborted",
     "timestamp": 1619975655136,
     "user": {
      "displayName": "Sum Yee Li",
      "photoUrl": "",
      "userId": "09269105382714030428"
     },
     "user_tz": -480
    },
    "id": "ssh6bH-cBj-z"
   },
   "outputs": [],
   "source": [
    "# Default Model (Baseline)\n",
    "\n",
    "model = tree.DecisionTreeClassifier()\n",
    "model = model.fit(train_x,train_y)\n",
    "pred_y = model.predict(test_x)\n",
    "pred_prob_y = model.predict_proba(test_x)"
   ]
  },
  {
   "cell_type": "code",
   "execution_count": 8,
   "metadata": {
    "executionInfo": {
     "elapsed": 4215,
     "status": "aborted",
     "timestamp": 1619975655137,
     "user": {
      "displayName": "Sum Yee Li",
      "photoUrl": "",
      "userId": "09269105382714030428"
     },
     "user_tz": -480
    },
    "id": "eBZCdTUHBj-1"
   },
   "outputs": [
    {
     "data": {
      "text/plain": [
       "array([[0., 1.],\n",
       "       [1., 0.],\n",
       "       [1., 0.],\n",
       "       ...,\n",
       "       [0., 1.],\n",
       "       [1., 0.],\n",
       "       [0., 1.]])"
      ]
     },
     "execution_count": 8,
     "metadata": {},
     "output_type": "execute_result"
    }
   ],
   "source": [
    "pred_prob_y"
   ]
  },
  {
   "cell_type": "code",
   "execution_count": 9,
   "metadata": {
    "executionInfo": {
     "elapsed": 4200,
     "status": "aborted",
     "timestamp": 1619975655139,
     "user": {
      "displayName": "Sum Yee Li",
      "photoUrl": "",
      "userId": "09269105382714030428"
     },
     "user_tz": -480
    },
    "id": "5TN-1LfeBj-2"
   },
   "outputs": [
    {
     "name": "stdout",
     "output_type": "stream",
     "text": [
      "MAE: 0.055654233274126705\n",
      "Accuracy: 0.9443457667258733\n",
      "Classification Report: \n",
      "               precision    recall  f1-score   support\n",
      "\n",
      "           0       0.96      0.97      0.97      1414\n",
      "           1       0.84      0.81      0.83       275\n",
      "\n",
      "    accuracy                           0.94      1689\n",
      "   macro avg       0.90      0.89      0.90      1689\n",
      "weighted avg       0.94      0.94      0.94      1689\n",
      "\n",
      "Confusion Matrix: \n",
      " [[1372   42]\n",
      " [  52  223]]\n"
     ]
    }
   ],
   "source": [
    "# Evaluation\n",
    "\n",
    "print(\"MAE:\",mean_absolute_error(test_y, pred_y))\n",
    "print(\"Accuracy:\",accuracy_score(test_y, pred_y, normalize=True, sample_weight=None))\n",
    "print(\"Classification Report:\",'\\n',classification_report(test_y, pred_y))\n",
    "print(\"Confusion Matrix:\", '\\n', confusion_matrix(test_y, pred_y))"
   ]
  },
  {
   "cell_type": "markdown",
   "metadata": {
    "id": "Ggp4opnyBj-3"
   },
   "source": [
    "### Overfitting Check"
   ]
  },
  {
   "cell_type": "code",
   "execution_count": 10,
   "metadata": {
    "executionInfo": {
     "elapsed": 4185,
     "status": "aborted",
     "timestamp": 1619975655141,
     "user": {
      "displayName": "Sum Yee Li",
      "photoUrl": "",
      "userId": "09269105382714030428"
     },
     "user_tz": -480
    },
    "id": "l57AlZGCBj-4"
   },
   "outputs": [
    {
     "name": "stdout",
     "output_type": "stream",
     "text": [
      "Training Set Min Error Rate: 1.421% at nodes: 200\n",
      "Testing Set Error Rate: 6.039% at nodes: 170\n"
     ]
    }
   ],
   "source": [
    "# check for overfitting (max_leaf_nodes)\n",
    "\n",
    "nodes = [10,20,30,40,50,60,70,80,90,100,110,120,130,140,150,160,170,180,190,200]\n",
    "error_train = []\n",
    "error_test = []\n",
    "\n",
    "for i in nodes:\n",
    "    # 70% train data\n",
    "    model = tree.DecisionTreeClassifier(max_leaf_nodes = i)\n",
    "    model = model.fit(train_x,train_y)\n",
    "    pred_y_train = model.predict(train_x)   \n",
    "    error_train.append(1-accuracy_score(train_y, pred_y_train, normalize=True, sample_weight=None))\n",
    "\n",
    "    # 30% test data\n",
    "    pred_y = model.predict(test_x)\n",
    "    error_test.append(1-accuracy_score(test_y, pred_y, normalize=True, sample_weight=None))\n",
    "\n",
    "print(\"Training Set Min Error Rate:\",\"{:.3%}\".format(min(error_train)),\"at nodes:\",nodes[error_train.index(min(error_train))])\n",
    "print(\"Testing Set Error Rate:\",\"{:.3%}\".format(min(error_test)),\"at nodes:\",nodes[error_test.index(min(error_test))])"
   ]
  },
  {
   "cell_type": "code",
   "execution_count": 11,
   "metadata": {
    "executionInfo": {
     "elapsed": 4167,
     "status": "aborted",
     "timestamp": 1619975655143,
     "user": {
      "displayName": "Sum Yee Li",
      "photoUrl": "",
      "userId": "09269105382714030428"
     },
     "user_tz": -480
    },
    "id": "dErd_8JIBj-6"
   },
   "outputs": [
    {
     "data": {
      "text/plain": [
       "<matplotlib.legend.Legend at 0x186a2808240>"
      ]
     },
     "execution_count": 11,
     "metadata": {},
     "output_type": "execute_result"
    },
    {
     "data": {
      "image/png": "[encoded data removed]",
      "text/plain": [
       "<Figure size 432x288 with 1 Axes>"
      ]
     },
     "metadata": {},
     "output_type": "display_data"
    }
   ],
   "source": [
    "# range for cvgrid for leaf nodes is 150-170\n",
    "\n",
    "plt.title('Max Leaf Nodes')\n",
    "plt.plot(nodes,error_train, label='Training Set')\n",
    "plt.plot(nodes,error_test, label='Testing Set')\n",
    "plt.xlabel('Number of Nodes')\n",
    "plt.ylabel('Error (%)')\n",
    "plt.legend()"
   ]
  },
  {
   "cell_type": "code",
   "execution_count": 12,
   "metadata": {
    "executionInfo": {
     "elapsed": 4541,
     "status": "aborted",
     "timestamp": 1619975655536,
     "user": {
      "displayName": "Sum Yee Li",
      "photoUrl": "",
      "userId": "09269105382714030428"
     },
     "user_tz": -480
    },
    "id": "b1MEoSY3Bj-7"
   },
   "outputs": [
    {
     "name": "stdout",
     "output_type": "stream",
     "text": [
      "Training Set Min Error Rate: 0.000% at depths: 15\n",
      "Testing Set Error Rate: 5.388% at depths: 18\n"
     ]
    }
   ],
   "source": [
    "# check for overfitting (depth)\n",
    "\n",
    "depths = [*range(1,21)]\n",
    "error_train = []\n",
    "error_test = []\n",
    "\n",
    "for i in depths:\n",
    "    # 70% train data\n",
    "    model = tree.DecisionTreeClassifier(max_depth = i)\n",
    "    model = model.fit(train_x,train_y)\n",
    "    pred_y_train = model.predict(train_x)   \n",
    "    error_train.append(1-accuracy_score(train_y, pred_y_train, normalize=True, sample_weight=None))\n",
    "\n",
    "    # 30% test data\n",
    "    pred_y = model.predict(test_x)\n",
    "    error_test.append(1-accuracy_score(test_y, pred_y, normalize=True, sample_weight=None))\n",
    "\n",
    "print(\"Training Set Min Error Rate:\",\"{:.3%}\".format(min(error_train)),\"at depths:\",depths[error_train.index(min(error_train))])\n",
    "print(\"Testing Set Error Rate:\",\"{:.3%}\".format(min(error_test)),\"at depths:\",depths[error_test.index(min(error_test))])"
   ]
  },
  {
   "cell_type": "code",
   "execution_count": 13,
   "metadata": {
    "executionInfo": {
     "elapsed": 4521,
     "status": "aborted",
     "timestamp": 1619975655539,
     "user": {
      "displayName": "Sum Yee Li",
      "photoUrl": "",
      "userId": "09269105382714030428"
     },
     "user_tz": -480
    },
    "id": "xs5wXyXFBj-9"
   },
   "outputs": [
    {
     "data": {
      "text/plain": [
       "<matplotlib.legend.Legend at 0x186a289ed68>"
      ]
     },
     "execution_count": 13,
     "metadata": {},
     "output_type": "execute_result"
    },
    {
     "data": {
      "image/png": "[encoded data removed]",
      "text/plain": [
       "<Figure size 432x288 with 1 Axes>"
      ]
     },
     "metadata": {},
     "output_type": "display_data"
    }
   ],
   "source": [
    "# range for cvgrid for max depths is 13-18 \n",
    "\n",
    "plt.title('Max Depths')\n",
    "plt.plot(depths,error_train, label='Training Set')\n",
    "plt.plot(depths,error_test, label='Testing Set')\n",
    "plt.xlabel('Number of Depths')\n",
    "plt.ylabel('Error (%)')\n",
    "plt.legend()"
   ]
  },
  {
   "cell_type": "code",
   "execution_count": 14,
   "metadata": {
    "executionInfo": {
     "elapsed": 4504,
     "status": "aborted",
     "timestamp": 1619975655541,
     "user": {
      "displayName": "Sum Yee Li",
      "photoUrl": "",
      "userId": "09269105382714030428"
     },
     "user_tz": -480
    },
    "id": "ihXobl-zBj-_"
   },
   "outputs": [
    {
     "name": "stdout",
     "output_type": "stream",
     "text": [
      "Training Set Min Error Rate: 0.000% at samples: 2\n",
      "Testing Set Error Rate: 5.802% at samples: 2\n"
     ]
    }
   ],
   "source": [
    "# check for overfitting (min sample split)\n",
    "\n",
    "split = [*range(2,11)]\n",
    "error_train = []\n",
    "error_test = []\n",
    "\n",
    "for i in split:\n",
    "    # 70% train data\n",
    "    model = tree.DecisionTreeClassifier(min_samples_split = i)\n",
    "    model = model.fit(train_x,train_y)\n",
    "    pred_y_train = model.predict(train_x)   \n",
    "    error_train.append(1-accuracy_score(train_y, pred_y_train, normalize=True, sample_weight=None))\n",
    "\n",
    "    # 30% test data\n",
    "    pred_y = model.predict(test_x)\n",
    "    error_test.append(1-accuracy_score(test_y, pred_y, normalize=True, sample_weight=None))\n",
    "\n",
    "print(\"Training Set Min Error Rate:\",\"{:.3%}\".format(min(error_train)),\"at samples:\",split[error_train.index(min(error_train))])\n",
    "print(\"Testing Set Error Rate:\",\"{:.3%}\".format(min(error_test)),\"at samples:\",split[error_test.index(min(error_test))])"
   ]
  },
  {
   "cell_type": "code",
   "execution_count": 15,
   "metadata": {
    "executionInfo": {
     "elapsed": 4487,
     "status": "aborted",
     "timestamp": 1619975655543,
     "user": {
      "displayName": "Sum Yee Li",
      "photoUrl": "",
      "userId": "09269105382714030428"
     },
     "user_tz": -480
    },
    "id": "aHGjEaHLBj_B"
   },
   "outputs": [
    {
     "data": {
      "text/plain": [
       "<matplotlib.legend.Legend at 0x186a291e860>"
      ]
     },
     "execution_count": 15,
     "metadata": {},
     "output_type": "execute_result"
    },
    {
     "data": {
      "image/png": "[encoded data removed]",
      "text/plain": [
       "<Figure size 432x288 with 1 Axes>"
      ]
     },
     "metadata": {},
     "output_type": "display_data"
    }
   ],
   "source": [
    "# range for cvgrid for min sample split is 2-4 \n",
    "\n",
    "plt.title('Min Sample Split')\n",
    "plt.plot(split,error_train, label='Training Set')\n",
    "plt.plot(split,error_test, label='Testing Set')\n",
    "plt.xlabel('Number of Samples')\n",
    "plt.ylabel('Error (%)')\n",
    "plt.legend()"
   ]
  },
  {
   "cell_type": "markdown",
   "metadata": {
    "id": "2CSmmmTlBj_D"
   },
   "source": [
    "### gridsearchcv"
   ]
  },
  {
   "cell_type": "code",
   "execution_count": 16,
   "metadata": {
    "executionInfo": {
     "elapsed": 4468,
     "status": "aborted",
     "timestamp": 1619975655546,
     "user": {
      "displayName": "Sum Yee Li",
      "photoUrl": "",
      "userId": "09269105382714030428"
     },
     "user_tz": -480
    },
    "id": "Dpmq-AhrBj_E"
   },
   "outputs": [
    {
     "data": {
      "text/plain": [
       "[{'criterion': ['gini', 'entropy'],\n",
       "  'max_depth': array([13, 14, 15, 16, 17, 18]),\n",
       "  'max_leaf_nodes': [150, 155, 160, 165, 170],\n",
       "  'min_samples_split': [2, 3, 4]}]"
      ]
     },
     "execution_count": 16,
     "metadata": {},
     "output_type": "execute_result"
    }
   ],
   "source": [
    "# define criterion\n",
    "\n",
    "crit = ['gini','entropy']\n",
    "\n",
    "# define max depths\n",
    "\n",
    "depths = np.arange(13, 19)\n",
    "\n",
    "# define max leaf nodes\n",
    "\n",
    "num_leafs = [150,155,160,165,170]\n",
    "\n",
    "# define the min sample split\n",
    "\n",
    "split = [2,3,4]\n",
    "\n",
    "# initiate grid\n",
    "\n",
    "try_grid = [{'criterion':crit,\n",
    "            'max_depth':depths,\n",
    "            'max_leaf_nodes':num_leafs,\n",
    "            'min_samples_split':split,\n",
    "            }]\n",
    "\n",
    "try_grid"
   ]
  },
  {
   "cell_type": "code",
   "execution_count": 17,
   "metadata": {
    "executionInfo": {
     "elapsed": 4463,
     "status": "aborted",
     "timestamp": 1619975655549,
     "user": {
      "displayName": "Sum Yee Li",
      "photoUrl": "",
      "userId": "09269105382714030428"
     },
     "user_tz": -480
    },
    "id": "yBkDRoQiBj_F"
   },
   "outputs": [],
   "source": [
    "# DT_model = GridSearchCV(tree.DecisionTreeClassifier(criterion = 'entropy'), param_grid=try_grid, cv=10)\n",
    "\n",
    "DT_model = GridSearchCV(tree.DecisionTreeClassifier(), param_grid=try_grid, cv=10)"
   ]
  },
  {
   "cell_type": "code",
   "execution_count": 18,
   "metadata": {
    "executionInfo": {
     "elapsed": 4448,
     "status": "aborted",
     "timestamp": 1619975655552,
     "user": {
      "displayName": "Sum Yee Li",
      "photoUrl": "",
      "userId": "09269105382714030428"
     },
     "user_tz": -480
    },
    "id": "vQ_GUyaFBj_G"
   },
   "outputs": [
    {
     "data": {
      "text/plain": [
       "GridSearchCV(cv=10, estimator=DecisionTreeClassifier(),\n",
       "             param_grid=[{'criterion': ['gini', 'entropy'],\n",
       "                          'max_depth': array([13, 14, 15, 16, 17, 18]),\n",
       "                          'max_leaf_nodes': [150, 155, 160, 165, 170],\n",
       "                          'min_samples_split': [2, 3, 4]}])"
      ]
     },
     "execution_count": 18,
     "metadata": {},
     "output_type": "execute_result"
    }
   ],
   "source": [
    "# fit the model with a combination of the parameters, this will take a while to run\n",
    "\n",
    "DT_model.fit(train_x,train_y)"
   ]
  },
  {
   "cell_type": "code",
   "execution_count": 19,
   "metadata": {
    "executionInfo": {
     "elapsed": 4437,
     "status": "aborted",
     "timestamp": 1619975655554,
     "user": {
      "displayName": "Sum Yee Li",
      "photoUrl": "",
      "userId": "09269105382714030428"
     },
     "user_tz": -480
    },
    "id": "OW4eaFEuBj_I"
   },
   "outputs": [
    {
     "data": {
      "text/plain": [
       "{'criterion': 'gini',\n",
       " 'max_depth': 18,\n",
       " 'max_leaf_nodes': 170,\n",
       " 'min_samples_split': 2}"
      ]
     },
     "execution_count": 19,
     "metadata": {},
     "output_type": "execute_result"
    }
   ],
   "source": [
    "# find the best parameters\n",
    "\n",
    "DT_model.best_params_"
   ]
  },
  {
   "cell_type": "code",
   "execution_count": 20,
   "metadata": {
    "executionInfo": {
     "elapsed": 4429,
     "status": "aborted",
     "timestamp": 1619975655556,
     "user": {
      "displayName": "Sum Yee Li",
      "photoUrl": "",
      "userId": "09269105382714030428"
     },
     "user_tz": -480
    },
    "id": "J9aG7-n2Bj_J"
   },
   "outputs": [
    {
     "data": {
      "text/plain": [
       "0.9248891601876246"
      ]
     },
     "execution_count": 20,
     "metadata": {},
     "output_type": "execute_result"
    }
   ],
   "source": [
    "DT_model.best_score_"
   ]
  },
  {
   "cell_type": "code",
   "execution_count": 21,
   "metadata": {
    "executionInfo": {
     "elapsed": 4423,
     "status": "aborted",
     "timestamp": 1619975655558,
     "user": {
      "displayName": "Sum Yee Li",
      "photoUrl": "",
      "userId": "09269105382714030428"
     },
     "user_tz": -480
    },
    "id": "KJvp8SgIBj_K"
   },
   "outputs": [
    {
     "data": {
      "text/plain": [
       "DecisionTreeClassifier(max_depth=17, max_leaf_nodes=170)"
      ]
     },
     "execution_count": 21,
     "metadata": {},
     "output_type": "execute_result"
    }
   ],
   "source": [
    "# pick the best model\n",
    "\n",
    "DT_model_best = tree.DecisionTreeClassifier(criterion = 'gini',\n",
    "                                            max_depth = 17, \n",
    "                                            max_leaf_nodes = 170,\n",
    "                                            min_samples_split = 2,\n",
    "                                            )\n",
    "\n",
    "DT_model_best.fit(train_x,train_y)"
   ]
  },
  {
   "cell_type": "code",
   "execution_count": 22,
   "metadata": {
    "executionInfo": {
     "elapsed": 4422,
     "status": "aborted",
     "timestamp": 1619975655560,
     "user": {
      "displayName": "Sum Yee Li",
      "photoUrl": "",
      "userId": "09269105382714030428"
     },
     "user_tz": -480
    },
    "id": "E4kqLi9RBj_L"
   },
   "outputs": [],
   "source": [
    "pred_y_2 = DT_model_best.predict(test_x)\n",
    "pred_prob_y_2 = DT_model_best.predict_proba(test_x)"
   ]
  },
  {
   "cell_type": "markdown",
   "metadata": {},
   "source": [
    "## Evaluation"
   ]
  },
  {
   "cell_type": "code",
   "execution_count": 23,
   "metadata": {
    "executionInfo": {
     "elapsed": 4416,
     "status": "aborted",
     "timestamp": 1619975655561,
     "user": {
      "displayName": "Sum Yee Li",
      "photoUrl": "",
      "userId": "09269105382714030428"
     },
     "user_tz": -480
    },
    "id": "T76Oc_07Bj_L"
   },
   "outputs": [
    {
     "name": "stdout",
     "output_type": "stream",
     "text": [
      "MAE: 0.0615748963883955\n",
      "Accuracy: 0.9384251036116045\n",
      "Classification Report: \n",
      "               precision    recall  f1-score   support\n",
      "\n",
      "           0       0.95      0.98      0.96      1414\n",
      "           1       0.87      0.73      0.79       275\n",
      "\n",
      "    accuracy                           0.94      1689\n",
      "   macro avg       0.91      0.85      0.88      1689\n",
      "weighted avg       0.94      0.94      0.94      1689\n",
      "\n",
      "Confusion Matrix: \n",
      " [[1385   29]\n",
      " [  75  200]]\n"
     ]
    }
   ],
   "source": [
    "# evaluate result\n",
    "\n",
    "print(\"MAE:\",mean_absolute_error(test_y, pred_y_2))\n",
    "print(\"Accuracy:\",accuracy_score(test_y, pred_y_2, normalize=True, sample_weight=None))\n",
    "print(\"Classification Report:\",'\\n',classification_report(test_y, pred_y_2))\n",
    "print(\"Confusion Matrix:\", '\\n', confusion_matrix(test_y, pred_y_2))"
   ]
  },
  {
   "cell_type": "markdown",
   "metadata": {
    "id": "3XYZAtxpBj_M"
   },
   "source": [
    "### Feature Importance Analysis - Decision Tree"
   ]
  },
  {
   "cell_type": "code",
   "execution_count": 24,
   "metadata": {
    "executionInfo": {
     "elapsed": 4405,
     "status": "aborted",
     "timestamp": 1619975655565,
     "user": {
      "displayName": "Sum Yee Li",
      "photoUrl": "",
      "userId": "09269105382714030428"
     },
     "user_tz": -480
    },
    "id": "a9rikEx-Bj_M",
    "jupyter": {
     "outputs_hidden": true
    }
   },
   "outputs": [
    {
     "name": "stdout",
     "output_type": "stream",
     "text": [
      "|--- feature_7 <= -1.04\n",
      "|   |--- feature_4 <= 0.50\n",
      "|   |   |--- feature_3 <= 4.50\n",
      "|   |   |   |--- feature_10 <= -0.86\n",
      "|   |   |   |   |--- feature_9 <= 0.22\n",
      "|   |   |   |   |   |--- feature_16 <= 0.50\n",
      "|   |   |   |   |   |   |--- feature_26 <= 0.50\n",
      "|   |   |   |   |   |   |   |--- feature_20 <= 0.50\n",
      "|   |   |   |   |   |   |   |   |--- class: 0\n",
      "|   |   |   |   |   |   |   |--- feature_20 >  0.50\n",
      "|   |   |   |   |   |   |   |   |--- feature_11 <= 0.08\n",
      "|   |   |   |   |   |   |   |   |   |--- class: 1\n",
      "|   |   |   |   |   |   |   |   |--- feature_11 >  0.08\n",
      "|   |   |   |   |   |   |   |   |   |--- class: 0\n",
      "|   |   |   |   |   |   |--- feature_26 >  0.50\n",
      "|   |   |   |   |   |   |   |--- feature_21 <= 0.50\n",
      "|   |   |   |   |   |   |   |   |--- feature_12 <= -0.77\n",
      "|   |   |   |   |   |   |   |   |   |--- feature_19 <= 0.50\n",
      "|   |   |   |   |   |   |   |   |   |   |--- class: 0\n",
      "|   |   |   |   |   |   |   |   |   |--- feature_19 >  0.50\n",
      "|   |   |   |   |   |   |   |   |   |   |--- class: 1\n",
      "|   |   |   |   |   |   |   |   |--- feature_12 >  -0.77\n",
      "|   |   |   |   |   |   |   |   |   |--- class: 0\n",
      "|   |   |   |   |   |   |   |--- feature_21 >  0.50\n",
      "|   |   |   |   |   |   |   |   |--- feature_11 <= -0.89\n",
      "|   |   |   |   |   |   |   |   |   |--- feature_3 <= 3.50\n",
      "|   |   |   |   |   |   |   |   |   |   |--- class: 0\n",
      "|   |   |   |   |   |   |   |   |   |--- feature_3 >  3.50\n",
      "|   |   |   |   |   |   |   |   |   |   |--- class: 1\n",
      "|   |   |   |   |   |   |   |   |--- feature_11 >  -0.89\n",
      "|   |   |   |   |   |   |   |   |   |--- feature_12 <= -1.35\n",
      "|   |   |   |   |   |   |   |   |   |   |--- class: 0\n",
      "|   |   |   |   |   |   |   |   |   |--- feature_12 >  -1.35\n",
      "|   |   |   |   |   |   |   |   |   |   |--- feature_11 <= 2.31\n",
      "|   |   |   |   |   |   |   |   |   |   |   |--- truncated branch of depth 2\n",
      "|   |   |   |   |   |   |   |   |   |   |--- feature_11 >  2.31\n",
      "|   |   |   |   |   |   |   |   |   |   |   |--- class: 0\n",
      "|   |   |   |   |   |--- feature_16 >  0.50\n",
      "|   |   |   |   |   |   |--- feature_1 <= 3.50\n",
      "|   |   |   |   |   |   |   |--- class: 0\n",
      "|   |   |   |   |   |   |--- feature_1 >  3.50\n",
      "|   |   |   |   |   |   |   |--- class: 1\n",
      "|   |   |   |   |--- feature_9 >  0.22\n",
      "|   |   |   |   |   |--- feature_24 <= 0.50\n",
      "|   |   |   |   |   |   |--- feature_11 <= 1.61\n",
      "|   |   |   |   |   |   |   |--- class: 1\n",
      "|   |   |   |   |   |   |--- feature_11 >  1.61\n",
      "|   |   |   |   |   |   |   |--- class: 0\n",
      "|   |   |   |   |   |--- feature_24 >  0.50\n",
      "|   |   |   |   |   |   |--- class: 0\n",
      "|   |   |   |--- feature_10 >  -0.86\n",
      "|   |   |   |   |--- feature_10 <= 1.11\n",
      "|   |   |   |   |   |--- feature_2 <= 2.50\n",
      "|   |   |   |   |   |   |--- feature_6 <= 8.50\n",
      "|   |   |   |   |   |   |   |--- class: 0\n",
      "|   |   |   |   |   |   |--- feature_6 >  8.50\n",
      "|   |   |   |   |   |   |   |--- class: 1\n",
      "|   |   |   |   |   |--- feature_2 >  2.50\n",
      "|   |   |   |   |   |   |--- feature_13 <= 0.50\n",
      "|   |   |   |   |   |   |   |--- feature_0 <= 1.50\n",
      "|   |   |   |   |   |   |   |   |--- feature_1 <= 5.50\n",
      "|   |   |   |   |   |   |   |   |   |--- class: 0\n",
      "|   |   |   |   |   |   |   |   |--- feature_1 >  5.50\n",
      "|   |   |   |   |   |   |   |   |   |--- feature_11 <= -0.34\n",
      "|   |   |   |   |   |   |   |   |   |   |--- class: 1\n",
      "|   |   |   |   |   |   |   |   |   |--- feature_11 >  -0.34\n",
      "|   |   |   |   |   |   |   |   |   |   |--- class: 0\n",
      "|   |   |   |   |   |   |   |--- feature_0 >  1.50\n",
      "|   |   |   |   |   |   |   |   |--- feature_11 <= 0.78\n",
      "|   |   |   |   |   |   |   |   |   |--- feature_12 <= -0.40\n",
      "|   |   |   |   |   |   |   |   |   |   |--- feature_11 <= -0.89\n",
      "|   |   |   |   |   |   |   |   |   |   |   |--- truncated branch of depth 2\n",
      "|   |   |   |   |   |   |   |   |   |   |--- feature_11 >  -0.89\n",
      "|   |   |   |   |   |   |   |   |   |   |   |--- class: 1\n",
      "|   |   |   |   |   |   |   |   |   |--- feature_12 >  -0.40\n",
      "|   |   |   |   |   |   |   |   |   |   |--- feature_2 <= 4.00\n",
      "|   |   |   |   |   |   |   |   |   |   |   |--- class: 0\n",
      "|   |   |   |   |   |   |   |   |   |   |--- feature_2 >  4.00\n",
      "|   |   |   |   |   |   |   |   |   |   |   |--- truncated branch of depth 3\n",
      "|   |   |   |   |   |   |   |   |--- feature_11 >  0.78\n",
      "|   |   |   |   |   |   |   |   |   |--- class: 0\n",
      "|   |   |   |   |   |   |--- feature_13 >  0.50\n",
      "|   |   |   |   |   |   |   |--- feature_28 <= 0.50\n",
      "|   |   |   |   |   |   |   |   |--- feature_0 <= 2.00\n",
      "|   |   |   |   |   |   |   |   |   |--- feature_1 <= 5.50\n",
      "|   |   |   |   |   |   |   |   |   |   |--- class: 1\n",
      "|   |   |   |   |   |   |   |   |   |--- feature_1 >  5.50\n",
      "|   |   |   |   |   |   |   |   |   |   |--- class: 0\n",
      "|   |   |   |   |   |   |   |   |--- feature_0 >  2.00\n",
      "|   |   |   |   |   |   |   |   |   |--- class: 0\n",
      "|   |   |   |   |   |   |   |--- feature_28 >  0.50\n",
      "|   |   |   |   |   |   |   |   |--- feature_25 <= 0.50\n",
      "|   |   |   |   |   |   |   |   |   |--- class: 0\n",
      "|   |   |   |   |   |   |   |   |--- feature_25 >  0.50\n",
      "|   |   |   |   |   |   |   |   |   |--- class: 1\n",
      "|   |   |   |   |--- feature_10 >  1.11\n",
      "|   |   |   |   |   |--- feature_28 <= 0.50\n",
      "|   |   |   |   |   |   |--- class: 1\n",
      "|   |   |   |   |   |--- feature_28 >  0.50\n",
      "|   |   |   |   |   |   |--- feature_19 <= 0.50\n",
      "|   |   |   |   |   |   |   |--- class: 0\n",
      "|   |   |   |   |   |   |--- feature_19 >  0.50\n",
      "|   |   |   |   |   |   |   |--- class: 1\n",
      "|   |   |--- feature_3 >  4.50\n",
      "|   |   |   |--- feature_2 <= 4.50\n",
      "|   |   |   |   |--- feature_11 <= 0.78\n",
      "|   |   |   |   |   |--- feature_12 <= -0.17\n",
      "|   |   |   |   |   |   |--- feature_1 <= 4.50\n",
      "|   |   |   |   |   |   |   |--- feature_13 <= 0.50\n",
      "|   |   |   |   |   |   |   |   |--- feature_8 <= -0.82\n",
      "|   |   |   |   |   |   |   |   |   |--- feature_12 <= -0.69\n",
      "|   |   |   |   |   |   |   |   |   |   |--- feature_10 <= -0.58\n",
      "|   |   |   |   |   |   |   |   |   |   |   |--- class: 0\n",
      "|   |   |   |   |   |   |   |   |   |   |--- feature_10 >  -0.58\n",
      "|   |   |   |   |   |   |   |   |   |   |   |--- class: 1\n",
      "|   |   |   |   |   |   |   |   |   |--- feature_12 >  -0.69\n",
      "|   |   |   |   |   |   |   |   |   |   |--- class: 1\n",
      "|   |   |   |   |   |   |   |   |--- feature_8 >  -0.82\n",
      "|   |   |   |   |   |   |   |   |   |--- feature_19 <= 0.50\n",
      "|   |   |   |   |   |   |   |   |   |   |--- class: 0\n",
      "|   |   |   |   |   |   |   |   |   |--- feature_19 >  0.50\n",
      "|   |   |   |   |   |   |   |   |   |   |--- class: 1\n",
      "|   |   |   |   |   |   |   |--- feature_13 >  0.50\n",
      "|   |   |   |   |   |   |   |   |--- class: 1\n",
      "|   |   |   |   |   |   |--- feature_1 >  4.50\n",
      "|   |   |   |   |   |   |   |--- feature_12 <= -0.19\n",
      "|   |   |   |   |   |   |   |   |--- class: 1\n",
      "|   |   |   |   |   |   |   |--- feature_12 >  -0.19\n",
      "|   |   |   |   |   |   |   |   |--- class: 0\n",
      "|   |   |   |   |   |--- feature_12 >  -0.17\n",
      "|   |   |   |   |   |   |--- class: 1\n",
      "|   |   |   |   |--- feature_11 >  0.78\n",
      "|   |   |   |   |   |--- class: 0\n",
      "|   |   |   |--- feature_2 >  4.50\n",
      "|   |   |   |   |--- feature_1 <= 2.50\n",
      "|   |   |   |   |   |--- class: 0\n",
      "|   |   |   |   |--- feature_1 >  2.50\n",
      "|   |   |   |   |   |--- feature_9 <= -0.98\n",
      "|   |   |   |   |   |   |--- feature_8 <= 0.82\n",
      "|   |   |   |   |   |   |   |--- class: 0\n",
      "|   |   |   |   |   |   |--- feature_8 >  0.82\n",
      "|   |   |   |   |   |   |   |--- class: 1\n",
      "|   |   |   |   |   |--- feature_9 >  -0.98\n",
      "|   |   |   |   |   |   |--- class: 1\n",
      "|   |--- feature_4 >  0.50\n",
      "|   |   |--- feature_3 <= 3.50\n",
      "|   |   |   |--- feature_10 <= -0.86\n",
      "|   |   |   |   |--- feature_1 <= 1.50\n",
      "|   |   |   |   |   |--- class: 0\n",
      "|   |   |   |   |--- feature_1 >  1.50\n",
      "|   |   |   |   |   |--- feature_12 <= -0.47\n",
      "|   |   |   |   |   |   |--- class: 1\n",
      "|   |   |   |   |   |--- feature_12 >  -0.47\n",
      "|   |   |   |   |   |   |--- feature_11 <= 0.08\n",
      "|   |   |   |   |   |   |   |--- class: 0\n",
      "|   |   |   |   |   |   |--- feature_11 >  0.08\n",
      "|   |   |   |   |   |   |   |--- class: 1\n",
      "|   |   |   |--- feature_10 >  -0.86\n",
      "|   |   |   |   |--- feature_10 <= 0.27\n",
      "|   |   |   |   |   |--- feature_24 <= 0.50\n",
      "|   |   |   |   |   |   |--- feature_11 <= 1.61\n",
      "|   |   |   |   |   |   |   |--- feature_0 <= 1.50\n",
      "|   |   |   |   |   |   |   |   |--- feature_2 <= 2.50\n",
      "|   |   |   |   |   |   |   |   |   |--- feature_1 <= 4.50\n",
      "|   |   |   |   |   |   |   |   |   |   |--- class: 0\n",
      "|   |   |   |   |   |   |   |   |   |--- feature_1 >  4.50\n",
      "|   |   |   |   |   |   |   |   |   |   |--- class: 1\n",
      "|   |   |   |   |   |   |   |   |--- feature_2 >  2.50\n",
      "|   |   |   |   |   |   |   |   |   |--- feature_2 <= 3.50\n",
      "|   |   |   |   |   |   |   |   |   |   |--- feature_13 <= 0.50\n",
      "|   |   |   |   |   |   |   |   |   |   |   |--- class: 1\n",
      "|   |   |   |   |   |   |   |   |   |   |--- feature_13 >  0.50\n",
      "|   |   |   |   |   |   |   |   |   |   |   |--- truncated branch of depth 3\n",
      "|   |   |   |   |   |   |   |   |   |--- feature_2 >  3.50\n",
      "|   |   |   |   |   |   |   |   |   |   |--- feature_15 <= 0.50\n",
      "|   |   |   |   |   |   |   |   |   |   |   |--- class: 0\n",
      "|   |   |   |   |   |   |   |   |   |   |--- feature_15 >  0.50\n",
      "|   |   |   |   |   |   |   |   |   |   |   |--- class: 1\n",
      "|   |   |   |   |   |   |   |--- feature_0 >  1.50\n",
      "|   |   |   |   |   |   |   |   |--- feature_2 <= 4.50\n",
      "|   |   |   |   |   |   |   |   |   |--- class: 1\n",
      "|   |   |   |   |   |   |   |   |--- feature_2 >  4.50\n",
      "|   |   |   |   |   |   |   |   |   |--- class: 0\n",
      "|   |   |   |   |   |   |--- feature_11 >  1.61\n",
      "|   |   |   |   |   |   |   |--- class: 1\n",
      "|   |   |   |   |   |--- feature_24 >  0.50\n",
      "|   |   |   |   |   |   |--- feature_10 <= -0.29\n",
      "|   |   |   |   |   |   |   |--- feature_12 <= -0.27\n",
      "|   |   |   |   |   |   |   |   |--- feature_3 <= 1.50\n",
      "|   |   |   |   |   |   |   |   |   |--- class: 1\n",
      "|   |   |   |   |   |   |   |   |--- feature_3 >  1.50\n",
      "|   |   |   |   |   |   |   |   |   |--- class: 0\n",
      "|   |   |   |   |   |   |   |--- feature_12 >  -0.27\n",
      "|   |   |   |   |   |   |   |   |--- class: 1\n",
      "|   |   |   |   |   |   |--- feature_10 >  -0.29\n",
      "|   |   |   |   |   |   |   |--- feature_5 <= 7.50\n",
      "|   |   |   |   |   |   |   |   |--- class: 0\n",
      "|   |   |   |   |   |   |   |--- feature_5 >  7.50\n",
      "|   |   |   |   |   |   |   |   |--- class: 1\n",
      "|   |   |   |   |--- feature_10 >  0.27\n",
      "|   |   |   |   |   |--- feature_12 <= 1.04\n",
      "|   |   |   |   |   |   |--- feature_9 <= -0.92\n",
      "|   |   |   |   |   |   |   |--- class: 0\n",
      "|   |   |   |   |   |   |--- feature_9 >  -0.92\n",
      "|   |   |   |   |   |   |   |--- class: 1\n",
      "|   |   |   |   |   |--- feature_12 >  1.04\n",
      "|   |   |   |   |   |   |--- class: 0\n",
      "|   |   |--- feature_3 >  3.50\n",
      "|   |   |   |--- feature_11 <= 0.78\n",
      "|   |   |   |   |--- class: 1\n",
      "|   |   |   |--- feature_11 >  0.78\n",
      "|   |   |   |   |--- feature_20 <= 0.50\n",
      "|   |   |   |   |   |--- feature_9 <= -0.56\n",
      "|   |   |   |   |   |   |--- feature_9 <= -0.98\n",
      "|   |   |   |   |   |   |   |--- class: 1\n",
      "|   |   |   |   |   |   |--- feature_9 >  -0.98\n",
      "|   |   |   |   |   |   |   |--- class: 0\n",
      "|   |   |   |   |   |--- feature_9 >  -0.56\n",
      "|   |   |   |   |   |   |--- class: 1\n",
      "|   |   |   |   |--- feature_20 >  0.50\n",
      "|   |   |   |   |   |--- class: 0\n",
      "|--- feature_7 >  -1.04\n",
      "|   |--- feature_12 <= -1.14\n",
      "|   |   |--- feature_4 <= 0.50\n",
      "|   |   |   |--- feature_10 <= -1.14\n",
      "|   |   |   |   |--- feature_0 <= 1.50\n",
      "|   |   |   |   |   |--- feature_28 <= 0.50\n",
      "|   |   |   |   |   |   |--- feature_14 <= 0.50\n",
      "|   |   |   |   |   |   |   |--- feature_15 <= 0.50\n",
      "|   |   |   |   |   |   |   |   |--- class: 0\n",
      "|   |   |   |   |   |   |   |--- feature_15 >  0.50\n",
      "|   |   |   |   |   |   |   |   |--- class: 1\n",
      "|   |   |   |   |   |   |--- feature_14 >  0.50\n",
      "|   |   |   |   |   |   |   |--- feature_8 <= -0.60\n",
      "|   |   |   |   |   |   |   |   |--- class: 1\n",
      "|   |   |   |   |   |   |   |--- feature_8 >  -0.60\n",
      "|   |   |   |   |   |   |   |   |--- feature_9 <= -0.86\n",
      "|   |   |   |   |   |   |   |   |   |--- class: 1\n",
      "|   |   |   |   |   |   |   |   |--- feature_9 >  -0.86\n",
      "|   |   |   |   |   |   |   |   |   |--- class: 0\n",
      "|   |   |   |   |   |--- feature_28 >  0.50\n",
      "|   |   |   |   |   |   |--- feature_3 <= 5.00\n",
      "|   |   |   |   |   |   |   |--- class: 0\n",
      "|   |   |   |   |   |   |--- feature_3 >  5.00\n",
      "|   |   |   |   |   |   |   |--- class: 1\n",
      "|   |   |   |   |--- feature_0 >  1.50\n",
      "|   |   |   |   |   |--- feature_7 <= 0.01\n",
      "|   |   |   |   |   |   |--- class: 1\n",
      "|   |   |   |   |   |--- feature_7 >  0.01\n",
      "|   |   |   |   |   |   |--- class: 0\n",
      "|   |   |   |--- feature_10 >  -1.14\n",
      "|   |   |   |   |--- feature_1 <= 3.50\n",
      "|   |   |   |   |   |--- class: 0\n",
      "|   |   |   |   |--- feature_1 >  3.50\n",
      "|   |   |   |   |   |--- class: 0\n",
      "|   |   |--- feature_4 >  0.50\n",
      "|   |   |   |--- feature_2 <= 2.00\n",
      "|   |   |   |   |--- feature_7 <= 0.01\n",
      "|   |   |   |   |   |--- class: 0\n",
      "|   |   |   |   |--- feature_7 >  0.01\n",
      "|   |   |   |   |   |--- class: 1\n",
      "|   |   |   |--- feature_2 >  2.00\n",
      "|   |   |   |   |--- feature_9 <= -1.04\n",
      "|   |   |   |   |   |--- class: 0\n",
      "|   |   |   |   |--- feature_9 >  -1.04\n",
      "|   |   |   |   |   |--- class: 1\n",
      "|   |--- feature_12 >  -1.14\n",
      "|   |   |--- feature_4 <= 0.50\n",
      "|   |   |   |--- feature_5 <= 6.50\n",
      "|   |   |   |   |--- feature_22 <= 0.50\n",
      "|   |   |   |   |   |--- feature_6 <= 13.50\n",
      "|   |   |   |   |   |   |--- feature_10 <= -0.86\n",
      "|   |   |   |   |   |   |   |--- feature_11 <= 2.45\n",
      "|   |   |   |   |   |   |   |   |--- feature_12 <= -1.04\n",
      "|   |   |   |   |   |   |   |   |   |--- feature_11 <= 1.61\n",
      "|   |   |   |   |   |   |   |   |   |   |--- feature_9 <= 1.60\n",
      "|   |   |   |   |   |   |   |   |   |   |   |--- truncated branch of depth 2\n",
      "|   |   |   |   |   |   |   |   |   |   |--- feature_9 >  1.60\n",
      "|   |   |   |   |   |   |   |   |   |   |   |--- class: 1\n",
      "|   |   |   |   |   |   |   |   |   |--- feature_11 >  1.61\n",
      "|   |   |   |   |   |   |   |   |   |   |--- class: 1\n",
      "|   |   |   |   |   |   |   |   |--- feature_12 >  -1.04\n",
      "|   |   |   |   |   |   |   |   |   |--- class: 0\n",
      "|   |   |   |   |   |   |   |--- feature_11 >  2.45\n",
      "|   |   |   |   |   |   |   |   |--- class: 1\n",
      "|   |   |   |   |   |   |--- feature_10 >  -0.86\n",
      "|   |   |   |   |   |   |   |--- class: 0\n",
      "|   |   |   |   |   |--- feature_6 >  13.50\n",
      "|   |   |   |   |   |   |--- feature_7 <= 0.34\n",
      "|   |   |   |   |   |   |   |--- class: 1\n",
      "|   |   |   |   |   |   |--- feature_7 >  0.34\n",
      "|   |   |   |   |   |   |   |--- class: 0\n",
      "|   |   |   |   |--- feature_22 >  0.50\n",
      "|   |   |   |   |   |--- feature_2 <= 2.50\n",
      "|   |   |   |   |   |   |--- feature_9 <= -0.26\n",
      "|   |   |   |   |   |   |   |--- feature_17 <= 0.50\n",
      "|   |   |   |   |   |   |   |   |--- class: 0\n",
      "|   |   |   |   |   |   |   |--- feature_17 >  0.50\n",
      "|   |   |   |   |   |   |   |   |--- feature_10 <= -0.22\n",
      "|   |   |   |   |   |   |   |   |   |--- class: 0\n",
      "|   |   |   |   |   |   |   |   |--- feature_10 >  -0.22\n",
      "|   |   |   |   |   |   |   |   |   |--- class: 1\n",
      "|   |   |   |   |   |   |--- feature_9 >  -0.26\n",
      "|   |   |   |   |   |   |   |--- feature_20 <= 0.50\n",
      "|   |   |   |   |   |   |   |   |--- feature_3 <= 4.50\n",
      "|   |   |   |   |   |   |   |   |   |--- feature_1 <= 4.50\n",
      "|   |   |   |   |   |   |   |   |   |   |--- feature_27 <= 0.50\n",
      "|   |   |   |   |   |   |   |   |   |   |   |--- class: 0\n",
      "|   |   |   |   |   |   |   |   |   |   |--- feature_27 >  0.50\n",
      "|   |   |   |   |   |   |   |   |   |   |   |--- class: 1\n",
      "|   |   |   |   |   |   |   |   |   |--- feature_1 >  4.50\n",
      "|   |   |   |   |   |   |   |   |   |   |--- feature_9 <= 0.22\n",
      "|   |   |   |   |   |   |   |   |   |   |   |--- class: 1\n",
      "|   |   |   |   |   |   |   |   |   |   |--- feature_9 >  0.22\n",
      "|   |   |   |   |   |   |   |   |   |   |   |--- class: 0\n",
      "|   |   |   |   |   |   |   |   |--- feature_3 >  4.50\n",
      "|   |   |   |   |   |   |   |   |   |--- class: 0\n",
      "|   |   |   |   |   |   |   |--- feature_20 >  0.50\n",
      "|   |   |   |   |   |   |   |   |--- feature_13 <= 0.50\n",
      "|   |   |   |   |   |   |   |   |   |--- class: 1\n",
      "|   |   |   |   |   |   |   |   |--- feature_13 >  0.50\n",
      "|   |   |   |   |   |   |   |   |   |--- class: 0\n",
      "|   |   |   |   |   |--- feature_2 >  2.50\n",
      "|   |   |   |   |   |   |--- feature_3 <= 5.50\n",
      "|   |   |   |   |   |   |   |--- class: 0\n",
      "|   |   |   |   |   |   |--- feature_3 >  5.50\n",
      "|   |   |   |   |   |   |   |--- feature_0 <= 1.50\n",
      "|   |   |   |   |   |   |   |   |--- class: 0\n",
      "|   |   |   |   |   |   |   |--- feature_0 >  1.50\n",
      "|   |   |   |   |   |   |   |   |--- feature_7 <= 0.04\n",
      "|   |   |   |   |   |   |   |   |   |--- feature_2 <= 3.50\n",
      "|   |   |   |   |   |   |   |   |   |   |--- class: 0\n",
      "|   |   |   |   |   |   |   |   |   |--- feature_2 >  3.50\n",
      "|   |   |   |   |   |   |   |   |   |   |--- class: 1\n",
      "|   |   |   |   |   |   |   |   |--- feature_7 >  0.04\n",
      "|   |   |   |   |   |   |   |   |   |--- class: 0\n",
      "|   |   |   |--- feature_5 >  6.50\n",
      "|   |   |   |   |--- feature_7 <= -0.56\n",
      "|   |   |   |   |   |--- feature_12 <= 0.31\n",
      "|   |   |   |   |   |   |--- class: 0\n",
      "|   |   |   |   |   |--- feature_12 >  0.31\n",
      "|   |   |   |   |   |   |--- feature_22 <= 0.50\n",
      "|   |   |   |   |   |   |   |--- class: 1\n",
      "|   |   |   |   |   |   |--- feature_22 >  0.50\n",
      "|   |   |   |   |   |   |   |--- class: 0\n",
      "|   |   |   |   |--- feature_7 >  -0.56\n",
      "|   |   |   |   |   |--- feature_16 <= 0.50\n",
      "|   |   |   |   |   |   |--- class: 0\n",
      "|   |   |   |   |   |--- feature_16 >  0.50\n",
      "|   |   |   |   |   |   |--- feature_10 <= 1.11\n",
      "|   |   |   |   |   |   |   |--- class: 0\n",
      "|   |   |   |   |   |   |--- feature_10 >  1.11\n",
      "|   |   |   |   |   |   |   |--- class: 1\n",
      "|   |   |--- feature_4 >  0.50\n",
      "|   |   |   |--- feature_10 <= -0.86\n",
      "|   |   |   |   |--- feature_7 <= -0.56\n",
      "|   |   |   |   |   |--- feature_2 <= 2.50\n",
      "|   |   |   |   |   |   |--- feature_24 <= 0.50\n",
      "|   |   |   |   |   |   |   |--- feature_3 <= 4.00\n",
      "|   |   |   |   |   |   |   |   |--- class: 0\n",
      "|   |   |   |   |   |   |   |--- feature_3 >  4.00\n",
      "|   |   |   |   |   |   |   |   |--- class: 1\n",
      "|   |   |   |   |   |   |--- feature_24 >  0.50\n",
      "|   |   |   |   |   |   |   |--- class: 0\n",
      "|   |   |   |   |   |--- feature_2 >  2.50\n",
      "|   |   |   |   |   |   |--- feature_3 <= 2.50\n",
      "|   |   |   |   |   |   |   |--- class: 0\n",
      "|   |   |   |   |   |   |--- feature_3 >  2.50\n",
      "|   |   |   |   |   |   |   |--- class: 1\n",
      "|   |   |   |   |--- feature_7 >  -0.56\n",
      "|   |   |   |   |   |--- feature_13 <= 0.50\n",
      "|   |   |   |   |   |   |--- feature_9 <= 2.02\n",
      "|   |   |   |   |   |   |   |--- feature_9 <= -0.98\n",
      "|   |   |   |   |   |   |   |   |--- feature_21 <= 0.50\n",
      "|   |   |   |   |   |   |   |   |   |--- class: 0\n",
      "|   |   |   |   |   |   |   |   |--- feature_21 >  0.50\n",
      "|   |   |   |   |   |   |   |   |   |--- class: 1\n",
      "|   |   |   |   |   |   |   |--- feature_9 >  -0.98\n",
      "|   |   |   |   |   |   |   |   |--- class: 0\n",
      "|   |   |   |   |   |   |--- feature_9 >  2.02\n",
      "|   |   |   |   |   |   |   |--- class: 1\n",
      "|   |   |   |   |   |--- feature_13 >  0.50\n",
      "|   |   |   |   |   |   |--- feature_18 <= 0.50\n",
      "|   |   |   |   |   |   |   |--- feature_11 <= -0.89\n",
      "|   |   |   |   |   |   |   |   |--- class: 0\n",
      "|   |   |   |   |   |   |   |--- feature_11 >  -0.89\n",
      "|   |   |   |   |   |   |   |   |--- feature_11 <= 2.17\n",
      "|   |   |   |   |   |   |   |   |   |--- class: 1\n",
      "|   |   |   |   |   |   |   |   |--- feature_11 >  2.17\n",
      "|   |   |   |   |   |   |   |   |   |--- class: 0\n",
      "|   |   |   |   |   |   |--- feature_18 >  0.50\n",
      "|   |   |   |   |   |   |   |--- class: 0\n",
      "|   |   |   |--- feature_10 >  -0.86\n",
      "|   |   |   |   |--- feature_0 <= 2.50\n",
      "|   |   |   |   |   |--- feature_12 <= -1.08\n",
      "|   |   |   |   |   |   |--- feature_6 <= 1.50\n",
      "|   |   |   |   |   |   |   |--- feature_9 <= 0.94\n",
      "|   |   |   |   |   |   |   |   |--- class: 0\n",
      "|   |   |   |   |   |   |   |--- feature_9 >  0.94\n",
      "|   |   |   |   |   |   |   |   |--- class: 1\n",
      "|   |   |   |   |   |   |--- feature_6 >  1.50\n",
      "|   |   |   |   |   |   |   |--- feature_7 <= 0.20\n",
      "|   |   |   |   |   |   |   |   |--- feature_6 <= 4.50\n",
      "|   |   |   |   |   |   |   |   |   |--- class: 1\n",
      "|   |   |   |   |   |   |   |   |--- feature_6 >  4.50\n",
      "|   |   |   |   |   |   |   |   |   |--- class: 0\n",
      "|   |   |   |   |   |   |   |--- feature_7 >  0.20\n",
      "|   |   |   |   |   |   |   |   |--- class: 0\n",
      "|   |   |   |   |   |--- feature_12 >  -1.08\n",
      "|   |   |   |   |   |   |--- feature_9 <= 2.38\n",
      "|   |   |   |   |   |   |   |--- feature_3 <= 7.50\n",
      "|   |   |   |   |   |   |   |   |--- class: 0\n",
      "|   |   |   |   |   |   |   |--- feature_3 >  7.50\n",
      "|   |   |   |   |   |   |   |   |--- feature_6 <= 2.50\n",
      "|   |   |   |   |   |   |   |   |   |--- class: 0\n",
      "|   |   |   |   |   |   |   |   |--- feature_6 >  2.50\n",
      "|   |   |   |   |   |   |   |   |   |--- feature_26 <= 0.50\n",
      "|   |   |   |   |   |   |   |   |   |   |--- feature_9 <= -0.86\n",
      "|   |   |   |   |   |   |   |   |   |   |   |--- class: 1\n",
      "|   |   |   |   |   |   |   |   |   |   |--- feature_9 >  -0.86\n",
      "|   |   |   |   |   |   |   |   |   |   |   |--- truncated branch of depth 3\n",
      "|   |   |   |   |   |   |   |   |   |--- feature_26 >  0.50\n",
      "|   |   |   |   |   |   |   |   |   |   |--- class: 1\n",
      "|   |   |   |   |   |   |--- feature_9 >  2.38\n",
      "|   |   |   |   |   |   |   |--- feature_3 <= 4.50\n",
      "|   |   |   |   |   |   |   |   |--- class: 1\n",
      "|   |   |   |   |   |   |   |--- feature_3 >  4.50\n",
      "|   |   |   |   |   |   |   |   |--- class: 0\n",
      "|   |   |   |   |--- feature_0 >  2.50\n",
      "|   |   |   |   |   |--- feature_28 <= 0.50\n",
      "|   |   |   |   |   |   |--- feature_2 <= 2.50\n",
      "|   |   |   |   |   |   |   |--- feature_3 <= 8.50\n",
      "|   |   |   |   |   |   |   |   |--- class: 0\n",
      "|   |   |   |   |   |   |   |--- feature_3 >  8.50\n",
      "|   |   |   |   |   |   |   |   |--- feature_9 <= -0.62\n",
      "|   |   |   |   |   |   |   |   |   |--- class: 1\n",
      "|   |   |   |   |   |   |   |   |--- feature_9 >  -0.62\n",
      "|   |   |   |   |   |   |   |   |   |--- class: 0\n",
      "|   |   |   |   |   |   |--- feature_2 >  2.50\n",
      "|   |   |   |   |   |   |   |--- feature_27 <= 0.50\n",
      "|   |   |   |   |   |   |   |   |--- feature_3 <= 5.50\n",
      "|   |   |   |   |   |   |   |   |   |--- feature_7 <= 0.08\n",
      "|   |   |   |   |   |   |   |   |   |   |--- feature_24 <= 0.50\n",
      "|   |   |   |   |   |   |   |   |   |   |   |--- truncated branch of depth 2\n",
      "|   |   |   |   |   |   |   |   |   |   |--- feature_24 >  0.50\n",
      "|   |   |   |   |   |   |   |   |   |   |   |--- truncated branch of depth 2\n",
      "|   |   |   |   |   |   |   |   |   |--- feature_7 >  0.08\n",
      "|   |   |   |   |   |   |   |   |   |   |--- class: 0\n",
      "|   |   |   |   |   |   |   |   |--- feature_3 >  5.50\n",
      "|   |   |   |   |   |   |   |   |   |--- class: 1\n",
      "|   |   |   |   |   |   |   |--- feature_27 >  0.50\n",
      "|   |   |   |   |   |   |   |   |--- feature_26 <= 0.50\n",
      "|   |   |   |   |   |   |   |   |   |--- feature_13 <= 0.50\n",
      "|   |   |   |   |   |   |   |   |   |   |--- class: 0\n",
      "|   |   |   |   |   |   |   |   |   |--- feature_13 >  0.50\n",
      "|   |   |   |   |   |   |   |   |   |   |--- feature_3 <= 6.00\n",
      "|   |   |   |   |   |   |   |   |   |   |   |--- class: 1\n",
      "|   |   |   |   |   |   |   |   |   |   |--- feature_3 >  6.00\n",
      "|   |   |   |   |   |   |   |   |   |   |   |--- class: 0\n",
      "|   |   |   |   |   |   |   |   |--- feature_26 >  0.50\n",
      "|   |   |   |   |   |   |   |   |   |--- class: 1\n",
      "|   |   |   |   |   |--- feature_28 >  0.50\n",
      "|   |   |   |   |   |   |--- feature_25 <= 0.50\n",
      "|   |   |   |   |   |   |   |--- feature_26 <= 0.50\n",
      "|   |   |   |   |   |   |   |   |--- class: 0\n",
      "|   |   |   |   |   |   |   |--- feature_26 >  0.50\n",
      "|   |   |   |   |   |   |   |   |--- feature_12 <= -0.53\n",
      "|   |   |   |   |   |   |   |   |   |--- class: 0\n",
      "|   |   |   |   |   |   |   |   |--- feature_12 >  -0.53\n",
      "|   |   |   |   |   |   |   |   |   |--- class: 1\n",
      "|   |   |   |   |   |   |--- feature_25 >  0.50\n",
      "|   |   |   |   |   |   |   |--- feature_16 <= 0.50\n",
      "|   |   |   |   |   |   |   |   |--- class: 1\n",
      "|   |   |   |   |   |   |   |--- feature_16 >  0.50\n",
      "|   |   |   |   |   |   |   |   |--- class: 0\n",
      "\n"
     ]
    }
   ],
   "source": [
    "text_representation = tree.export_text(DT_model_best)\n",
    "print(text_representation)"
   ]
  },
  {
   "cell_type": "code",
   "execution_count": 25,
   "metadata": {
    "executionInfo": {
     "elapsed": 4399,
     "status": "aborted",
     "timestamp": 1619975655567,
     "user": {
      "displayName": "Sum Yee Li",
      "photoUrl": "",
      "userId": "09269105382714030428"
     },
     "user_tz": -480
    },
    "id": "YDVG5qx_Bj_N"
   },
   "outputs": [
    {
     "name": "stdout",
     "output_type": "stream",
     "text": [
      "The most informative features are Tenure_zscore, Complain and CashbackAmount_zscore\n"
     ]
    }
   ],
   "source": [
    "# Feature 7, 4, 12 are the most informative features according to the decision tree text representation.\n",
    "\n",
    "print('The most informative features are {}, {} and {}'.format(train_x.columns[7], train_x.columns[4],train_x.columns[12]))"
   ]
  },
  {
   "cell_type": "markdown",
   "metadata": {
    "id": "5uXT0ppOBj_O"
   },
   "source": [
    "### Precision-Recall Curve"
   ]
  },
  {
   "cell_type": "code",
   "execution_count": 26,
   "metadata": {
    "executionInfo": {
     "elapsed": 4397,
     "status": "aborted",
     "timestamp": 1619975655569,
     "user": {
      "displayName": "Sum Yee Li",
      "photoUrl": "",
      "userId": "09269105382714030428"
     },
     "user_tz": -480
    },
    "id": "CeGlmzlpBj_O"
   },
   "outputs": [],
   "source": [
    "# array the test_y\n",
    "\n",
    "test_y_array = np.array(test_y)"
   ]
  },
  {
   "cell_type": "code",
   "execution_count": 27,
   "metadata": {
    "executionInfo": {
     "elapsed": 4397,
     "status": "aborted",
     "timestamp": 1619975655572,
     "user": {
      "displayName": "Sum Yee Li",
      "photoUrl": "",
      "userId": "09269105382714030428"
     },
     "user_tz": -480
    },
    "id": "W6_cRvAFBj_P"
   },
   "outputs": [],
   "source": [
    "# precision-recall curve\n",
    "\n",
    "precision1, recall1, threshold1 = precision_recall_curve(test_y_array, pred_prob_y[:,1])\n",
    "precision2, recall2, threshold2 = precision_recall_curve(test_y_array, pred_prob_y_2[:,1])"
   ]
  },
  {
   "cell_type": "code",
   "execution_count": 28,
   "metadata": {
    "executionInfo": {
     "elapsed": 4392,
     "status": "aborted",
     "timestamp": 1619975655576,
     "user": {
      "displayName": "Sum Yee Li",
      "photoUrl": "",
      "userId": "09269105382714030428"
     },
     "user_tz": -480
    },
    "id": "8Z7ezwpgBj_P"
   },
   "outputs": [
    {
     "data": {
      "text/plain": [
       "<matplotlib.legend.Legend at 0x186a29d1ac8>"
      ]
     },
     "execution_count": 28,
     "metadata": {},
     "output_type": "execute_result"
    },
    {
     "data": {
      "image/png": "[encoded data removed]",
      "text/plain": [
       "<Figure size 432x288 with 1 Axes>"
      ]
     },
     "metadata": {},
     "output_type": "display_data"
    }
   ],
   "source": [
    "plt.plot(precision1,recall1, label='baseline') #baseline\n",
    "plt.plot(precision2,recall2, label='revised model') #cvgrid new model\n",
    "plt.legend()"
   ]
  },
  {
   "cell_type": "markdown",
   "metadata": {
    "id": "evmX1M25Bj_Q"
   },
   "source": [
    "### ROC / AUC Curve"
   ]
  },
  {
   "cell_type": "code",
   "execution_count": 29,
   "metadata": {
    "executionInfo": {
     "elapsed": 4398,
     "status": "aborted",
     "timestamp": 1619975655587,
     "user": {
      "displayName": "Sum Yee Li",
      "photoUrl": "",
      "userId": "09269105382714030428"
     },
     "user_tz": -480
    },
    "id": "clbbhsgWBj_R"
   },
   "outputs": [],
   "source": [
    "# ROC\n",
    "\n",
    "fpr1, tpr1, threshold3 = metrics.roc_curve(test_y_array, pred_prob_y[:,1],pos_label=1)\n",
    "fpr2, tpr2, threshold4 = metrics.roc_curve(test_y_array, pred_prob_y_2[:,1],pos_label=1)"
   ]
  },
  {
   "cell_type": "code",
   "execution_count": 30,
   "metadata": {
    "executionInfo": {
     "elapsed": 4391,
     "status": "aborted",
     "timestamp": 1619975655589,
     "user": {
      "displayName": "Sum Yee Li",
      "photoUrl": "",
      "userId": "09269105382714030428"
     },
     "user_tz": -480
    },
    "id": "y258ZBcPBj_S"
   },
   "outputs": [
    {
     "data": {
      "text/plain": [
       "<matplotlib.legend.Legend at 0x186a2abae48>"
      ]
     },
     "execution_count": 30,
     "metadata": {},
     "output_type": "execute_result"
    },
    {
     "data": {
      "image/png": "[encoded data removed]",
      "text/plain": [
       "<Figure size 432x288 with 1 Axes>"
      ]
     },
     "metadata": {},
     "output_type": "display_data"
    }
   ],
   "source": [
    "plt.plot(fpr1,tpr1, label='baseline') #baseline\n",
    "plt.plot(fpr2,tpr2, label='revised model') #cvgrid new model\n",
    "plt.legend()"
   ]
  },
  {
   "cell_type": "code",
   "execution_count": 31,
   "metadata": {
    "executionInfo": {
     "elapsed": 4382,
     "status": "aborted",
     "timestamp": 1619975655590,
     "user": {
      "displayName": "Sum Yee Li",
      "photoUrl": "",
      "userId": "09269105382714030428"
     },
     "user_tz": -480
    },
    "id": "uEOtmmxWBj_S"
   },
   "outputs": [
    {
     "data": {
      "text/plain": [
       "0.8906030603060306"
      ]
     },
     "execution_count": 31,
     "metadata": {},
     "output_type": "execute_result"
    }
   ],
   "source": [
    "# AUC - baseline\n",
    "\n",
    "metrics.auc(fpr1, tpr1)"
   ]
  },
  {
   "cell_type": "code",
   "execution_count": 32,
   "metadata": {
    "executionInfo": {
     "elapsed": 4375,
     "status": "aborted",
     "timestamp": 1619975655591,
     "user": {
      "displayName": "Sum Yee Li",
      "photoUrl": "",
      "userId": "09269105382714030428"
     },
     "user_tz": -480
    },
    "id": "E_zzaCMvBj_T"
   },
   "outputs": [
    {
     "data": {
      "text/plain": [
       "0.8706956409926707"
      ]
     },
     "execution_count": 32,
     "metadata": {},
     "output_type": "execute_result"
    }
   ],
   "source": [
    "# AUC - revised model\n",
    "\n",
    "metrics.auc(fpr2, tpr2)"
   ]
  },
  {
   "cell_type": "markdown",
   "metadata": {
    "id": "VRJQxvkOBj_U"
   },
   "source": [
    "### Cost Sensitive Analysis"
   ]
  },
  {
   "cell_type": "code",
   "execution_count": 33,
   "metadata": {
    "executionInfo": {
     "elapsed": 4373,
     "status": "aborted",
     "timestamp": 1619975655593,
     "user": {
      "displayName": "Sum Yee Li",
      "photoUrl": "",
      "userId": "09269105382714030428"
     },
     "user_tz": -480
    },
    "id": "zO0E8ZXoBj_U"
   },
   "outputs": [],
   "source": [
    "# Cost function used: Cost= FP x (1) + FN x (25)"
   ]
  },
  {
   "cell_type": "code",
   "execution_count": 34,
   "metadata": {
    "executionInfo": {
     "elapsed": 4363,
     "status": "aborted",
     "timestamp": 1619975655594,
     "user": {
      "displayName": "Sum Yee Li",
      "photoUrl": "",
      "userId": "09269105382714030428"
     },
     "user_tz": -480
    },
    "id": "7zS_L9owBj_U",
    "jupyter": {
     "outputs_hidden": true
    }
   },
   "outputs": [
    {
     "data": {
      "text/plain": [
       "[2.0,\n",
       " 1.0,\n",
       " 0.96,\n",
       " 0.9555555555555556,\n",
       " 0.9552238805970149,\n",
       " 0.95,\n",
       " 0.9375,\n",
       " 0.9285714285714286,\n",
       " 0.3333333333333333,\n",
       " 0.125,\n",
       " 0.11764705882352941,\n",
       " 0.1,\n",
       " 0.08421052631578947,\n",
       " 0.06451612903225806,\n",
       " 0.0625,\n",
       " 0.05263157894736842,\n",
       " 0.0425531914893617,\n",
       " 0.041666666666666664,\n",
       " 0.036101083032490974,\n",
       " 0.03225806451612903,\n",
       " 0.02247191011235955,\n",
       " 0.014603616133518776,\n",
       " 0.011111111111111112,\n",
       " 0.0]"
      ]
     },
     "execution_count": 34,
     "metadata": {},
     "output_type": "execute_result"
    }
   ],
   "source": [
    "# converting the fpr, tpr, threshold arrays obtained previously to lists for easier manipulation\n",
    "\n",
    "fpr2.tolist()\n",
    "tpr2.tolist()\n",
    "threshold4.tolist()"
   ]
  },
  {
   "cell_type": "code",
   "execution_count": 35,
   "metadata": {
    "executionInfo": {
     "elapsed": 4360,
     "status": "aborted",
     "timestamp": 1619975655595,
     "user": {
      "displayName": "Sum Yee Li",
      "photoUrl": "",
      "userId": "09269105382714030428"
     },
     "user_tz": -480
    },
    "id": "rA6-MOL2Bj_V"
   },
   "outputs": [],
   "source": [
    "# calculate the cost for each thresholds and compile them into a list \n",
    "\n",
    "costlist2=[]\n",
    "fnr2=[]\n",
    "for fpr,tpr,thres in zip(fpr2[1:], tpr2[1:], threshold4[1:]):\n",
    "    fnr=1-tpr\n",
    "    fnr2.append(fnr)\n",
    "    cost=((fpr*(1414)*1)+(fnr*275*25))\n",
    "    costlist2.append(cost)"
   ]
  },
  {
   "cell_type": "code",
   "execution_count": 36,
   "metadata": {
    "executionInfo": {
     "elapsed": 4351,
     "status": "aborted",
     "timestamp": 1619975655596,
     "user": {
      "displayName": "Sum Yee Li",
      "photoUrl": "",
      "userId": "09269105382714030428"
     },
     "user_tz": -480
    },
    "id": "aNlwRB--Bj_V"
   },
   "outputs": [
    {
     "data": {
      "text/plain": [
       "[<matplotlib.lines.Line2D at 0x186a2a2bac8>]"
      ]
     },
     "execution_count": 36,
     "metadata": {},
     "output_type": "execute_result"
    },
    {
     "data": {
      "image/png": "[encoded data removed]",
      "text/plain": [
       "<Figure size 432x288 with 1 Axes>"
      ]
     },
     "metadata": {},
     "output_type": "display_data"
    }
   ],
   "source": [
    "# plot the cost curve\n",
    "\n",
    "plt.plot(threshold4[1:],costlist2, label='baseline')"
   ]
  },
  {
   "cell_type": "code",
   "execution_count": 37,
   "metadata": {
    "executionInfo": {
     "elapsed": 4344,
     "status": "aborted",
     "timestamp": 1619975655598,
     "user": {
      "displayName": "Sum Yee Li",
      "photoUrl": "",
      "userId": "09269105382714030428"
     },
     "user_tz": -480
    },
    "id": "M0QqpOwYBj_W"
   },
   "outputs": [
    {
     "name": "stdout",
     "output_type": "stream",
     "text": [
      "The best performing threshold is 0.0 with a minimum cost of 1414.0 .\n"
     ]
    }
   ],
   "source": [
    "# find the minimum cost from the cost curve and its corresponding threshold\n",
    "\n",
    "newlist=[]\n",
    "for m, n in zip(threshold4[1:],costlist2):\n",
    "    newlist.append([m,n])\n",
    "a,b=newlist[costlist2.index(min(costlist2))]\n",
    "print(\"The best performing threshold is\",a,\"with a minimum cost of\",b,\".\")"
   ]
  }
 ],
 "metadata": {
  "colab": {
   "name": "Ecommerce - ML (Decision Tree) with feature importance and cost sensitivity analysis.ipynb",
   "provenance": []
  },
  "kernelspec": {
   "display_name": "Python 3",
   "language": "python",
   "name": "python3"
  },
  "language_info": {
   "codemirror_mode": {
    "name": "ipython",
    "version": 3
   },
   "file_extension": ".py",
   "mimetype": "text/x-python",
   "name": "python",
   "nbconvert_exporter": "python",
   "pygments_lexer": "ipython3",
   "version": "3.6.5"
  }
 },
 "nbformat": 4,
 "nbformat_minor": 1
}
